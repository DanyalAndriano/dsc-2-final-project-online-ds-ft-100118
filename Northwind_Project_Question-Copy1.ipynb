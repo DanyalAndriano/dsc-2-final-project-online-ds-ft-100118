{
 "cells": [
  {
   "cell_type": "markdown",
   "metadata": {},
   "source": [
    "# Module 2 Final Project - How Does Discount Impact Sales? \n",
    "\n",
    "\n",
    "### Northwind Database\n",
    "\n",
    "<img src='Northwind_ERD.png'>"
   ]
  },
  {
   "cell_type": "code",
   "execution_count": 1,
   "metadata": {},
   "outputs": [],
   "source": [
    "import sqlalchemy\n",
    "from sqlalchemy import create_engine\n",
    "from sqlalchemy.orm import Session, sessionmaker\n",
    "from sqlalchemy import inspect\n",
    "from sqlalchemy import MetaData\n",
    "from sqlalchemy.ext.automap import automap_base\n",
    "import pandas as pd\n",
    "\n",
    "import matplotlib.pyplot as plt\n",
    "import seaborn as sns\n",
    "from matplotlib.colors import ListedColormap\n",
    "import pylab\n",
    "%matplotlib inline\n",
    "\n",
    "from IPython.display import display, HTML\n",
    "\n",
    "from scipy import stats\n",
    "from scipy.stats.stats import pearsonr\n",
    "from sklearn.linear_model import LinearRegression\n",
    "from sklearn.model_selection import cross_val_score\n",
    "from sklearn.model_selection import KFold\n",
    "import numpy as np\n",
    "import statsmodels.stats.api as sms\n",
    "from statsmodels.regression.linear_model import OLSResults\n",
    "import statsmodels.api as sm\n",
    "from statsmodels.formula.api import ols\n",
    "from statsmodels.stats.anova import anova_lm\n",
    "from statsmodels.graphics.factorplots import interaction_plot\n",
    "import statsmodels.formula.api as smf\n",
    "import category_encoders as ce\n",
    "from statsmodels.stats.power import TTestIndPower, FTestPower, FTestAnovaPower\n",
    "from statsmodels.stats.outliers_influence import OLSInfluence\n",
    "from scipy.stats.mstats import gmean\n",
    "\n",
    "from patsy.contrasts import Sum\n",
    "from patsy.contrasts import Helmert\n",
    "from patsy.contrasts import Treatment\n",
    "from patsy import dmatrices\n"
   ]
  },
  {
   "cell_type": "code",
   "execution_count": 2,
   "metadata": {},
   "outputs": [],
   "source": [
    "# Functions \n",
    "def get_columns_info(col_name):\n",
    "    cols_list = inspector.get_columns(col_name)\n",
    "    \n",
    "    print(\"Table Name: {}\".format(col_name))\n",
    "    print(\"\")\n",
    "    \n",
    "    for col in cols_list:\n",
    "        print(\"Name: {} \\t Type: {}\".format(col['name'], col['type']))\n",
    "        \n",
    "def z_hbar(data, y_col, x_col, xlabel, title):\n",
    "    colors = sns.color_palette(\"GnBu_d\", 10)\n",
    "    plt.figure(figsize=(8,7))\n",
    "    ax = sns.barplot(y = data[y_col], x = data[x_col], data=data, orient='h', palette=colors, errwidth=0.8,\n",
    "           capsize=0.2)\n",
    "    ax.set_xlabel(xlabel=xlabel, fontsize=14)\n",
    "    ax.set_xticks(np.arange(-0.5, 1.5))\n",
    "    ax.set_ylabel(ylabel='Participants', fontsize=14)\n",
    "    ax.set_title(label=title, fontsize=17)\n",
    "    plt.tight_layout();\n",
    "    \n",
    "def boxplot(data, x, y, xlabel, ylabel, title):\n",
    "    meanpointprops = dict(marker='D', markeredgecolor='black',\n",
    "                      markerfacecolor='firebrick')\n",
    "    fig, axes = plt.subplots(1, figsize=(9,6))\n",
    "    sns.boxplot(x=x, y=y, data=data, ax=axes, palette=(\"husl\"), boxprops=dict(alpha=.8), \n",
    "                showmeans=True, meanprops=meanpointprops)\n",
    "    sns.swarmplot(x=x, y=y, data=data, color=\"grey\", alpha=0.6)\n",
    "    plt.xticks(fontsize=10)\n",
    "    plt.xlabel(xlabel, fontsize=12)\n",
    "    plt.ylabel(ylabel, fontsize=12)\n",
    "    plt.title(title, fontsize=14);\n",
    "    \n",
    "# Test for power based on sample and expected effect size\n",
    "def power(df_num, df_denom, alpha, effect):\n",
    "    return FTestPower().solve_power(effect_size=effect, df_num=df_num, df_denom=df_denom, alpha=alpha)\n"
   ]
  },
  {
   "cell_type": "code",
   "execution_count": 3,
   "metadata": {},
   "outputs": [],
   "source": [
    "engine = create_engine(\"sqlite:///Northwind_small.sqlite\", echo=False)\n",
    "Session = sessionmaker(bind=engine)\n",
    "session = Session()\n",
    "inspector = inspect(engine)\n",
    "con = engine.connect()\n",
    "metadata = MetaData()"
   ]
  },
  {
   "cell_type": "code",
   "execution_count": 4,
   "metadata": {},
   "outputs": [],
   "source": [
    "product = pd.read_sql_query(\"\"\"\n",
    "SELECT o.EmployeeId, o.ShipRegion, od.Quantity, od.Discount, od.UnitPrice, o.Freight, \n",
    "        c.Id as CategoryId, c.CategoryName, ((p.UnitPrice * od.Quantity * (1 - od.Discount)) - Freight) as Revenue, \n",
    "        (p.UnitPrice * od.Quantity) as SalePrice\n",
    "       \n",
    "FROM [Order] o\n",
    "    join OrderDetail od\n",
    "    on od.OrderID = o.ID\n",
    "    \n",
    "    JOIN Product p\n",
    "    on od.ProductID = p.ID\n",
    "    \n",
    "    JOIN Category c \n",
    "    on c.ID = p.CategoryID  \n",
    "\n",
    "\"\"\", engine)              \n"
   ]
  },
  {
   "cell_type": "code",
   "execution_count": 5,
   "metadata": {},
   "outputs": [
    {
     "data": {
      "text/html": [
       "<div>\n",
       "<style scoped>\n",
       "    .dataframe tbody tr th:only-of-type {\n",
       "        vertical-align: middle;\n",
       "    }\n",
       "\n",
       "    .dataframe tbody tr th {\n",
       "        vertical-align: top;\n",
       "    }\n",
       "\n",
       "    .dataframe thead th {\n",
       "        text-align: right;\n",
       "    }\n",
       "</style>\n",
       "<table border=\"1\" class=\"dataframe\">\n",
       "  <thead>\n",
       "    <tr style=\"text-align: right;\">\n",
       "      <th></th>\n",
       "      <th>EmployeeId</th>\n",
       "      <th>ShipRegion</th>\n",
       "      <th>Quantity</th>\n",
       "      <th>Discount</th>\n",
       "      <th>UnitPrice</th>\n",
       "      <th>Freight</th>\n",
       "      <th>CategoryId</th>\n",
       "      <th>CategoryName</th>\n",
       "      <th>Revenue</th>\n",
       "      <th>SalePrice</th>\n",
       "    </tr>\n",
       "  </thead>\n",
       "  <tbody>\n",
       "    <tr>\n",
       "      <th>0</th>\n",
       "      <td>5</td>\n",
       "      <td>Western Europe</td>\n",
       "      <td>12</td>\n",
       "      <td>0.0</td>\n",
       "      <td>14.0</td>\n",
       "      <td>32.38</td>\n",
       "      <td>4</td>\n",
       "      <td>Dairy Products</td>\n",
       "      <td>219.62</td>\n",
       "      <td>252.00</td>\n",
       "    </tr>\n",
       "    <tr>\n",
       "      <th>1</th>\n",
       "      <td>5</td>\n",
       "      <td>Western Europe</td>\n",
       "      <td>10</td>\n",
       "      <td>0.0</td>\n",
       "      <td>9.8</td>\n",
       "      <td>32.38</td>\n",
       "      <td>5</td>\n",
       "      <td>Grains/Cereals</td>\n",
       "      <td>107.62</td>\n",
       "      <td>140.00</td>\n",
       "    </tr>\n",
       "    <tr>\n",
       "      <th>2</th>\n",
       "      <td>5</td>\n",
       "      <td>Western Europe</td>\n",
       "      <td>5</td>\n",
       "      <td>0.0</td>\n",
       "      <td>34.8</td>\n",
       "      <td>32.38</td>\n",
       "      <td>4</td>\n",
       "      <td>Dairy Products</td>\n",
       "      <td>141.62</td>\n",
       "      <td>174.00</td>\n",
       "    </tr>\n",
       "    <tr>\n",
       "      <th>3</th>\n",
       "      <td>6</td>\n",
       "      <td>Western Europe</td>\n",
       "      <td>9</td>\n",
       "      <td>0.0</td>\n",
       "      <td>18.6</td>\n",
       "      <td>11.61</td>\n",
       "      <td>7</td>\n",
       "      <td>Produce</td>\n",
       "      <td>197.64</td>\n",
       "      <td>209.25</td>\n",
       "    </tr>\n",
       "    <tr>\n",
       "      <th>4</th>\n",
       "      <td>6</td>\n",
       "      <td>Western Europe</td>\n",
       "      <td>40</td>\n",
       "      <td>0.0</td>\n",
       "      <td>42.4</td>\n",
       "      <td>11.61</td>\n",
       "      <td>7</td>\n",
       "      <td>Produce</td>\n",
       "      <td>2108.39</td>\n",
       "      <td>2120.00</td>\n",
       "    </tr>\n",
       "  </tbody>\n",
       "</table>\n",
       "</div>"
      ],
      "text/plain": [
       "   EmployeeId      ShipRegion  Quantity  Discount  UnitPrice  Freight  \\\n",
       "0           5  Western Europe        12       0.0       14.0    32.38   \n",
       "1           5  Western Europe        10       0.0        9.8    32.38   \n",
       "2           5  Western Europe         5       0.0       34.8    32.38   \n",
       "3           6  Western Europe         9       0.0       18.6    11.61   \n",
       "4           6  Western Europe        40       0.0       42.4    11.61   \n",
       "\n",
       "   CategoryId    CategoryName  Revenue  SalePrice  \n",
       "0           4  Dairy Products   219.62     252.00  \n",
       "1           5  Grains/Cereals   107.62     140.00  \n",
       "2           4  Dairy Products   141.62     174.00  \n",
       "3           7         Produce   197.64     209.25  \n",
       "4           7         Produce  2108.39    2120.00  "
      ]
     },
     "execution_count": 5,
     "metadata": {},
     "output_type": "execute_result"
    }
   ],
   "source": [
    "product.head()"
   ]
  },
  {
   "cell_type": "markdown",
   "metadata": {},
   "source": [
    "# Variables of Interest\n",
    "\n",
    "## Discount\n",
    "\n",
    "The figure below shows that Discount is primarily categorical. Therefore, it was binned into a Binary variable and into a more granulated Group variable (ordinal, with bins of 5%) for analysis. "
   ]
  },
  {
   "cell_type": "code",
   "execution_count": 6,
   "metadata": {},
   "outputs": [
    {
     "data": {
      "image/png": "[encoded data removed]",
      "text/plain": [
       "<Figure size 432x288 with 1 Axes>"
      ]
     },
     "metadata": {
      "needs_background": "light"
     },
     "output_type": "display_data"
    }
   ],
   "source": [
    "product.Discount.hist();"
   ]
  },
  {
   "cell_type": "code",
   "execution_count": 7,
   "metadata": {},
   "outputs": [],
   "source": [
    "# Binary Discount \n",
    "product.loc[product['Discount'] == 0.0, 'DiscountBinary'] = 0\n",
    "product.loc[product['Discount'] > 0.0, 'DiscountBinary'] = 1\n",
    "\n",
    "# Binned Groups of 5%\n",
    "product.loc[product['Discount'] == 0.0, 'DiscountGrouped'] = 0\n",
    "product.loc[(product['Discount'] > 0.0) & (product['Discount'] <= 0.05), 'DiscountGrouped'] = 1\n",
    "product.loc[(product['Discount'] > 0.05) & (product['Discount'] <= 0.10), 'DiscountGrouped'] = 2\n",
    "product.loc[(product['Discount'] > 0.10) & (product['Discount'] <= 0.15), 'DiscountGrouped'] = 3\n",
    "product.loc[(product['Discount'] > 0.15) & (product['Discount'] <= 0.20), 'DiscountGrouped'] = 4\n",
    "product.loc[(product['Discount'] > 0.20) & (product['Discount'] <= 0.25), 'DiscountGrouped'] = 5"
   ]
  },
  {
   "cell_type": "markdown",
   "metadata": {},
   "source": [
    "## Sales Price\n",
    "\n",
    "To further evaluate whether:\n",
    "\n",
    "i) Offering discounts benefits sales\n",
    "ii) What level of discount best benefits sales\n",
    "\n",
    "Sales Price was used as the outcome variable. Sales Price was feature engineered from **Unit Price * Quantity**, and therefore contains information about quantity as well as overall value of the sale. This may therefore be a more informative metric for decision making with regards to what discount to offer customers in the future. \n",
    "\n",
    "Since Sales is positively skewed, it may be lognormally distributed (https://www.investopedia.com/terms/n/normaldistribution.asp)\n",
    "\n",
    "# 1) Lognormal Distribution of Sales Prices"
   ]
  },
  {
   "cell_type": "code",
   "execution_count": 8,
   "metadata": {},
   "outputs": [
    {
     "name": "stderr",
     "output_type": "stream",
     "text": [
      "C:\\Users\\Danyal\\Anaconda3\\envs\\learn-env\\lib\\site-packages\\scipy\\stats\\stats.py:1713: FutureWarning: Using a non-tuple sequence for multidimensional indexing is deprecated; use `arr[tuple(seq)]` instead of `arr[seq]`. In the future this will be interpreted as an array index, `arr[np.array(seq)]`, which will result either in an error or a different result.\n",
      "  return np.add.reduce(sorted[indexer] * weights, axis=axis) / sumval\n"
     ]
    },
    {
     "data": {
      "image/png": "[encoded data removed]",
      "text/plain": [
       "<Figure size 720x360 with 2 Axes>"
      ]
     },
     "metadata": {
      "needs_background": "light"
     },
     "output_type": "display_data"
    }
   ],
   "source": [
    "# The log transformed Sales Price indicates a relatively lognormal distribution \n",
    "\n",
    "fig, (ax1, ax2) = plt.subplots(1,2,figsize = (10,5))\n",
    "\n",
    "sns.distplot(product.SalePrice, ax=ax1)\n",
    "sns.distplot(np.log(product.SalePrice), ax=ax2);\n",
    "\n",
    "ax1.set_title('Sales Price')\n",
    "ax2.set_title('Log Transformed Sales Price')\n",
    "\n",
    "#ax1.xaxis.label.set_visible(False)\n",
    "ax1.xaxis.set_label_text('Sales Price Original Metric')\n",
    "ax2.xaxis.set_label_text('Log Sales Price')\n",
    "\n",
    "product['LogSales'] = np.log(product.SalePrice)"
   ]
  },
  {
   "cell_type": "code",
   "execution_count": 9,
   "metadata": {},
   "outputs": [
    {
     "name": "stdout",
     "output_type": "stream",
     "text": [
      "Log Sales\n",
      " count     2155.00\n",
      "mean       672.56\n",
      "std       1110.26\n",
      "min          6.00\n",
      "25%        170.50\n",
      "50%        380.00\n",
      "75%        760.00\n",
      "max      15810.00\n",
      "Name: SalePrice, dtype: float64\n",
      "\n",
      "Original Scale Sales\n",
      " count    2155.00\n",
      "mean        5.86\n",
      "std         1.16\n",
      "min         1.79\n",
      "25%         5.14\n",
      "50%         5.94\n",
      "75%         6.63\n",
      "max         9.67\n",
      "Name: LogSales, dtype: float64\n"
     ]
    }
   ],
   "source": [
    "print('Log Sales\\n', product.SalePrice.describe().round(2),end='\\n\\n')\n",
    "print('Original Scale Sales\\n', product.LogSales.describe().round(2))"
   ]
  },
  {
   "cell_type": "code",
   "execution_count": 10,
   "metadata": {},
   "outputs": [
    {
     "data": {
      "text/plain": [
       "(0.9954862594604492, 4.2462002056709025e-06)"
      ]
     },
     "execution_count": 10,
     "metadata": {},
     "output_type": "execute_result"
    }
   ],
   "source": [
    "# normality for log transformed Sales Price confirmed with Shapiro-Wilks\n",
    "stats.shapiro(product.LogSales)"
   ]
  },
  {
   "cell_type": "markdown",
   "metadata": {},
   "source": [
    "## Significance Testing and Log Sales\n",
    "\n",
    "Sales Price was log transformed and the logarithmic mean was used for significance testing. If we convert the logarithmic mean back into our original scale, we create geometric means (https://medium.com/@JLMC/understanding-three-simple-statistics-for-data-visualizations-2619dbb3677a), which are the anti-logs of the mean of the logged data. \n",
    "\n",
    "Furthermore, the coefficients must be interpreted as ratios rather than differences when converted back into the original metric. \n",
    "\n",
    "The exponentiated coefficient can be interpreted as the ratio of the expected geometric mean for one group compared with the expected geometric mean of the relative reference group(s). Marginal changes in the explanatory variables are interpreted in terms of multiplicative (percentage) changes in the dependent variable. "
   ]
  },
  {
   "cell_type": "code",
   "execution_count": 11,
   "metadata": {},
   "outputs": [
    {
     "data": {
      "text/html": [
       "<div>\n",
       "<style scoped>\n",
       "    .dataframe tbody tr th:only-of-type {\n",
       "        vertical-align: middle;\n",
       "    }\n",
       "\n",
       "    .dataframe tbody tr th {\n",
       "        vertical-align: top;\n",
       "    }\n",
       "\n",
       "    .dataframe thead th {\n",
       "        text-align: right;\n",
       "    }\n",
       "</style>\n",
       "<table border=\"1\" class=\"dataframe\">\n",
       "  <thead>\n",
       "    <tr style=\"text-align: right;\">\n",
       "      <th></th>\n",
       "      <th>EmployeeId</th>\n",
       "      <th>Quantity</th>\n",
       "      <th>Discount</th>\n",
       "      <th>UnitPrice</th>\n",
       "      <th>Freight</th>\n",
       "      <th>CategoryId</th>\n",
       "      <th>Revenue</th>\n",
       "      <th>SalePrice</th>\n",
       "      <th>DiscountGrouped</th>\n",
       "      <th>LogSales</th>\n",
       "    </tr>\n",
       "    <tr>\n",
       "      <th>DiscountBinary</th>\n",
       "      <th></th>\n",
       "      <th></th>\n",
       "      <th></th>\n",
       "      <th></th>\n",
       "      <th></th>\n",
       "      <th></th>\n",
       "      <th></th>\n",
       "      <th></th>\n",
       "      <th></th>\n",
       "      <th></th>\n",
       "    </tr>\n",
       "  </thead>\n",
       "  <tbody>\n",
       "    <tr>\n",
       "      <th>0.0</th>\n",
       "      <td>4</td>\n",
       "      <td>18</td>\n",
       "      <td>0.00</td>\n",
       "      <td>18.4</td>\n",
       "      <td>47.46</td>\n",
       "      <td>4</td>\n",
       "      <td>276.8400</td>\n",
       "      <td>357.5</td>\n",
       "      <td>0.0</td>\n",
       "      <td>5.879135</td>\n",
       "    </tr>\n",
       "    <tr>\n",
       "      <th>1.0</th>\n",
       "      <td>4</td>\n",
       "      <td>20</td>\n",
       "      <td>0.15</td>\n",
       "      <td>18.0</td>\n",
       "      <td>60.18</td>\n",
       "      <td>4</td>\n",
       "      <td>303.6175</td>\n",
       "      <td>440.8</td>\n",
       "      <td>3.0</td>\n",
       "      <td>6.088590</td>\n",
       "    </tr>\n",
       "  </tbody>\n",
       "</table>\n",
       "</div>"
      ],
      "text/plain": [
       "                EmployeeId  Quantity  Discount  UnitPrice  Freight  \\\n",
       "DiscountBinary                                                       \n",
       "0.0                      4        18      0.00       18.4    47.46   \n",
       "1.0                      4        20      0.15       18.0    60.18   \n",
       "\n",
       "                CategoryId   Revenue  SalePrice  DiscountGrouped  LogSales  \n",
       "DiscountBinary                                                              \n",
       "0.0                      4  276.8400      357.5              0.0  5.879135  \n",
       "1.0                      4  303.6175      440.8              3.0  6.088590  "
      ]
     },
     "execution_count": 11,
     "metadata": {},
     "output_type": "execute_result"
    }
   ],
   "source": [
    "# Functions for converting the regression coefficients for interpretation \n",
    "def geo_mean_convert(B):\n",
    "    # natural log of the input\n",
    "    # exponentiation is inverse of logarithm \n",
    "    return round(np.exp(B), 2)\n",
    "\n",
    "def geomean_ratio(coefficient, ref, group):\n",
    "    # ratios of the natural logs for interpretation of the regression coefficients\n",
    "    ratio = round(np.exp(coefficient), 2)\n",
    "    print('The geometric mean of {} is {} times {}'.format(group.title(), ratio, ref.title()))\n",
    "    if ratio > 1:\n",
    "          print('The geometric mean of {} is {}% more than {}'.format(group.title(), \n",
    "                round(ratio%1*100, 0), ref.title()))      \n",
    "    else:\n",
    "          print('The geometric mean of {} is {}% less than {}'.format(group.title(), \n",
    "                round((1 - ratio%1)*100, 2), ref.title()))\n",
    "      \n",
    "#def ci_geometric_ratio(lower, upper):\n",
    "                \n",
    "def geo_means(data, x, y):\n",
    "    # Summary statistics including geometric means for comparison\n",
    "    groups = sorted(list(data[x].unique()))\n",
    "    geo_mean = [round(gmean(data.loc[data[x] == group][y]), 2) for group in groups]\n",
    "    median = [round((data.loc[data[x] == group][y].median()), 2) for group in groups] \n",
    "    amean = [round(data.loc[data[x] == group][y].mean(), 2) for group in groups]\n",
    "    df = pd.DataFrame({x:groups, 'geo_mean': geo_mean, 'median': median, 'mean': amean})\n",
    "    return df\n",
    "\n",
    "gmean(product.loc[product['DiscountBinary'] == 0.0]['SalePrice'])\n",
    "product.groupby('DiscountBinary').median()"
   ]
  },
  {
   "cell_type": "markdown",
   "metadata": {},
   "source": [
    "## Discount and Sales\n",
    "\n",
    "A series of OLS models using _LogSales_ were run; the models were not complete since the aim was not overall predictive accuracy, but rather establishing relationships (or lack thereof) between variables. Since the F-test of the OLS model is identical to ANOVA, OLS was preferred for it's enhanced flexibility (ability to combine categorical and continuous variables), improved robustness, and better diagnostic/influence tests. \n",
    "\n",
    "The _F-test_ evaluates the significance of $R_2$ compared to the null (nil) hypothesis, (i.e., that $R_2$ is 0). $R_2$ also doubles as an effect size. \n",
    " \n",
    "\n",
    "**Hypotheses:**\n",
    "\n",
    "$H_0$: **Discount does not significantly impact Sales Price**\n",
    "\n",
    "$H_1$: **Discount does significantly impact Sales Price**\n"
   ]
  },
  {
   "cell_type": "code",
   "execution_count": 12,
   "metadata": {},
   "outputs": [
    {
     "name": "stdout",
     "output_type": "stream",
     "text": [
      "[[0. 0. 0. 0. 0.]\n",
      " [1. 0. 0. 0. 0.]\n",
      " [0. 1. 0. 0. 0.]\n",
      " [0. 0. 1. 0. 0.]\n",
      " [0. 0. 0. 1. 0.]\n",
      " [0. 0. 0. 0. 1.]]\n"
     ]
    }
   ],
   "source": [
    "# Dummy contrast matrix for OLS group comparisons \n",
    "\n",
    "levels = [i for i in range(0, len(set(product.DiscountGrouped)))]\n",
    "levels1 = [i for i in range(2)]\n",
    "\n",
    "# Discount = None (index 0) is set as the reference group; all levels of discount will be compared to no discount\n",
    "dummy_contrast = Treatment(reference=0).code_without_intercept(levels)\n",
    "dummy_con_binary = Treatment(reference=0).code_without_intercept(levels1)\n",
    "\n",
    "print(dummy_contrast.matrix)"
   ]
  },
  {
   "cell_type": "code",
   "execution_count": 13,
   "metadata": {},
   "outputs": [
    {
     "name": "stdout",
     "output_type": "stream",
     "text": [
      "                            OLS Regression Results                            \n",
      "==============================================================================\n",
      "Dep. Variable:               LogSales   R-squared:                       0.010\n",
      "Model:                            OLS   Adj. R-squared:                  0.010\n",
      "Method:                 Least Squares   F-statistic:                     22.44\n",
      "Date:                Sat, 12 Jan 2019   Prob (F-statistic):           2.31e-06\n",
      "Time:                        11:25:56   Log-Likelihood:                -3375.0\n",
      "No. Observations:                2155   AIC:                             6754.\n",
      "Df Residuals:                    2153   BIC:                             6765.\n",
      "Df Model:                           1                                         \n",
      "Covariance Type:                  HC3                                         \n",
      "============================================================================================\n",
      "                               coef    std err          z      P>|z|      [0.025      0.975]\n",
      "--------------------------------------------------------------------------------------------\n",
      "Intercept                    5.7652      0.032    181.390      0.000       5.703       5.828\n",
      "C(DiscountBinary)[T.1.0]     0.2435      0.051      4.737      0.000       0.143       0.344\n",
      "==============================================================================\n",
      "Omnibus:                       11.675   Durbin-Watson:                   1.690\n",
      "Prob(Omnibus):                  0.003   Jarque-Bera (JB):               11.681\n",
      "Skew:                          -0.175   Prob(JB):                      0.00291\n",
      "Kurtosis:                       3.085   Cond. No.                         2.44\n",
      "==============================================================================\n",
      "\n",
      "Warnings:\n",
      "[1] Standard Errors are heteroscedasticity robust (HC3)\n"
     ]
    }
   ],
   "source": [
    "# No Discount vs Discount regressed on Log Sales\n",
    "lm = smf.ols('LogSales ~ C(DiscountBinary)', data = product).fit(cov_type='HC3')\n",
    "print(lm.summary())"
   ]
  },
  {
   "cell_type": "code",
   "execution_count": 14,
   "metadata": {},
   "outputs": [
    {
     "data": {
      "text/html": [
       "<div>\n",
       "<style scoped>\n",
       "    .dataframe tbody tr th:only-of-type {\n",
       "        vertical-align: middle;\n",
       "    }\n",
       "\n",
       "    .dataframe tbody tr th {\n",
       "        vertical-align: top;\n",
       "    }\n",
       "\n",
       "    .dataframe thead th {\n",
       "        text-align: right;\n",
       "    }\n",
       "</style>\n",
       "<table border=\"1\" class=\"dataframe\">\n",
       "  <thead>\n",
       "    <tr style=\"text-align: right;\">\n",
       "      <th></th>\n",
       "      <th>DiscountBinary</th>\n",
       "      <th>geo_mean</th>\n",
       "      <th>median</th>\n",
       "      <th>mean</th>\n",
       "    </tr>\n",
       "  </thead>\n",
       "  <tbody>\n",
       "    <tr>\n",
       "      <th>0</th>\n",
       "      <td>0.0</td>\n",
       "      <td>319.01</td>\n",
       "      <td>357.5</td>\n",
       "      <td>606.96</td>\n",
       "    </tr>\n",
       "    <tr>\n",
       "      <th>1</th>\n",
       "      <td>1.0</td>\n",
       "      <td>406.96</td>\n",
       "      <td>440.8</td>\n",
       "      <td>775.66</td>\n",
       "    </tr>\n",
       "  </tbody>\n",
       "</table>\n",
       "</div>"
      ],
      "text/plain": [
       "   DiscountBinary  geo_mean  median    mean\n",
       "0             0.0    319.01   357.5  606.96\n",
       "1             1.0    406.96   440.8  775.66"
      ]
     },
     "execution_count": 14,
     "metadata": {},
     "output_type": "execute_result"
    }
   ],
   "source": [
    "# The geometric mean is not identical to the median because the data is not perfectly lognormal \n",
    "geo_means(product, 'DiscountBinary', 'SalePrice')"
   ]
  },
  {
   "cell_type": "code",
   "execution_count": 15,
   "metadata": {},
   "outputs": [
    {
     "name": "stdout",
     "output_type": "stream",
     "text": [
      "Geometric mean Sales Price for Discount: 406.95\n",
      "Geometric mean Sales Price for No Discount: 319.0\n",
      "Ratio between geometric mean values: 1.28\n"
     ]
    }
   ],
   "source": [
    "# The anti-log for the sum of the intercept and coefficient is the geomean for the Discount group (as confirmed above) \n",
    "print('Geometric mean Sales Price for Discount:', geo_mean_convert((0.2435 + 5.7652)))\n",
    "\n",
    "# The intercept gives the geometric mean for the No Discount Group\n",
    "print('Geometric mean Sales Price for No Discount:', geo_mean_convert(5.7652))\n",
    "\n",
    "# Using only the coefficient gives the ratio between geometric means\n",
    "print('Ratio between geometric mean values:', geo_mean_convert(0.2435))"
   ]
  },
  {
   "cell_type": "code",
   "execution_count": 16,
   "metadata": {},
   "outputs": [
    {
     "name": "stdout",
     "output_type": "stream",
     "text": [
      "The geometric mean of Discount is 1.28 times No Discount\n",
      "The geometric mean of Discount is 28.0% more than No Discount\n"
     ]
    }
   ],
   "source": [
    "# The ratio between geometric means is further explored:\n",
    "geomean_ratio(0.2435, 'no discount', 'discount')"
   ]
  },
  {
   "cell_type": "markdown",
   "metadata": {},
   "source": [
    "## INTERPRETATION\n",
    "\n",
    "\n",
    "Interpreting the main effect of discount, the intercept $B_0$ is the mean _Log Sales Price_ for the _no discount_ (reference) category. The coefficient for Discount indicates the ratio between the geometric mean of the discount and no discount group. To clarify, the ratio of geometric means is 1.28:1 for discount : no discount, or the geometric mean of Sales for discount (_GM_ = 406.95) is 28% higher than no discount (_GM_ = 319.0). \n",
    "\n",
    "Discount significantly increased sales compared with no discount. Therefore, we fail to reject the null and accept that offering a discount did increase Sales. \n",
    "\n",
    "**Follow Up Hypotheses:**\n",
    "\n",
    "$H_0$: **All levels of discount are equal with regards to Sales Price**\n",
    "\n",
    "$H_1$: **Levels of discount differ with regards to Sales Price**"
   ]
  },
  {
   "cell_type": "code",
   "execution_count": 17,
   "metadata": {},
   "outputs": [
    {
     "name": "stdout",
     "output_type": "stream",
     "text": [
      "[[-1. -1. -1. -1.]\n",
      " [ 1.  0.  0.  0.]\n",
      " [ 0.  1.  0.  0.]\n",
      " [ 0.  0.  1.  0.]\n",
      " [ 0.  0.  0.  1.]]\n"
     ]
    }
   ],
   "source": [
    "# Contrast only discount categories\n",
    "\n",
    "discount = product.loc[product['DiscountGrouped'] > 0]\n",
    "\n",
    "levels = [i for i in range(0, len(set(discount.DiscountGrouped)))]\n",
    "\n",
    "# Sum contrast for discount - each group is compared to the unweighted mean of all other groups\n",
    "sum_con_disc = Sum(omit=0).code_without_intercept(levels)\n",
    "\n",
    "print(sum_con_disc.matrix)"
   ]
  },
  {
   "cell_type": "code",
   "execution_count": 18,
   "metadata": {},
   "outputs": [
    {
     "name": "stdout",
     "output_type": "stream",
     "text": [
      "                            OLS Regression Results                            \n",
      "==============================================================================\n",
      "Dep. Variable:               LogSales   R-squared:                       0.012\n",
      "Model:                            OLS   Adj. R-squared:                  0.010\n",
      "Method:                 Least Squares   F-statistic:                     5.149\n",
      "Date:                Sat, 12 Jan 2019   Prob (F-statistic):           0.000106\n",
      "Time:                        11:25:56   Log-Likelihood:                -3373.4\n",
      "No. Observations:                2155   AIC:                             6759.\n",
      "Df Residuals:                    2149   BIC:                             6793.\n",
      "Df Model:                           5                                         \n",
      "Covariance Type:            nonrobust                                         \n",
      "=============================================================================================\n",
      "                                coef    std err          t      P>|t|      [0.025      0.975]\n",
      "---------------------------------------------------------------------------------------------\n",
      "Intercept                     5.7652      0.032    180.465      0.000       5.703       5.828\n",
      "C(DiscountGrouped)[T.1.0]     0.2505      0.090      2.797      0.005       0.075       0.426\n",
      "C(DiscountGrouped)[T.2.0]     0.1364      0.094      1.459      0.145      -0.047       0.320\n",
      "C(DiscountGrouped)[T.3.0]     0.2592      0.098      2.648      0.008       0.067       0.451\n",
      "C(DiscountGrouped)[T.4.0]     0.2233      0.097      2.307      0.021       0.033       0.413\n",
      "C(DiscountGrouped)[T.5.0]     0.3609      0.099      3.656      0.000       0.167       0.555\n",
      "==============================================================================\n",
      "Omnibus:                       12.062   Durbin-Watson:                   1.693\n",
      "Prob(Omnibus):                  0.002   Jarque-Bera (JB):               12.077\n",
      "Skew:                          -0.178   Prob(JB):                      0.00238\n",
      "Kurtosis:                       3.084   Cond. No.                         4.75\n",
      "==============================================================================\n",
      "\n",
      "Warnings:\n",
      "[1] Standard Errors assume that the covariance matrix of the errors is correctly specified.\n"
     ]
    }
   ],
   "source": [
    "# Each discount group is compared to the no discount group\n",
    "# The intercept represents the log mean Sales for the no discount group\n",
    "lm = smf.ols('LogSales ~ C(DiscountGrouped)', data = product).fit()\n",
    "print(lm.summary())"
   ]
  },
  {
   "cell_type": "code",
   "execution_count": 19,
   "metadata": {},
   "outputs": [
    {
     "data": {
      "text/html": [
       "<div>\n",
       "<style scoped>\n",
       "    .dataframe tbody tr th:only-of-type {\n",
       "        vertical-align: middle;\n",
       "    }\n",
       "\n",
       "    .dataframe tbody tr th {\n",
       "        vertical-align: top;\n",
       "    }\n",
       "\n",
       "    .dataframe thead th {\n",
       "        text-align: right;\n",
       "    }\n",
       "</style>\n",
       "<table border=\"1\" class=\"dataframe\">\n",
       "  <thead>\n",
       "    <tr style=\"text-align: right;\">\n",
       "      <th></th>\n",
       "      <th>DiscountGrouped</th>\n",
       "      <th>geo_mean</th>\n",
       "      <th>median</th>\n",
       "      <th>mean</th>\n",
       "    </tr>\n",
       "  </thead>\n",
       "  <tbody>\n",
       "    <tr>\n",
       "      <th>0</th>\n",
       "      <td>0.0</td>\n",
       "      <td>319.01</td>\n",
       "      <td>357.5</td>\n",
       "      <td>606.96</td>\n",
       "    </tr>\n",
       "    <tr>\n",
       "      <th>1</th>\n",
       "      <td>1.0</td>\n",
       "      <td>409.82</td>\n",
       "      <td>426.0</td>\n",
       "      <td>856.43</td>\n",
       "    </tr>\n",
       "    <tr>\n",
       "      <th>2</th>\n",
       "      <td>2.0</td>\n",
       "      <td>365.63</td>\n",
       "      <td>397.5</td>\n",
       "      <td>640.90</td>\n",
       "    </tr>\n",
       "    <tr>\n",
       "      <th>3</th>\n",
       "      <td>3.0</td>\n",
       "      <td>413.40</td>\n",
       "      <td>450.0</td>\n",
       "      <td>702.65</td>\n",
       "    </tr>\n",
       "    <tr>\n",
       "      <th>4</th>\n",
       "      <td>4.0</td>\n",
       "      <td>398.80</td>\n",
       "      <td>397.5</td>\n",
       "      <td>767.93</td>\n",
       "    </tr>\n",
       "    <tr>\n",
       "      <th>5</th>\n",
       "      <td>5.0</td>\n",
       "      <td>457.67</td>\n",
       "      <td>482.5</td>\n",
       "      <td>909.75</td>\n",
       "    </tr>\n",
       "  </tbody>\n",
       "</table>\n",
       "</div>"
      ],
      "text/plain": [
       "   DiscountGrouped  geo_mean  median    mean\n",
       "0              0.0    319.01   357.5  606.96\n",
       "1              1.0    409.82   426.0  856.43\n",
       "2              2.0    365.63   397.5  640.90\n",
       "3              3.0    413.40   450.0  702.65\n",
       "4              4.0    398.80   397.5  767.93\n",
       "5              5.0    457.67   482.5  909.75"
      ]
     },
     "execution_count": 19,
     "metadata": {},
     "output_type": "execute_result"
    }
   ],
   "source": [
    "geo_means(product, 'DiscountGrouped', 'SalePrice')"
   ]
  },
  {
   "cell_type": "code",
   "execution_count": 20,
   "metadata": {},
   "outputs": [
    {
     "name": "stdout",
     "output_type": "stream",
     "text": [
      "                            OLS Regression Results                            \n",
      "==============================================================================\n",
      "Dep. Variable:               LogSales   R-squared:                       0.004\n",
      "Model:                            OLS   Adj. R-squared:                 -0.001\n",
      "Method:                 Least Squares   F-statistic:                    0.7741\n",
      "Date:                Sat, 12 Jan 2019   Prob (F-statistic):              0.542\n",
      "Time:                        11:25:56   Log-Likelihood:                -1317.6\n",
      "No. Observations:                 838   AIC:                             2645.\n",
      "Df Residuals:                     833   BIC:                             2669.\n",
      "Df Model:                           4                                         \n",
      "Covariance Type:            nonrobust                                         \n",
      "=========================================================================================================\n",
      "                                            coef    std err          t      P>|t|      [0.025      0.975]\n",
      "---------------------------------------------------------------------------------------------------------\n",
      "Intercept                                 6.0113      0.041    148.330      0.000       5.932       6.091\n",
      "C(DiscountGrouped, sum_con_disc)[S.1]    -0.1096      0.080     -1.375      0.169      -0.266       0.047\n",
      "C(DiscountGrouped, sum_con_disc)[S.2]     0.0131      0.083      0.158      0.874      -0.150       0.176\n",
      "C(DiscountGrouped, sum_con_disc)[S.3]    -0.0228      0.082     -0.278      0.781      -0.184       0.138\n",
      "C(DiscountGrouped, sum_con_disc)[S.4]     0.1149      0.083      1.376      0.169      -0.049       0.279\n",
      "==============================================================================\n",
      "Omnibus:                        7.912   Durbin-Watson:                   1.711\n",
      "Prob(Omnibus):                  0.019   Jarque-Bera (JB):                7.827\n",
      "Skew:                          -0.230   Prob(JB):                       0.0200\n",
      "Kurtosis:                       3.116   Cond. No.                         2.49\n",
      "==============================================================================\n",
      "\n",
      "Warnings:\n",
      "[1] Standard Errors assume that the covariance matrix of the errors is correctly specified.\n"
     ]
    }
   ],
   "source": [
    "# Each discount group is compared to the unweighted mean of all other groups\n",
    "# The intercept represents the unweighted log mean Sales for all discount groups\n",
    "lm = smf.ols('LogSales ~ C(DiscountGrouped, sum_con_disc)', data = discount).fit()\n",
    "print(lm.summary())"
   ]
  },
  {
   "cell_type": "markdown",
   "metadata": {},
   "source": [
    "## INTERPRETATION OF LEVELS OF DISCOUNT ON SALES\n",
    "\n",
    "A sum contrast was used to compare each level of discount with all other levels (i.e., the geometric mean for each level of discount was compared with the combined geometric mean for all other levels). Significance testing indicated that level of discount accounted for no variance/ effect in LogSales, _F = 0.6577, p = 0.54_. Therefore, individual contrasts will not be investigated further and we can conclude that, while some discount is significantly related to Sales, the level of discount is inconsequential. We therefore fail to reject the null, and accept that all levels of discount are equal with regards to Sales. \n",
    "\n",
    "\n",
    "## CONCLUSION\n",
    "\n",
    "The above two analyses indicated that, on average, Sales Price was 28% higher when a discount was offered. While almost all discount groups differed significantly from no discount, the amount of discount offered did not significantly impact Sales Price. Therefore, based on these analyses we can consider offering a discount of 1 - 5%. \n",
    "\n",
    "Discounts > 5% = 87 448.93 Euros, or 6.03% of total sales. Therefore, this could potentially be saved if smaller discounts are as effective as larger ones in increasing the number of items ordered/ overall price of the sale. \n"
   ]
  },
  {
   "cell_type": "code",
   "execution_count": 21,
   "metadata": {},
   "outputs": [],
   "source": [
    "# to calculate savings figures above\n",
    "\n",
    "#savings = product.loc[product['DiscountGrouped'] > 1]\n",
    "#discounts = savings.Discount * savings.SalePrice\n",
    "#(discounts.sum()/ product.SalePrice.sum()) * 100"
   ]
  },
  {
   "cell_type": "markdown",
   "metadata": {},
   "source": [
    "## FOLLOW UP ANALYSES:\n",
    "\n",
    "Before any final recommendations with regards to discount can be made, it is necessary to understand how discount may affect Sales Price for various Categories of product, Regions of Sale, or Employees. \n",
    "\n",
    "\n",
    "\n",
    "# CATEGORY\n",
    "\n",
    "There are 8 categories of product. It is possible that between- and within-category effects differ from the overall effects seen in the previous analysis.  \n",
    "\n",
    "In particular, it is important whether any interactions between category and discount exist (i.e., partialed effects - contribution to $R_2$ over and above the main effects of discount and category on Sales).\n",
    "\n",
    "In this instance _Category_ is a fixed effect as it represents all categories of product available for this company and our conclusions apply only to these conditions of discount and category. Therefore, the interactions test the hypotheses:\n",
    "\n",
    "$H_0$: **Discount uniformly affects Sales for all categories of product (Geo.means equal)**\n",
    "\n",
    "$H_1$: **Discount does not uniformly affect Sales for all categories of product (Geo.means not equal)**\n",
    "\n",
    "This analysis will help to refine our decisions regarding:\n",
    "i) Whether offering discounts benefits sales\n",
    "ii) What level of discount best benefits sales\n",
    "\n",
    "Should we find that sales within certain categories are more or less affected by discount, and specific levels of discount, this will allow a more nuanced approach to discount. "
   ]
  },
  {
   "cell_type": "code",
   "execution_count": 22,
   "metadata": {
    "scrolled": false
   },
   "outputs": [
    {
     "name": "stdout",
     "output_type": "stream",
     "text": [
      "                                   mean      std   median     min       max\n",
      "CategoryName   DiscountGrouped                                             \n",
      "Beverages      0.0               661.52  1750.66   252.00   13.50  15810.00\n",
      "               1.0              1872.04  3478.37   438.75   36.00  15810.00\n",
      "               2.0               613.27   851.77   360.00   62.00   3952.50\n",
      "               3.0               455.35   381.47   360.00   36.00   1656.00\n",
      "               4.0              1102.97  2841.22   325.50   45.00  13175.00\n",
      "               5.0               732.34  1837.94   360.00   27.00  10540.00\n",
      "Condiments     0.0               492.00   470.18   400.00   17.00   2853.50\n",
      "               1.0               668.10   536.12   421.02   25.00   1945.00\n",
      "               2.0               471.93   367.88   396.00   26.00   1684.00\n",
      "               3.0               830.15   970.64   364.00   38.90   3512.00\n",
      "               4.0               585.35   406.56   433.75   26.00   1387.75\n",
      "               5.0              1033.37  1097.04   550.00   65.00   3420.00\n",
      "Confections    0.0               577.52   700.30   358.75    9.20   5268.00\n",
      "               1.0               680.04   878.77   406.25   34.90   4050.00\n",
      "               2.0               394.22   433.01   246.88   37.50   1972.00\n",
      "               3.0               670.10   740.08   488.60   36.80   3944.00\n",
      "               4.0               360.01   385.40   300.00   75.00   1701.00\n",
      "               5.0               606.03   491.93   475.00   64.40   2186.10\n",
      "Dairy Products 0.0               651.53   741.67   425.00   12.50   6050.00\n",
      "               1.0               782.05   743.08   537.50   37.50   2720.00\n",
      "               2.0               709.37   578.35   664.00   37.50   2200.00\n",
      "               3.0              1005.63   929.84   792.00   10.00   3850.00\n",
      "               4.0               839.59   809.95   710.00   20.00   3850.00\n",
      "               5.0              1082.05  1191.10   736.25   25.00   5500.00\n",
      "Grains/Cereals 0.0               529.38   596.61   360.00   14.00   4322.50\n",
      "               1.0               512.54   673.07   286.25   42.00   2280.00\n",
      "               2.0               736.28   467.04   614.25   97.50   1520.00\n",
      "               3.0               504.20   333.30   456.00   28.00   1140.00\n",
      "               4.0               605.30   492.10   292.50  140.00   1520.00\n",
      "               5.0               573.05   351.72   622.00   72.00   1140.00\n",
      "Meat/Poultry   0.0               973.10  1431.70   480.00   22.35   9903.20\n",
      "               1.0               850.58   804.76   624.00   48.00   2730.00\n",
      "               2.0              1308.18  1146.75   897.50   44.70   3094.75\n",
      "               3.0               959.26   913.82   504.00  149.00   2970.96\n",
      "               4.0               605.46   586.55   480.00   22.35   1755.00\n",
      "               5.0              2125.01  2450.14  1365.00  149.00   7427.40\n",
      "Produce        0.0               736.03   597.29   540.00   50.00   2700.00\n",
      "               1.0              1274.48  1821.08   540.00   23.25   6360.00\n",
      "               2.0               931.42   897.35   592.80   69.75   2736.00\n",
      "               3.0               879.18   845.60   638.40   90.00   2544.00\n",
      "               4.0               863.04   880.52   523.12  228.00   2544.00\n",
      "               5.0               846.19   762.77   574.50  150.00   2332.00\n",
      "Seafood        0.0               404.88   444.25   265.00    6.00   3125.00\n",
      "               1.0               394.90   346.44   312.75   30.00   1288.00\n",
      "               2.0               424.21   381.50   300.00   12.00   1562.50\n",
      "               3.0               588.21   673.86   385.00   78.00   3100.00\n",
      "               4.0               705.78   671.65   460.00   18.00   2500.00\n",
      "               5.0               490.25   448.54   342.00   24.00   1562.50\n"
     ]
    }
   ],
   "source": [
    "# Descriptives for each level of Discount and Category\n",
    "print(product.groupby(['CategoryName', 'DiscountGrouped'])['SalePrice'].agg(['mean','std', 'median', min, max]).round(2))"
   ]
  },
  {
   "cell_type": "code",
   "execution_count": 23,
   "metadata": {},
   "outputs": [
    {
     "data": {
      "image/png": "[encoded data removed]",
      "text/plain": [
       "<Figure size 864x432 with 1 Axes>"
      ]
     },
     "metadata": {
      "needs_background": "light"
     },
     "output_type": "display_data"
    }
   ],
   "source": [
    "discount = product.groupby('CategoryName')['DiscountGrouped'].value_counts().unstack('DiscountGrouped')\n",
    "\n",
    "discount.plot(kind='barh', stacked=True, colormap=ListedColormap(sns.color_palette(\"GnBu\", 10)), \n",
    "              figsize=(12,6), edgecolor = \"black\")\n",
    "\n",
    "plt.gca().invert_yaxis()\n",
    "plt.ylabel('')\n",
    "plt.yticks(np.arange(8), (['Dairy Products', 'Grains/Cereals', 'Produce', 'Seafood',\n",
    "       'Condiments', 'Confections', 'Beverages', 'Meat/Poultry']), fontsize=12)\n",
    "plt.xlabel('Percentage Discounted', fontsize=12)\n",
    "plt.legend(('None', '0 - 5%', '5 - 10%', '10 - 15%', '15 - 20%', '20 - 25%'), fontsize=12, loc='center left', bbox_to_anchor=(1, 0.5))\n",
    "plt.title('Discount Count per Product Category', fontsize=16);\n",
    "sns.despine(left=True, bottom=True)"
   ]
  },
  {
   "cell_type": "code",
   "execution_count": 24,
   "metadata": {},
   "outputs": [
    {
     "data": {
      "image/png": "[encoded data removed]",
      "text/plain": [
       "<Figure size 864x432 with 1 Axes>"
      ]
     },
     "metadata": {},
     "output_type": "display_data"
    }
   ],
   "source": [
    "plt.style.use('seaborn-white')\n",
    "\n",
    "discount = product.groupby('CategoryName')['DiscountGrouped'].value_counts(normalize=True).unstack('DiscountGrouped')\n",
    "\n",
    "discount.plot(kind='barh', stacked=True, colormap=ListedColormap(sns.color_palette(\"GnBu\", 10)), \n",
    "              figsize=(12,6), edgecolor = \"black\")\n",
    "\n",
    "plt.gca().invert_yaxis()\n",
    "plt.ylabel('')\n",
    "plt.yticks(np.arange(8), (['Dairy Products', 'Grains/Cereals', 'Produce', 'Seafood',\n",
    "       'Condiments', 'Confections', 'Beverages', 'Meat/Poultry']), fontsize=12)\n",
    "plt.xlabel('Percentage Discounted', fontsize=12)\n",
    "plt.legend(('None', '0 - 5%', '5 - 10%', '10 - 15%', '15 - 20%', '20 - 25%'), fontsize=12, loc='center left', bbox_to_anchor=(1, 0.5))\n",
    "plt.title('% Discount per Product Category', fontsize=16);\n",
    "sns.despine(left=True, bottom=True)"
   ]
  },
  {
   "cell_type": "code",
   "execution_count": 25,
   "metadata": {},
   "outputs": [
    {
     "name": "stdout",
     "output_type": "stream",
     "text": [
      "Sum Contrast Matrix - Categories\n",
      " [[-1. -1. -1. -1. -1. -1. -1.]\n",
      " [ 1.  0.  0.  0.  0.  0.  0.]\n",
      " [ 0.  1.  0.  0.  0.  0.  0.]\n",
      " [ 0.  0.  1.  0.  0.  0.  0.]\n",
      " [ 0.  0.  0.  1.  0.  0.  0.]\n",
      " [ 0.  0.  0.  0.  1.  0.  0.]\n",
      " [ 0.  0.  0.  0.  0.  1.  0.]\n",
      " [ 0.  0.  0.  0.  0.  0.  1.]]\n",
      "\n",
      "Dummy Contrast Matrix - Categories\n",
      " [[0. 0. 0. 0. 0. 0. 0.]\n",
      " [1. 0. 0. 0. 0. 0. 0.]\n",
      " [0. 1. 0. 0. 0. 0. 0.]\n",
      " [0. 0. 1. 0. 0. 0. 0.]\n",
      " [0. 0. 0. 1. 0. 0. 0.]\n",
      " [0. 0. 0. 0. 1. 0. 0.]\n",
      " [0. 0. 0. 0. 0. 1. 0.]\n",
      " [0. 0. 0. 0. 0. 0. 1.]]\n",
      "\n",
      "Sum Contrast Matrix - Discount\n",
      " [[ 1.  0.  0.  0.  0.]\n",
      " [ 0.  1.  0.  0.  0.]\n",
      " [ 0.  0.  1.  0.  0.]\n",
      " [ 0.  0.  0.  1.  0.]\n",
      " [ 0.  0.  0.  0.  1.]\n",
      " [-1. -1. -1. -1. -1.]]\n"
     ]
    }
   ],
   "source": [
    "levels = [i for i in range(len(set(product.CategoryId)))]\n",
    "levels1 = [i for i in range(len(set(product.DiscountGrouped)))]\n",
    "\n",
    "sum_con_cat = Sum(omit=0).code_without_intercept(levels)\n",
    "dummy_con_cat = Treatment(reference=0).code_without_intercept(levels)\n",
    "sum_con_disc = Sum().code_without_intercept(levels1)\n",
    "\n",
    "print('Sum Contrast Matrix - Categories\\n', sum_con_cat.matrix, end='\\n\\n')\n",
    "print('Dummy Contrast Matrix - Categories\\n', dummy_con_cat.matrix, end='\\n\\n')\n",
    "print('Sum Contrast Matrix - Discount\\n', sum_con_disc.matrix)"
   ]
  },
  {
   "cell_type": "code",
   "execution_count": 26,
   "metadata": {},
   "outputs": [
    {
     "data": {
      "text/plain": [
       "CategoryId  CategoryName  \n",
       "1           Beverages         404\n",
       "2           Condiments        216\n",
       "3           Confections       334\n",
       "4           Dairy Products    366\n",
       "5           Grains/Cereals    196\n",
       "6           Meat/Poultry      173\n",
       "7           Produce           136\n",
       "8           Seafood           330\n",
       "Name: CategoryName, dtype: int64"
      ]
     },
     "execution_count": 26,
     "metadata": {},
     "output_type": "execute_result"
    }
   ],
   "source": [
    "# Category sample sizes\n",
    "product.groupby(['CategoryId'])['CategoryName'].value_counts()"
   ]
  },
  {
   "cell_type": "code",
   "execution_count": 27,
   "metadata": {},
   "outputs": [
    {
     "name": "stdout",
     "output_type": "stream",
     "text": [
      "[[ 1.  0.  0.  0.]\n",
      " [ 0.  1.  0.  0.]\n",
      " [ 0.  0.  1.  0.]\n",
      " [ 0.  0.  0.  1.]\n",
      " [-1. -1. -1. -1.]]\n"
     ]
    }
   ],
   "source": [
    "discount = product.loc[product['DiscountGrouped'] > 0]\n",
    "\n",
    "levels = [i for i in range(0, len(set(discount.DiscountGrouped)))]\n",
    "\n",
    "sum_con_disc = Sum(omit=4).code_without_intercept(levels)\n",
    "\n",
    "print(sum_con_disc.matrix)"
   ]
  },
  {
   "cell_type": "code",
   "execution_count": 44,
   "metadata": {
    "scrolled": false
   },
   "outputs": [
    {
     "name": "stdout",
     "output_type": "stream",
     "text": [
      "                            OLS Regression Results                            \n",
      "==============================================================================\n",
      "Dep. Variable:               LogSales   R-squared:                       0.072\n",
      "Model:                            OLS   Adj. R-squared:                  0.027\n",
      "Method:                 Least Squares   F-statistic:                     1.597\n",
      "Date:                Sat, 12 Jan 2019   Prob (F-statistic):             0.0127\n",
      "Time:                        11:28:22   Log-Likelihood:                -1287.7\n",
      "No. Observations:                 838   AIC:                             2655.\n",
      "Df Residuals:                     798   BIC:                             2845.\n",
      "Df Model:                          39                                         \n",
      "Covariance Type:            nonrobust                                         \n",
      "===========================================================================================================================================\n",
      "                                                                              coef    std err          t      P>|t|      [0.025      0.975]\n",
      "-------------------------------------------------------------------------------------------------------------------------------------------\n",
      "Intercept                                                                   6.0616      0.045    135.240      0.000       5.974       6.150\n",
      "C(DiscountGrouped, sum_con_disc)[S.0]                                      -0.0330      0.082     -0.402      0.688      -0.194       0.128\n",
      "C(DiscountGrouped, sum_con_disc)[S.1]                                      -0.0656      0.087     -0.753      0.452      -0.237       0.105\n",
      "C(DiscountGrouped, sum_con_disc)[S.2]                                       0.0195      0.092      0.211      0.833      -0.161       0.200\n",
      "C(DiscountGrouped, sum_con_disc)[S.3]                                      -0.0729      0.094     -0.776      0.438      -0.257       0.112\n",
      "C(CategoryName, sum_con_cat)[S.1]                                           0.0514      0.121      0.426      0.670      -0.185       0.288\n",
      "C(CategoryName, sum_con_cat)[S.2]                                          -0.2414      0.099     -2.436      0.015      -0.436      -0.047\n",
      "C(CategoryName, sum_con_cat)[S.3]                                           0.1799      0.096      1.864      0.063      -0.010       0.369\n",
      "C(CategoryName, sum_con_cat)[S.4]                                          -0.0715      0.137     -0.521      0.602      -0.341       0.198\n",
      "C(CategoryName, sum_con_cat)[S.5]                                           0.2993      0.128      2.330      0.020       0.047       0.551\n",
      "C(CategoryName, sum_con_cat)[S.6]                                           0.2461      0.159      1.545      0.123      -0.067       0.559\n",
      "C(CategoryName, sum_con_cat)[S.7]                                          -0.2829      0.098     -2.889      0.004      -0.475      -0.091\n",
      "C(DiscountGrouped, sum_con_disc)[S.0]:C(CategoryName, sum_con_cat)[S.1]     0.0300      0.222      0.135      0.892      -0.405       0.465\n",
      "C(DiscountGrouped, sum_con_disc)[S.1]:C(CategoryName, sum_con_cat)[S.1]    -0.1942      0.215     -0.904      0.366      -0.616       0.227\n",
      "C(DiscountGrouped, sum_con_disc)[S.2]:C(CategoryName, sum_con_cat)[S.1]    -0.0415      0.237     -0.175      0.861      -0.507       0.424\n",
      "C(DiscountGrouped, sum_con_disc)[S.3]:C(CategoryName, sum_con_cat)[S.1]     0.0153      0.253      0.061      0.952      -0.482       0.512\n",
      "C(DiscountGrouped, sum_con_disc)[S.0]:C(CategoryName, sum_con_cat)[S.2]     0.1712      0.184      0.931      0.352      -0.190       0.532\n",
      "C(DiscountGrouped, sum_con_disc)[S.1]:C(CategoryName, sum_con_cat)[S.2]    -0.2547      0.188     -1.355      0.176      -0.624       0.114\n",
      "C(DiscountGrouped, sum_con_disc)[S.2]:C(CategoryName, sum_con_cat)[S.2]     0.2156      0.192      1.122      0.262      -0.162       0.593\n",
      "C(DiscountGrouped, sum_con_disc)[S.3]:C(CategoryName, sum_con_cat)[S.2]    -0.2203      0.228     -0.968      0.333      -0.667       0.227\n",
      "C(DiscountGrouped, sum_con_disc)[S.0]:C(CategoryName, sum_con_cat)[S.3]    -0.0846      0.170     -0.497      0.619      -0.419       0.250\n",
      "C(DiscountGrouped, sum_con_disc)[S.1]:C(CategoryName, sum_con_cat)[S.3]    -0.0813      0.195     -0.418      0.676      -0.463       0.301\n",
      "C(DiscountGrouped, sum_con_disc)[S.2]:C(CategoryName, sum_con_cat)[S.3]     0.0327      0.197      0.166      0.868      -0.354       0.419\n",
      "C(DiscountGrouped, sum_con_disc)[S.3]:C(CategoryName, sum_con_cat)[S.3]     0.0733      0.194      0.378      0.705      -0.307       0.453\n",
      "C(DiscountGrouped, sum_con_disc)[S.0]:C(CategoryName, sum_con_cat)[S.4]    -0.3070      0.238     -1.288      0.198      -0.775       0.161\n",
      "C(DiscountGrouped, sum_con_disc)[S.1]:C(CategoryName, sum_con_cat)[S.4]     0.3769      0.290      1.299      0.194      -0.193       0.947\n",
      "C(DiscountGrouped, sum_con_disc)[S.2]:C(CategoryName, sum_con_cat)[S.4]    -0.1548      0.292     -0.531      0.596      -0.728       0.418\n",
      "C(DiscountGrouped, sum_con_disc)[S.3]:C(CategoryName, sum_con_cat)[S.4]     0.1442      0.256      0.563      0.573      -0.358       0.647\n",
      "C(DiscountGrouped, sum_con_disc)[S.0]:C(CategoryName, sum_con_cat)[S.5]    -0.0559      0.237     -0.235      0.814      -0.522       0.410\n",
      "C(DiscountGrouped, sum_con_disc)[S.1]:C(CategoryName, sum_con_cat)[S.5]     0.1678      0.228      0.736      0.462      -0.280       0.615\n",
      "C(DiscountGrouped, sum_con_disc)[S.2]:C(CategoryName, sum_con_cat)[S.5]     0.0949      0.299      0.317      0.751      -0.492       0.682\n",
      "C(DiscountGrouped, sum_con_disc)[S.3]:C(CategoryName, sum_con_cat)[S.5]    -0.6646      0.279     -2.384      0.017      -1.212      -0.117\n",
      "C(DiscountGrouped, sum_con_disc)[S.0]:C(CategoryName, sum_con_cat)[S.6]    -0.0395      0.283     -0.140      0.889      -0.594       0.515\n",
      "C(DiscountGrouped, sum_con_disc)[S.1]:C(CategoryName, sum_con_cat)[S.6]     0.0688      0.312      0.220      0.826      -0.544       0.681\n",
      "C(DiscountGrouped, sum_con_disc)[S.2]:C(CategoryName, sum_con_cat)[S.6]    -0.0918      0.303     -0.303      0.762      -0.686       0.502\n",
      "C(DiscountGrouped, sum_con_disc)[S.3]:C(CategoryName, sum_con_cat)[S.6]     0.1556      0.363      0.429      0.668      -0.557       0.868\n",
      "C(DiscountGrouped, sum_con_disc)[S.0]:C(CategoryName, sum_con_cat)[S.7]    -0.1792      0.189     -0.949      0.343      -0.550       0.192\n",
      "C(DiscountGrouped, sum_con_disc)[S.1]:C(CategoryName, sum_con_cat)[S.7]    -0.1118      0.186     -0.602      0.547      -0.476       0.253\n",
      "C(DiscountGrouped, sum_con_disc)[S.2]:C(CategoryName, sum_con_cat)[S.7]     0.1575      0.214      0.735      0.463      -0.263       0.578\n",
      "C(DiscountGrouped, sum_con_disc)[S.3]:C(CategoryName, sum_con_cat)[S.7]     0.4034      0.189      2.134      0.033       0.032       0.774\n",
      "==============================================================================\n",
      "Omnibus:                       18.786   Durbin-Watson:                   1.699\n",
      "Prob(Omnibus):                  0.000   Jarque-Bera (JB):               19.619\n",
      "Skew:                          -0.345   Prob(JB):                     5.49e-05\n",
      "Kurtosis:                       3.291   Cond. No.                         13.4\n",
      "==============================================================================\n",
      "\n",
      "Warnings:\n",
      "[1] Standard Errors assume that the covariance matrix of the errors is correctly specified.\n",
      "\n",
      "C(DiscountGrouped)[T.1.0]:C(CategoryName, sum_con_cat)[S.7]  -261.0766    138.203     -1.889      0.059    -531.950       9.797C(DiscountGrouped)[T.2.0]:C(CategoryName, sum_con_cat)[S.7]   -51.0310     95.611     -0.534      0.594    -238.425     136.363C(DiscountGrouped)[T.3.0]:C(CategoryName, sum_con_cat)[S.7]    75.0655    157.194      0.478      0.633    -233.029     383.160C(DiscountGrouped)[T.4.0]:C(CategoryName, sum_con_cat)[S.7]   220.7109    142.485      1.549      0.121     -58.555     499.976C(DiscountGrouped)[T.5.0]:C(CategoryName, sum_con_cat)[S.7]  -222.4185    139.436     -1.595      0.111    -495.708      50.871\n"
     ]
    }
   ],
   "source": [
    "# The interactions between each category and level of discount was of interest; in particualr, whether any category was a \n",
    "# significant exception to the conclusion above that discounts higher than 5% are not necessary to increase sales. \n",
    "\n",
    "lm = smf.ols('LogSales ~ C(DiscountGrouped, sum_con_disc) * C(CategoryName, sum_con_cat)', data = discount).fit()\n",
    "\n",
    "print(lm.summary(), end='\\n\\n')\n",
    "print('C(DiscountGrouped)[T.1.0]:C(CategoryName, sum_con_cat)[S.7]  -261.0766    138.203     -1.889      0.059    -531.950       9.797'\n",
    "'C(DiscountGrouped)[T.2.0]:C(CategoryName, sum_con_cat)[S.7]   -51.0310     95.611     -0.534      0.594    -238.425     136.363'\n",
    "\"C(DiscountGrouped)[T.3.0]:C(CategoryName, sum_con_cat)[S.7]    75.0655    157.194      0.478      0.633    -233.029     383.160\"\n",
    "'C(DiscountGrouped)[T.4.0]:C(CategoryName, sum_con_cat)[S.7]   220.7109    142.485      1.549      0.121     -58.555     499.976'\n",
    "'C(DiscountGrouped)[T.5.0]:C(CategoryName, sum_con_cat)[S.7]  -222.4185    139.436     -1.595      0.111    -495.708      50.871')"
   ]
  },
  {
   "cell_type": "code",
   "execution_count": 40,
   "metadata": {},
   "outputs": [
    {
     "name": "stdout",
     "output_type": "stream",
     "text": [
      "Sales Price for unweighted Geo. Mean of No Discount for all categories: 338.02\n",
      "Sales Price for Beverages * 1-5% discount: 597.59\n",
      "Sales Price for Confections * 10-15% discount: 340.73\n",
      "1 : 1.77\n",
      "Ratio between median values: 1.01\n"
     ]
    }
   ],
   "source": [
    "# The intercept gives the unweighted geometric mean for the No Discount Group conditioned on every category\n",
    "print('Sales Price for unweighted Geo. Mean of No Discount for all categories:', geo_mean_convert(5.8231))\n",
    "\n",
    "# The anti-log for the Beverages * 1-5% discount interaction \n",
    "print('Sales Price for Beverages * 1-5% discount:', geo_mean_convert((0.5698 + 5.8231)))\n",
    "\n",
    "# The anti-log for the Confections * 10-15% discount interaction \n",
    "print('Sales Price for Confections * 10-15% discount:', geo_mean_convert((0.0080 + 5.8231)))\n",
    "\n",
    "# using only the coefficient gives the ratio between geometric means\n",
    "print('1 :', geo_mean_convert(0.5698))\n",
    "\n",
    "# using only the coefficient gives the ratio between geometric means\n",
    "print('Ratio between median values:', geo_mean_convert(0.0080))"
   ]
  },
  {
   "cell_type": "code",
   "execution_count": 30,
   "metadata": {},
   "outputs": [
    {
     "name": "stdout",
     "output_type": "stream",
     "text": [
      "The geometric mean of Beverages Discount 1 - 5% is 1.77 times No Discount All Categories\n",
      "The geometric mean of Beverages Discount 1 - 5% is 77.0% more than No Discount All Categories\n"
     ]
    }
   ],
   "source": [
    "geomean_ratio(0.5698, 'No Discount all categories', 'Beverages discount 1 - 5%')"
   ]
  },
  {
   "cell_type": "code",
   "execution_count": 31,
   "metadata": {},
   "outputs": [
    {
     "name": "stdout",
     "output_type": "stream",
     "text": [
      "The geometric mean of Confections Discount 10 - 15% is 1.01 times No Discount All Categories\n",
      "The geometric mean of Confections Discount 10 - 15% is 1.0% more than No Discount All Categories\n"
     ]
    }
   ],
   "source": [
    "geomean_ratio(0.0080, 'No Discount all categories', 'Confections discount 10 - 15%')"
   ]
  },
  {
   "cell_type": "markdown",
   "metadata": {},
   "source": [
    "Further investigation before final decision:\n",
    "1) Is the effect of discount on Sales Price modulated by time? In other words, does offering larger discounts earlier on result in more sales over time for any customers? "
   ]
  },
  {
   "cell_type": "markdown",
   "metadata": {},
   "source": [
    "### REFERENCES \n",
    "\n",
    "https://stats.idre.ucla.edu/r/library/r-library-contrast-coding-systems-for-categorical-variables/\n",
    "\n",
    "https://stats.stackexchange.com/questions/163518/interpreting-test-results-on-log-transformed-data\n",
    "\n",
    "http://www.jerrydallal.com/LHSP/ci_logs.htm\n",
    "\n",
    "https://stats.idre.ucla.edu/other/mult-pkg/faq/general/faqhow-do-i-interpret-a-regression-model-when-some-variables-are-log-transformed/\n",
    "\n",
    "https://www.ncbi.nlm.nih.gov/pmc/articles/PMC4120293/\n",
    "\n",
    "https://blog.stata.com/2011/08/22/use-poisson-rather-than-regress-tell-a-friend/\n",
    "\n",
    "https://stats.stackexchange.com/questions/298/in-linear-regression-when-is-it-appropriate-to-use-the-log-of-an-independent-va/3530#3530\n",
    "\n",
    "Cohen (2013). Applied Multiple Regression/Correlation Analysis for the Behavioral Sciences. "
   ]
  }
 ],
 "metadata": {
  "kernelspec": {
   "display_name": "learn-env",
   "language": "python",
   "name": "learn-env"
  },
  "language_info": {
   "codemirror_mode": {
    "name": "ipython",
    "version": 3
   },
   "file_extension": ".py",
   "mimetype": "text/x-python",
   "name": "python",
   "nbconvert_exporter": "python",
   "pygments_lexer": "ipython3",
   "version": "3.6.6"
  }
 },
 "nbformat": 4,
 "nbformat_minor": 2
}
