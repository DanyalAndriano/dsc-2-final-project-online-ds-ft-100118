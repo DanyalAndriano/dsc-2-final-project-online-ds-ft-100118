{
 "cells": [
  {
   "cell_type": "markdown",
   "metadata": {},
   "source": [
    "# Module 2 Final Project - How Does Discount Impact Sales? \n",
    "\n",
    "\n",
    "### Northwind Database\n",
    "\n",
    "<img src='Northwind_ERD.png'>\n",
    "\n",
    "\n",
    "## The Deliverables\n",
    "\n",
    "The goal of your project is to query the database to get the data needed to perform a statistical analysis.  In this statistical analysis, you'll need to perform a hypothesis test (or perhaps several) to answer the following question:\n",
    "\n",
    "**_Does discount amount have a statistically significant effect on the quantity of a product in an order? If so, at what level(s) of discount?_**\n",
    "\n",
    "In addition to answering this question with a hypothesis test, you will also need to come up with **_at least 3 other hypotheses to test on your own_**.  These can by anything that you think could be imporant information for the company. \n",
    "\n",
    "For this hypothesis, be sure to specify both the **_null hypothesis_** and the **_alternative hypothesis_** for your question.  You should also specify if this is one-tail or a two-tail test. \n",
    "\n"
   ]
  },
  {
   "cell_type": "code",
   "execution_count": 1,
   "metadata": {},
   "outputs": [],
   "source": [
    "import sqlalchemy\n",
    "from sqlalchemy import create_engine\n",
    "from sqlalchemy.orm import Session, sessionmaker\n",
    "from sqlalchemy import inspect\n",
    "from sqlalchemy import MetaData\n",
    "from sqlalchemy.ext.automap import automap_base\n",
    "import pandas as pd\n",
    "\n",
    "import matplotlib.pyplot as plt\n",
    "import seaborn as sns\n",
    "from matplotlib.colors import ListedColormap\n",
    "import pylab\n",
    "%matplotlib inline\n",
    "\n",
    "from IPython.display import display, HTML\n",
    "\n",
    "from scipy import stats\n",
    "from scipy.stats.stats import pearsonr\n",
    "from sklearn.linear_model import LinearRegression\n",
    "from sklearn.model_selection import cross_val_score\n",
    "from sklearn.model_selection import KFold\n",
    "import numpy as np\n",
    "import statsmodels.stats.api as sms\n",
    "from statsmodels.regression.linear_model import OLSResults\n",
    "import statsmodels.api as sm\n",
    "from statsmodels.formula.api import ols\n",
    "from statsmodels.stats.anova import anova_lm\n",
    "from statsmodels.graphics.factorplots import interaction_plot\n",
    "import statsmodels.formula.api as smf\n",
    "import category_encoders as ce\n",
    "from statsmodels.stats.power import TTestIndPower, FTestPower, FTestAnovaPower\n",
    "from statsmodels.stats.outliers_influence import OLSInfluence\n",
    "from scipy.stats.mstats import gmean\n",
    "\n",
    "from patsy.contrasts import Sum\n",
    "from patsy.contrasts import Helmert\n",
    "from patsy.contrasts import Treatment\n",
    "from patsy import dmatrices\n"
   ]
  },
  {
   "cell_type": "code",
   "execution_count": 2,
   "metadata": {},
   "outputs": [],
   "source": [
    "def get_columns_info(col_name):\n",
    "    cols_list = inspector.get_columns(col_name)\n",
    "    \n",
    "    print(\"Table Name: {}\".format(col_name))\n",
    "    print(\"\")\n",
    "    \n",
    "    for col in cols_list:\n",
    "        print(\"Name: {} \\t Type: {}\".format(col['name'], col['type']))\n",
    "        \n",
    "def z_hbar(data, y_col, x_col, xlabel, title):\n",
    "    colors = sns.color_palette(\"GnBu_d\", 10)\n",
    "    plt.figure(figsize=(8,7))\n",
    "    ax = sns.barplot(y = data[y_col], x = data[x_col], data=data, orient='h', palette=colors, errwidth=0.8,\n",
    "           capsize=0.2)\n",
    "    ax.set_xlabel(xlabel=xlabel, fontsize=14)\n",
    "    ax.set_xticks(np.arange(-0.5, 1.5))\n",
    "    ax.set_ylabel(ylabel='Participants', fontsize=14)\n",
    "    ax.set_title(label=title, fontsize=17)\n",
    "    plt.tight_layout();\n",
    "    \n",
    "def boxplot(data, x, y, xlabel, ylabel, title):\n",
    "    meanpointprops = dict(marker='D', markeredgecolor='black',\n",
    "                      markerfacecolor='firebrick')\n",
    "    fig, axes = plt.subplots(1, figsize=(9,6))\n",
    "    sns.boxplot(x=x, y=y, data=data, ax=axes, palette=(\"husl\"), boxprops=dict(alpha=.8), \n",
    "                showmeans=True, meanprops=meanpointprops)\n",
    "    sns.swarmplot(x=x, y=y, data=data, color=\"grey\", alpha=0.6)\n",
    "    plt.xticks(fontsize=10)\n",
    "    plt.xlabel(xlabel, fontsize=12)\n",
    "    plt.ylabel(ylabel, fontsize=12)\n",
    "    plt.title(title, fontsize=14);\n",
    "    \n",
    "# Test for power based on sample and expected effect size\n",
    "def power(df_num, df_denom, alpha, effect):\n",
    "    return FTestPower().solve_power(effect_size=effect, df_num=df_num, df_denom=df_denom, alpha=alpha)"
   ]
  },
  {
   "cell_type": "code",
   "execution_count": 3,
   "metadata": {},
   "outputs": [],
   "source": [
    "engine = create_engine(\"sqlite:///Northwind_small.sqlite\", echo=False)\n",
    "Session = sessionmaker(bind=engine)\n",
    "session = Session()\n",
    "inspector = inspect(engine)\n",
    "con = engine.connect()\n",
    "metadata = MetaData()"
   ]
  },
  {
   "cell_type": "markdown",
   "metadata": {},
   "source": [
    "## What factors are related to increased sales and quantity?\n",
    "\n",
    "- Assess discount for:\n",
    "    * Discount vs Employee\n",
    "    * Dicount vs Product\n",
    "    * Discount vs Region\n",
    "    * Discount vs Customer\n",
    "    \n",
    "- Take into consideration:\n",
    "    * Hypotheses, FDR, power, beta, alpha\n",
    "    * Interactions\n",
    "    * Assumptions ANOVA (is using regression more robust?)\n",
    "    * Effect sizes and estimated cost impacts"
   ]
  },
  {
   "cell_type": "markdown",
   "metadata": {},
   "source": [
    "### DISCOUNT & QUANTITY"
   ]
  },
  {
   "cell_type": "code",
   "execution_count": 4,
   "metadata": {
    "scrolled": true
   },
   "outputs": [
    {
     "data": {
      "text/plain": [
       "['Category',\n",
       " 'Customer',\n",
       " 'CustomerCustomerDemo',\n",
       " 'CustomerDemographic',\n",
       " 'Employee',\n",
       " 'EmployeeTerritory',\n",
       " 'Order',\n",
       " 'OrderDetail',\n",
       " 'Product',\n",
       " 'Region',\n",
       " 'Shipper',\n",
       " 'Supplier',\n",
       " 'Territory']"
      ]
     },
     "execution_count": 4,
     "metadata": {},
     "output_type": "execute_result"
    }
   ],
   "source": [
    "# Get names of tables in database\n",
    "inspector.get_table_names()"
   ]
  },
  {
   "cell_type": "code",
   "execution_count": 5,
   "metadata": {},
   "outputs": [
    {
     "name": "stdout",
     "output_type": "stream",
     "text": [
      "Table Name: Product\n",
      "\n",
      "Name: Id \t Type: INTEGER\n",
      "Name: ProductName \t Type: VARCHAR(8000)\n",
      "Name: SupplierId \t Type: INTEGER\n",
      "Name: CategoryId \t Type: INTEGER\n",
      "Name: QuantityPerUnit \t Type: VARCHAR(8000)\n",
      "Name: UnitPrice \t Type: DECIMAL\n",
      "Name: UnitsInStock \t Type: INTEGER\n",
      "Name: UnitsOnOrder \t Type: INTEGER\n",
      "Name: ReorderLevel \t Type: INTEGER\n",
      "Name: Discontinued \t Type: INTEGER\n",
      "\n",
      "\n",
      "Table Name: OrderDetail\n",
      "\n",
      "Name: Id \t Type: VARCHAR(8000)\n",
      "Name: OrderId \t Type: INTEGER\n",
      "Name: ProductId \t Type: INTEGER\n",
      "Name: UnitPrice \t Type: DECIMAL\n",
      "Name: Quantity \t Type: INTEGER\n",
      "Name: Discount \t Type: FLOAT\n",
      "\n",
      "\n",
      "Table Name: Category\n",
      "\n",
      "Name: Id \t Type: INTEGER\n",
      "Name: CategoryName \t Type: VARCHAR(8000)\n",
      "Name: Description \t Type: VARCHAR(8000)\n",
      "\n",
      "\n",
      "Table Name: Order\n",
      "\n",
      "Name: Id \t Type: INTEGER\n",
      "Name: CustomerId \t Type: VARCHAR(8000)\n",
      "Name: EmployeeId \t Type: INTEGER\n",
      "Name: OrderDate \t Type: VARCHAR(8000)\n",
      "Name: RequiredDate \t Type: VARCHAR(8000)\n",
      "Name: ShippedDate \t Type: VARCHAR(8000)\n",
      "Name: ShipVia \t Type: INTEGER\n",
      "Name: Freight \t Type: DECIMAL\n",
      "Name: ShipName \t Type: VARCHAR(8000)\n",
      "Name: ShipAddress \t Type: VARCHAR(8000)\n",
      "Name: ShipCity \t Type: VARCHAR(8000)\n",
      "Name: ShipRegion \t Type: VARCHAR(8000)\n",
      "Name: ShipPostalCode \t Type: VARCHAR(8000)\n",
      "Name: ShipCountry \t Type: VARCHAR(8000)\n"
     ]
    }
   ],
   "source": [
    "get_columns_info('Product')\n",
    "print('\\n')\n",
    "get_columns_info('OrderDetail')\n",
    "print('\\n')\n",
    "get_columns_info('Category')\n",
    "print('\\n')\n",
    "get_columns_info('Order')"
   ]
  },
  {
   "cell_type": "code",
   "execution_count": 6,
   "metadata": {},
   "outputs": [],
   "source": [
    "product = pd.read_sql_query(\"\"\"\n",
    "SELECT o.EmployeeId, o.ShipRegion, od.Quantity, od.Discount, od.UnitPrice, o.Freight, \n",
    "        c.Id as CategoryId, c.CategoryName, ((p.UnitPrice * od.Quantity * (1 - od.Discount)) - Freight) as Revenue, \n",
    "        (p.UnitPrice * od.Quantity) as SalePrice\n",
    "       \n",
    "FROM [Order] o\n",
    "    join OrderDetail od\n",
    "    on od.OrderID = o.ID\n",
    "    \n",
    "    JOIN Product p\n",
    "    on od.ProductID = p.ID\n",
    "    \n",
    "    JOIN Category c \n",
    "    on c.ID = p.CategoryID  \n",
    "\n",
    "\"\"\", engine)              \n"
   ]
  },
  {
   "cell_type": "code",
   "execution_count": 7,
   "metadata": {
    "scrolled": true
   },
   "outputs": [],
   "source": [
    "# No missing data apparent\n",
    "product.isna().sum();"
   ]
  },
  {
   "cell_type": "markdown",
   "metadata": {},
   "source": [
    "# The Data\n",
    "\n",
    "## Discount\n",
    "\n",
    "The figure below shows that Discount is primarily categorical. Therefore, it was binned into a Binary variable and into a more granulated Group variable (ordinal, with bins of 5%) for analysis. "
   ]
  },
  {
   "cell_type": "code",
   "execution_count": 8,
   "metadata": {},
   "outputs": [
    {
     "data": {
      "image/png": "[encoded data removed]",
      "text/plain": [
       "<Figure size 432x288 with 1 Axes>"
      ]
     },
     "metadata": {
      "needs_background": "light"
     },
     "output_type": "display_data"
    }
   ],
   "source": [
    "product.Discount.hist();"
   ]
  },
  {
   "cell_type": "code",
   "execution_count": 9,
   "metadata": {},
   "outputs": [],
   "source": [
    "# Binary Discount \n",
    "product.loc[product['Discount'] == 0.0, 'DiscountBinary'] = 0\n",
    "product.loc[product['Discount'] > 0.0, 'DiscountBinary'] = 1\n",
    "\n",
    "# Binned Groups of 5%\n",
    "product.loc[product['Discount'] == 0.0, 'DiscountGrouped'] = 0\n",
    "product.loc[(product['Discount'] > 0.0) & (product['Discount'] <= 0.05), 'DiscountGrouped'] = 1\n",
    "product.loc[(product['Discount'] > 0.05) & (product['Discount'] <= 0.10), 'DiscountGrouped'] = 2\n",
    "product.loc[(product['Discount'] > 0.10) & (product['Discount'] <= 0.15), 'DiscountGrouped'] = 3\n",
    "product.loc[(product['Discount'] > 0.15) & (product['Discount'] <= 0.20), 'DiscountGrouped'] = 4\n",
    "product.loc[(product['Discount'] > 0.20) & (product['Discount'] <= 0.25), 'DiscountGrouped'] = 5"
   ]
  },
  {
   "cell_type": "markdown",
   "metadata": {},
   "source": [
    "## Sales Price\n",
    "\n",
    "The outcome variable of for the stated hypothesis is Quantity. \n",
    "\n",
    "However, to further evaluate whether:\n",
    "\n",
    "i) Offering discounts benefits sales\n",
    "ii) What level of discount best benefits sales\n",
    "\n",
    "It is preferable to use Sales Price as the outcome variable. Sales Price was feature engineered from **Unit Price * Quantity**, and therefore contains information about quantity as well as overall value of the sale. This may therefore be a more informative metric for decision making with regards to what discount to offer customers in the future. \n",
    "\n",
    "Since Sales was positively skewed it was log transformed for more reliable analysis. "
   ]
  },
  {
   "cell_type": "code",
   "execution_count": 23,
   "metadata": {},
   "outputs": [
    {
     "name": "stderr",
     "output_type": "stream",
     "text": [
      "/Users/danyalwainstein1/anaconda3/envs/learn-env/lib/python3.6/site-packages/scipy/stats/stats.py:1713: FutureWarning: Using a non-tuple sequence for multidimensional indexing is deprecated; use `arr[tuple(seq)]` instead of `arr[seq]`. In the future this will be interpreted as an array index, `arr[np.array(seq)]`, which will result either in an error or a different result.\n",
      "  return np.add.reduce(sorted[indexer] * weights, axis=axis) / sumval\n"
     ]
    },
    {
     "data": {
      "image/png": "[encoded data removed]",
      "text/plain": [
       "<Figure size 720x360 with 2 Axes>"
      ]
     },
     "metadata": {
      "needs_background": "light"
     },
     "output_type": "display_data"
    }
   ],
   "source": [
    "fig, (ax1, ax2) = plt.subplots(1,2,figsize = (10,5))\n",
    "\n",
    "sns.distplot(product.SalePrice, ax=ax1)\n",
    "sns.distplot(np.log(product.SalePrice), ax=ax2);\n",
    "\n",
    "ax1.set_title('Sales Price')\n",
    "ax2.set_title('Log Transformed Sales Price')\n",
    "\n",
    "#ax1.xaxis.label.set_visible(False)\n",
    "ax1.xaxis.set_label_text('Sales Price Original Metric')\n",
    "ax2.xaxis.set_label_text('Sales Price Log')\n",
    "\n",
    "product['LogSales'] = np.log(product.SalePrice)"
   ]
  },
  {
   "cell_type": "code",
   "execution_count": 24,
   "metadata": {},
   "outputs": [
    {
     "data": {
      "text/plain": [
       "count     2155.00\n",
       "mean       672.56\n",
       "std       1110.26\n",
       "min          6.00\n",
       "25%        170.50\n",
       "50%        380.00\n",
       "75%        760.00\n",
       "max      15810.00\n",
       "Name: SalePrice, dtype: float64"
      ]
     },
     "execution_count": 24,
     "metadata": {},
     "output_type": "execute_result"
    }
   ],
   "source": [
    "product.SalePrice.describe().round(2)"
   ]
  },
  {
   "cell_type": "code",
   "execution_count": 25,
   "metadata": {
    "scrolled": true
   },
   "outputs": [
    {
     "data": {
      "text/html": [
       "<div>\n",
       "<style scoped>\n",
       "    .dataframe tbody tr th:only-of-type {\n",
       "        vertical-align: middle;\n",
       "    }\n",
       "\n",
       "    .dataframe tbody tr th {\n",
       "        vertical-align: top;\n",
       "    }\n",
       "\n",
       "    .dataframe thead th {\n",
       "        text-align: right;\n",
       "    }\n",
       "</style>\n",
       "<table border=\"1\" class=\"dataframe\">\n",
       "  <thead>\n",
       "    <tr style=\"text-align: right;\">\n",
       "      <th></th>\n",
       "      <th>EmployeeId</th>\n",
       "      <th>ShipRegion</th>\n",
       "      <th>Quantity</th>\n",
       "      <th>Discount</th>\n",
       "      <th>UnitPrice</th>\n",
       "      <th>Freight</th>\n",
       "      <th>CategoryId</th>\n",
       "      <th>CategoryName</th>\n",
       "      <th>Revenue</th>\n",
       "      <th>SalePrice</th>\n",
       "      <th>DiscountBinary</th>\n",
       "      <th>DiscountGrouped</th>\n",
       "      <th>LogSales</th>\n",
       "    </tr>\n",
       "  </thead>\n",
       "  <tbody>\n",
       "    <tr>\n",
       "      <th>0</th>\n",
       "      <td>5</td>\n",
       "      <td>Western Europe</td>\n",
       "      <td>12</td>\n",
       "      <td>0.0</td>\n",
       "      <td>14.0</td>\n",
       "      <td>32.38</td>\n",
       "      <td>4</td>\n",
       "      <td>Dairy Products</td>\n",
       "      <td>219.62</td>\n",
       "      <td>252.00</td>\n",
       "      <td>0.0</td>\n",
       "      <td>0.0</td>\n",
       "      <td>5.529429</td>\n",
       "    </tr>\n",
       "    <tr>\n",
       "      <th>1</th>\n",
       "      <td>5</td>\n",
       "      <td>Western Europe</td>\n",
       "      <td>10</td>\n",
       "      <td>0.0</td>\n",
       "      <td>9.8</td>\n",
       "      <td>32.38</td>\n",
       "      <td>5</td>\n",
       "      <td>Grains/Cereals</td>\n",
       "      <td>107.62</td>\n",
       "      <td>140.00</td>\n",
       "      <td>0.0</td>\n",
       "      <td>0.0</td>\n",
       "      <td>4.941642</td>\n",
       "    </tr>\n",
       "    <tr>\n",
       "      <th>2</th>\n",
       "      <td>5</td>\n",
       "      <td>Western Europe</td>\n",
       "      <td>5</td>\n",
       "      <td>0.0</td>\n",
       "      <td>34.8</td>\n",
       "      <td>32.38</td>\n",
       "      <td>4</td>\n",
       "      <td>Dairy Products</td>\n",
       "      <td>141.62</td>\n",
       "      <td>174.00</td>\n",
       "      <td>0.0</td>\n",
       "      <td>0.0</td>\n",
       "      <td>5.159055</td>\n",
       "    </tr>\n",
       "    <tr>\n",
       "      <th>3</th>\n",
       "      <td>6</td>\n",
       "      <td>Western Europe</td>\n",
       "      <td>9</td>\n",
       "      <td>0.0</td>\n",
       "      <td>18.6</td>\n",
       "      <td>11.61</td>\n",
       "      <td>7</td>\n",
       "      <td>Produce</td>\n",
       "      <td>197.64</td>\n",
       "      <td>209.25</td>\n",
       "      <td>0.0</td>\n",
       "      <td>0.0</td>\n",
       "      <td>5.343530</td>\n",
       "    </tr>\n",
       "    <tr>\n",
       "      <th>4</th>\n",
       "      <td>6</td>\n",
       "      <td>Western Europe</td>\n",
       "      <td>40</td>\n",
       "      <td>0.0</td>\n",
       "      <td>42.4</td>\n",
       "      <td>11.61</td>\n",
       "      <td>7</td>\n",
       "      <td>Produce</td>\n",
       "      <td>2108.39</td>\n",
       "      <td>2120.00</td>\n",
       "      <td>0.0</td>\n",
       "      <td>0.0</td>\n",
       "      <td>7.659171</td>\n",
       "    </tr>\n",
       "  </tbody>\n",
       "</table>\n",
       "</div>"
      ],
      "text/plain": [
       "   EmployeeId      ShipRegion  Quantity  Discount  UnitPrice  Freight  \\\n",
       "0           5  Western Europe        12       0.0       14.0    32.38   \n",
       "1           5  Western Europe        10       0.0        9.8    32.38   \n",
       "2           5  Western Europe         5       0.0       34.8    32.38   \n",
       "3           6  Western Europe         9       0.0       18.6    11.61   \n",
       "4           6  Western Europe        40       0.0       42.4    11.61   \n",
       "\n",
       "   CategoryId    CategoryName  Revenue  SalePrice  DiscountBinary  \\\n",
       "0           4  Dairy Products   219.62     252.00             0.0   \n",
       "1           5  Grains/Cereals   107.62     140.00             0.0   \n",
       "2           4  Dairy Products   141.62     174.00             0.0   \n",
       "3           7         Produce   197.64     209.25             0.0   \n",
       "4           7         Produce  2108.39    2120.00             0.0   \n",
       "\n",
       "   DiscountGrouped  LogSales  \n",
       "0              0.0  5.529429  \n",
       "1              0.0  4.941642  \n",
       "2              0.0  5.159055  \n",
       "3              0.0  5.343530  \n",
       "4              0.0  7.659171  "
      ]
     },
     "execution_count": 25,
     "metadata": {},
     "output_type": "execute_result"
    }
   ],
   "source": [
    "product.head()"
   ]
  },
  {
   "cell_type": "markdown",
   "metadata": {},
   "source": [
    "# Significance Testing and Log Sales\n",
    "\n",
    "Sales Price was log transformed and the logarithmic mean for significance testing. If we convert the logarithmic mean back into our original scale, we create Geometric Means, which are the anti-logs of the mean of the logged data. \n",
    "\n",
    "Since logarithmic transformation creates a more symmetric distribution where the mean and median coincide (as opposed to the original, where the median is less than the mean), an estimate of the log mean is also an estimate of the log median. Since the mean of the logs estimates the median of the logs, its anti-log--the geometric mean--estimates the median in the original scale. \n",
    "\n",
    "Therefore, interpreting the null based on a log transformed outcomes variable will result in an interpretation of the conditional median in the original data, rather than the mean. Furthermore, the coefficients must be interpreted as ratios rather than differences, when converted back into the original metric. \n",
    "\n",
    "The exponentiated coefficient can be interpreted as the ratio of the expected geometric mean for the one group compared with the expected geometric mean of the group it is being compared with. Marginal changes in the explanatory variables are interpreted in terms of multiplicative (percentage) changes in the dependent variable. "
   ]
  },
  {
   "cell_type": "code",
   "execution_count": 13,
   "metadata": {},
   "outputs": [],
   "source": [
    "# Functions for finding the Geometric Mean from Regression Models\n",
    "def geo_mean_convert(B):\n",
    "    # natural log of the input\n",
    "    # exponentiation is inverse of logarithm \n",
    "    return round(np.exp(B), 2)\n",
    "\n",
    "def geomean_ratio(coefficient, ref, group):\n",
    "    # ratios of the natural logs\n",
    "    ratio = round(np.exp(coefficient), 2)\n",
    "    print('The geometric mean of {} is {} times {}'.format(group.title(), ratio, ref.title()))\n",
    "    if ratio > 1:\n",
    "          print('The geometric mean of {} is {}% more than {}'.format(group.title(), round(ratio%1*100, 0), ref.title()))      \n",
    "    else:\n",
    "          print('The geometric mean of {} is {}% less than {}'.format(group.title(), round((1 - ratio%1)*100, 2), ref.title()))\n",
    "      \n",
    "#def ci_geometric_ratio(lower, upper):\n",
    "                \n",
    "def geo_means(data, x, y):\n",
    "    groups = sorted(list(data[x].unique()))\n",
    "    geo_mean = [round(gmean(data.loc[data[x] == group][y]), 2) for group in groups]\n",
    "    median = [round((data.loc[data[x] == group][y].median()), 2) for group in groups] \n",
    "    amean = [round(data.loc[data[x] == group][y].mean(), 2) for group in groups]\n",
    "    df = pd.DataFrame({x:groups, 'geo_mean': geo_mean, 'median': median, 'mean': amean})\n",
    "    return df"
   ]
  },
  {
   "cell_type": "markdown",
   "metadata": {},
   "source": [
    "# QUANTITY \n",
    "\n",
    "**Hypotheses:**\n",
    "\n",
    "$H_0$: **Discount does not significantly affect Sale Quantity (Discount = No Discount)**\n",
    "\n",
    "$H_1$: **Discount does significantly affect Sale Quantity (Discount != No Discount)**\n",
    "\n",
    "\n",
    "Various OLS models were used to study the relationships between quantity, discount and sales. In most instances the models are not complete and the aim was not overall predictive accuracy, but rather establishing relationships (or lack thereof) between variables. Since the F-test of the OLS model is identical to ANOVA, OLS was preferred for it's enhanced flexibility (ability to combine categorical and continuous variables), improved robustness and better diagnostic/influence tests. \n",
    "\n",
    "*NOTE: Transformed Y was only retained where transformation changed significance values. Since the sample size is large it was often the case that log/ sqrt transformed Y did not impact the conclusions and in this case the original variables were retained for interpretable coefficients.*  "
   ]
  },
  {
   "cell_type": "code",
   "execution_count": 27,
   "metadata": {},
   "outputs": [
    {
     "name": "stderr",
     "output_type": "stream",
     "text": [
      "/Users/danyalwainstein1/anaconda3/envs/learn-env/lib/python3.6/site-packages/scipy/stats/stats.py:1713: FutureWarning: Using a non-tuple sequence for multidimensional indexing is deprecated; use `arr[tuple(seq)]` instead of `arr[seq]`. In the future this will be interpreted as an array index, `arr[np.array(seq)]`, which will result either in an error or a different result.\n",
      "  return np.add.reduce(sorted[indexer] * weights, axis=axis) / sumval\n"
     ]
    },
    {
     "name": "stdout",
     "output_type": "stream",
     "text": [
      "count    2155.000000\n",
      "mean       23.812993\n",
      "std        19.022047\n",
      "min         1.000000\n",
      "25%        10.000000\n",
      "50%        20.000000\n",
      "75%        30.000000\n",
      "max       130.000000\n",
      "Name: Quantity, dtype: float64\n"
     ]
    },
    {
     "data": {
      "image/png": "[encoded data removed]",
      "text/plain": [
       "<Figure size 432x288 with 1 Axes>"
      ]
     },
     "metadata": {
      "needs_background": "light"
     },
     "output_type": "display_data"
    }
   ],
   "source": [
    "sns.distplot(product.Quantity)\n",
    "print(product.Quantity.describe())"
   ]
  },
  {
   "cell_type": "code",
   "execution_count": 14,
   "metadata": {},
   "outputs": [
    {
     "name": "stdout",
     "output_type": "stream",
     "text": [
      "                     Quantity\n",
      "                   mean     std\n",
      "DiscountGrouped                \n",
      "0.0              21.715  17.507\n",
      "1.0              27.052  22.331\n",
      "2.0              25.103  21.199\n",
      "3.0              28.382  20.923\n",
      "4.0              27.025  18.833\n",
      "5.0              28.240  20.121\n"
     ]
    }
   ],
   "source": [
    "print('Quantity')\n",
    "print(product.groupby(['DiscountGrouped'])['Quantity'].agg(['mean', 'std']).round(3))"
   ]
  },
  {
   "cell_type": "code",
   "execution_count": 15,
   "metadata": {},
   "outputs": [
    {
     "data": {
      "text/plain": [
       "DiscountBinary\n",
       "0.0    21.715262\n",
       "1.0    27.109785\n",
       "Name: Quantity, dtype: float64"
      ]
     },
     "execution_count": 15,
     "metadata": {},
     "output_type": "execute_result"
    }
   ],
   "source": [
    "product.groupby(['DiscountBinary'])['Quantity'].mean()"
   ]
  },
  {
   "cell_type": "code",
   "execution_count": 16,
   "metadata": {},
   "outputs": [
    {
     "data": {
      "image/png": "[encoded data removed]",
      "text/plain": [
       "<Figure size 432x288 with 1 Axes>"
      ]
     },
     "metadata": {
      "needs_background": "light"
     },
     "output_type": "display_data"
    }
   ],
   "source": [
    "plt.scatter(product.DiscountBinary, product.Quantity, marker = \"+\")\n",
    "plt.plot([0, 1], [np.mean(product.query('DiscountBinary == 0').Quantity), np.mean(product.query('DiscountBinary == 1').Quantity)], 'r--')\n",
    "plt.title('Mean Difference in Quantity for No Discount vs Discount')\n",
    "plt.ylabel(\"Quantity\")\n",
    "plt.xlabel(\"Discount\")\n",
    "plt.show()"
   ]
  },
  {
   "cell_type": "code",
   "execution_count": 17,
   "metadata": {},
   "outputs": [
    {
     "name": "stdout",
     "output_type": "stream",
     "text": [
      "[[0. 0. 0. 0. 0.]\n",
      " [1. 0. 0. 0. 0.]\n",
      " [0. 1. 0. 0. 0.]\n",
      " [0. 0. 1. 0. 0.]\n",
      " [0. 0. 0. 1. 0.]\n",
      " [0. 0. 0. 0. 1.]]\n"
     ]
    }
   ],
   "source": [
    "# Contrast matrix for OLS group comparisons \n",
    "\n",
    "levels = [i for i in range(0, len(set(product.DiscountGrouped)))]\n",
    "levels1 = [i for i in range(2)]\n",
    "\n",
    "dummy_contrast = Treatment(reference=0).code_without_intercept(levels)\n",
    "dummy_con_binary = Treatment(reference=0).code_without_intercept(levels1)\n",
    "\n",
    "print(dummy_contrast.matrix)"
   ]
  },
  {
   "cell_type": "code",
   "execution_count": 18,
   "metadata": {},
   "outputs": [
    {
     "name": "stdout",
     "output_type": "stream",
     "text": [
      "                            OLS Regression Results                            \n",
      "==============================================================================\n",
      "Dep. Variable:               Quantity   R-squared:                       0.019\n",
      "Model:                            OLS   Adj. R-squared:                  0.019\n",
      "Method:                 Least Squares   F-statistic:                     38.88\n",
      "Date:                Fri, 21 Dec 2018   Prob (F-statistic):           5.39e-10\n",
      "Time:                        08:21:29   Log-Likelihood:                -9384.3\n",
      "No. Observations:                2155   AIC:                         1.877e+04\n",
      "Df Residuals:                    2153   BIC:                         1.878e+04\n",
      "Df Model:                           1                                         \n",
      "Covariance Type:                  HC3                                         \n",
      "============================================================================================\n",
      "                               coef    std err          z      P>|z|      [0.025      0.975]\n",
      "--------------------------------------------------------------------------------------------\n",
      "Intercept                   21.7153      0.483     44.995      0.000      20.769      22.661\n",
      "C(DiscountBinary)[T.1.0]     5.3945      0.865      6.236      0.000       3.699       7.090\n",
      "==============================================================================\n",
      "Omnibus:                      781.498   Durbin-Watson:                   1.629\n",
      "Prob(Omnibus):                  0.000   Jarque-Bera (JB):             3015.153\n",
      "Skew:                           1.761   Prob(JB):                         0.00\n",
      "Kurtosis:                       7.602   Cond. No.                         2.44\n",
      "==============================================================================\n",
      "\n",
      "Warnings:\n",
      "[1] Standard Errors are heteroscedasticity robust (HC3)\n"
     ]
    }
   ],
   "source": [
    "# H0: No Discount = Discount for Quantity\n",
    "# H1: No Discount != Discount for Quantity\n",
    "\n",
    "# Robust errors used to correct for heteroscedasticity (HC3)\n",
    "lm = smf.ols('Quantity ~ C(DiscountBinary)', data = product).fit(cov_type='HC3')\n",
    "print(lm.summary())\n"
   ]
  },
  {
   "cell_type": "code",
   "execution_count": 19,
   "metadata": {},
   "outputs": [
    {
     "name": "stdout",
     "output_type": "stream",
     "text": [
      "                            OLS Regression Results                            \n",
      "==============================================================================\n",
      "Dep. Variable:               Quantity   R-squared:                       0.021\n",
      "Model:                            OLS   Adj. R-squared:                  0.018\n",
      "Method:                 Least Squares   F-statistic:                     8.408\n",
      "Date:                Fri, 21 Dec 2018   Prob (F-statistic):           6.90e-08\n",
      "Time:                        08:21:33   Log-Likelihood:                -9382.6\n",
      "No. Observations:                2155   AIC:                         1.878e+04\n",
      "Df Residuals:                    2149   BIC:                         1.881e+04\n",
      "Df Model:                           5                                         \n",
      "Covariance Type:                  HC3                                         \n",
      "=============================================================================================\n",
      "                                coef    std err          z      P>|z|      [0.025      0.975]\n",
      "---------------------------------------------------------------------------------------------\n",
      "Intercept                    21.7153      0.483     44.995      0.000      20.769      22.661\n",
      "C(DiscountGrouped)[T.1.0]     5.3368      1.686      3.165      0.002       2.032       8.642\n",
      "C(DiscountGrouped)[T.2.0]     3.3882      1.682      2.014      0.044       0.091       6.686\n",
      "C(DiscountGrouped)[T.3.0]     6.6669      1.743      3.824      0.000       3.250      10.084\n",
      "C(DiscountGrouped)[T.4.0]     5.3096      1.565      3.392      0.001       2.242       8.377\n",
      "C(DiscountGrouped)[T.5.0]     6.5250      1.697      3.846      0.000       3.199       9.851\n",
      "==============================================================================\n",
      "Omnibus:                      786.055   Durbin-Watson:                   1.633\n",
      "Prob(Omnibus):                  0.000   Jarque-Bera (JB):             3070.774\n",
      "Skew:                           1.767   Prob(JB):                         0.00\n",
      "Kurtosis:                       7.660   Cond. No.                         4.75\n",
      "==============================================================================\n",
      "\n",
      "Warnings:\n",
      "[1] Standard Errors are heteroscedasticity robust (HC3)\n"
     ]
    }
   ],
   "source": [
    "# Investigation of whether all levels of discount differed significantly from no discount\n",
    "lm = smf.ols('Quantity ~ C(DiscountGrouped)', data = product).fit(cov_type='HC3')\n",
    "print(lm.summary())"
   ]
  },
  {
   "cell_type": "markdown",
   "metadata": {},
   "source": [
    "## INTERPRETATION\n",
    "\n",
    "The _F-test_ evaluates the significance of $R_2$ compared to the null (nil) hypothesis, (i.e., that $R_2$ is 0). A significant F statistic indicated that the amount of variance in _Quantity_ accounted for by _Discount_ is significantly different from 0. However, $R_2$ also doubles as an effect size, indicating that ~2% of quantity can be accounted for by _some_ Discount, which isn't much. \n",
    "\n",
    "Interpreting the main effect of discount, the intercept $B_0$ is the mean _Quantity_ for the _no discount_ category. For the remaining groups each Beta value represents the comparison between that group and the _no discount_ group (the specified reference group). For instance, the first contrast is no discount vs 1 - 5%; $B$ = 5.3368 for this group and indicates that up to a 5% discount results in an increase in quantity of ~5. Likewise, for the second contrast, compared with no discount a 5 - 10% discount results in an increase in quantity of ~ 3. All categories of discount are significantly different from the _no discount_ category. However, this does not indicate to us that all levels of discount are significant from each other. This is a very relevant question to ask because if a 5% discount produces the same increase in Quantity for an order as a 25% discount, we could perhaps increase profits by only offering small discounts. \n",
    "\n",
    "**Follow up Hypotheses:**\n",
    "\n",
    "$H_0$: **All levels of discount are equal with regards to Quantity**\n",
    "\n",
    "$H_1$: **Levels of discount differ with regards to Quantity**\n"
   ]
  },
  {
   "cell_type": "code",
   "execution_count": 20,
   "metadata": {},
   "outputs": [
    {
     "name": "stdout",
     "output_type": "stream",
     "text": [
      "Sum Contrast Matrix for Discount Groups\n",
      " [[ 1.  0.  0.  0.]\n",
      " [ 0.  1.  0.  0.]\n",
      " [ 0.  0.  1.  0.]\n",
      " [ 0.  0.  0.  1.]\n",
      " [-1. -1. -1. -1.]]\n"
     ]
    }
   ],
   "source": [
    "# Contrast only discount categories\n",
    "discount = product.loc[product['DiscountGrouped'] > 0]\n",
    "\n",
    "levels = [i for i in range(0, len(set(discount.DiscountGrouped)))]\n",
    "\n",
    "# Compare each category to the unweighted mean of means for all others\n",
    "sum_con_disc = Sum(omit=None).code_without_intercept(levels)\n",
    "\n",
    "print('Sum Contrast Matrix for Discount Groups\\n',sum_con_disc.matrix)"
   ]
  },
  {
   "cell_type": "code",
   "execution_count": 21,
   "metadata": {
    "scrolled": false
   },
   "outputs": [
    {
     "name": "stdout",
     "output_type": "stream",
     "text": [
      "                            OLS Regression Results                            \n",
      "==============================================================================\n",
      "Dep. Variable:               Quantity   R-squared:                       0.003\n",
      "Model:                            OLS   Adj. R-squared:                 -0.002\n",
      "Method:                 Least Squares   F-statistic:                    0.6532\n",
      "Date:                Fri, 21 Dec 2018   Prob (F-statistic):              0.625\n",
      "Time:                        08:21:37   Log-Likelihood:                -3729.4\n",
      "No. Observations:                 838   AIC:                             7469.\n",
      "Df Residuals:                     833   BIC:                             7492.\n",
      "Df Model:                           4                                         \n",
      "Covariance Type:                  HC3                                         \n",
      "=========================================================================================================\n",
      "                                            coef    std err          z      P>|z|      [0.025      0.975]\n",
      "---------------------------------------------------------------------------------------------------------\n",
      "Intercept                                27.1606      0.718     37.844      0.000      25.754      28.567\n",
      "C(DiscountGrouped, sum_con_disc)[S.0]    -0.1085      1.443     -0.075      0.940      -2.936       2.719\n",
      "C(DiscountGrouped, sum_con_disc)[S.1]    -2.0571      1.440     -1.429      0.153      -4.879       0.765\n",
      "C(DiscountGrouped, sum_con_disc)[S.2]     1.2216      1.483      0.824      0.410      -1.685       4.128\n",
      "C(DiscountGrouped, sum_con_disc)[S.3]    -0.1357      1.358     -0.100      0.920      -2.798       2.527\n",
      "==============================================================================\n",
      "Omnibus:                      265.252   Durbin-Watson:                   1.647\n",
      "Prob(Omnibus):                  0.000   Jarque-Bera (JB):              754.926\n",
      "Skew:                           1.593   Prob(JB):                    1.17e-164\n",
      "Kurtosis:                       6.387   Cond. No.                         2.32\n",
      "==============================================================================\n",
      "\n",
      "Warnings:\n",
      "[1] Standard Errors are heteroscedasticity robust (HC3)\n",
      "\n",
      "C(DiscountGrouped, sum_con_disc)[S.4]     1.0797      1.450      0.745      0.457      -1.762       3.922\n"
     ]
    }
   ],
   "source": [
    "# OLS model to test whether level of discount was significantly related to Quantity\n",
    "\n",
    "# See last discount category printed below summary\n",
    "lm = smf.ols('Quantity ~ C(DiscountGrouped, sum_con_disc)', data = discount).fit(cov_type='HC3')\n",
    "print(lm.summary(), end='\\n\\n')\n",
    "print('C(DiscountGrouped, sum_con_disc)[S.4]     1.0797      1.450      0.745      0.457      -1.762       3.922')"
   ]
  },
  {
   "cell_type": "markdown",
   "metadata": {},
   "source": [
    "## INTERPRETATION\n",
    "\n",
    "A sum contrast was used to compare each level of discount with all other levels (i.e., the mean quantity for each level of discount was compared with the combined mean quantity for all other levels). Significance testing indicated that level of discount accounted for no variance/ effect in Quantity, _F = 0.65, p = 0.625_. Therefore, individual contrasts will not be investigated and we can conclude that, while some discount is significantly related to Quantity, the level of discount is inconsequential. We therefore fail to reject the null, and accept that all levels of discount are equal with regards to Quantity. \n",
    "\n",
    "Now, to determine whether the increase in quantity accounted for by discount is substantial in a real world sense, and not only in a statistical sense, the overall price of the sale will be investigated. Sales Price was feature engineered from **Unit Price * Quantity**, and therefore contains information about quantity as well as overall value of the sale. This may therefore be a more informative metric for decision making with regards to what discount to offer customers in the future. \n",
    "\n",
    "**Follow up Hypotheses:**\n",
    "\n",
    "$H_0$: **Discount does not significantly impact Sales Price (median no discount = median discount)**\n",
    "\n",
    "$H_1$: **Discount does significantly impact Sales Price (median no discount != median discount)**\n",
    "\n"
   ]
  },
  {
   "cell_type": "markdown",
   "metadata": {},
   "source": [
    "# Sales - Discount vs No Discount"
   ]
  },
  {
   "cell_type": "code",
   "execution_count": 22,
   "metadata": {},
   "outputs": [
    {
     "name": "stdout",
     "output_type": "stream",
     "text": [
      "                            OLS Regression Results                            \n",
      "==============================================================================\n",
      "Dep. Variable:               LogSales   R-squared:                       0.010\n",
      "Model:                            OLS   Adj. R-squared:                  0.010\n",
      "Method:                 Least Squares   F-statistic:                     22.44\n",
      "Date:                Fri, 21 Dec 2018   Prob (F-statistic):           2.31e-06\n",
      "Time:                        08:21:44   Log-Likelihood:                -3375.0\n",
      "No. Observations:                2155   AIC:                             6754.\n",
      "Df Residuals:                    2153   BIC:                             6765.\n",
      "Df Model:                           1                                         \n",
      "Covariance Type:                  HC3                                         \n",
      "============================================================================================\n",
      "                               coef    std err          z      P>|z|      [0.025      0.975]\n",
      "--------------------------------------------------------------------------------------------\n",
      "Intercept                    5.7652      0.032    181.390      0.000       5.703       5.828\n",
      "C(DiscountBinary)[T.1.0]     0.2435      0.051      4.737      0.000       0.143       0.344\n",
      "==============================================================================\n",
      "Omnibus:                       11.675   Durbin-Watson:                   1.690\n",
      "Prob(Omnibus):                  0.003   Jarque-Bera (JB):               11.681\n",
      "Skew:                          -0.175   Prob(JB):                      0.00291\n",
      "Kurtosis:                       3.085   Cond. No.                         2.44\n",
      "==============================================================================\n",
      "\n",
      "Warnings:\n",
      "[1] Standard Errors are heteroscedasticity robust (HC3)\n"
     ]
    }
   ],
   "source": [
    "# Log transformed Sales were used for more reliable estimates \n",
    "lm = smf.ols('LogSales ~ C(DiscountBinary)', data = product).fit(cov_type='HC3')\n",
    "print(lm.summary())"
   ]
  },
  {
   "cell_type": "code",
   "execution_count": 23,
   "metadata": {},
   "outputs": [
    {
     "data": {
      "text/html": [
       "<div>\n",
       "<style scoped>\n",
       "    .dataframe tbody tr th:only-of-type {\n",
       "        vertical-align: middle;\n",
       "    }\n",
       "\n",
       "    .dataframe tbody tr th {\n",
       "        vertical-align: top;\n",
       "    }\n",
       "\n",
       "    .dataframe thead th {\n",
       "        text-align: right;\n",
       "    }\n",
       "</style>\n",
       "<table border=\"1\" class=\"dataframe\">\n",
       "  <thead>\n",
       "    <tr style=\"text-align: right;\">\n",
       "      <th></th>\n",
       "      <th>DiscountBinary</th>\n",
       "      <th>geo_mean</th>\n",
       "      <th>median</th>\n",
       "      <th>mean</th>\n",
       "    </tr>\n",
       "  </thead>\n",
       "  <tbody>\n",
       "    <tr>\n",
       "      <th>0</th>\n",
       "      <td>0.0</td>\n",
       "      <td>319.01</td>\n",
       "      <td>357.5</td>\n",
       "      <td>606.96</td>\n",
       "    </tr>\n",
       "    <tr>\n",
       "      <th>1</th>\n",
       "      <td>1.0</td>\n",
       "      <td>406.96</td>\n",
       "      <td>440.8</td>\n",
       "      <td>775.66</td>\n",
       "    </tr>\n",
       "  </tbody>\n",
       "</table>\n",
       "</div>"
      ],
      "text/plain": [
       "   DiscountBinary  geo_mean  median    mean\n",
       "0             0.0    319.01   357.5  606.96\n",
       "1             1.0    406.96   440.8  775.66"
      ]
     },
     "execution_count": 23,
     "metadata": {},
     "output_type": "execute_result"
    }
   ],
   "source": [
    "# The geometric mean is the same as the median\n",
    "geo_means(product, 'DiscountBinary', 'SalePrice')"
   ]
  },
  {
   "cell_type": "code",
   "execution_count": 64,
   "metadata": {},
   "outputs": [
    {
     "name": "stdout",
     "output_type": "stream",
     "text": [
      "Median Sales Price for Discount: 406.95\n",
      "Median Sales Price for No Discount: 319.0\n",
      "Ratio between median values: 1.28\n"
     ]
    }
   ],
   "source": [
    "# The anti-log for the sum of the intercept and coefficient is the median for the Discount group (as confirmed above) \n",
    "print('Median Sales Price for Discount:', geo_mean_convert((0.2435 + 5.7652)))\n",
    "\n",
    "# The intercept gives the geometric mean for the No Discount Group\n",
    "print('Median Sales Price for No Discount:', geo_mean_convert(5.7652))\n",
    "\n",
    "# using only the coefficient gives the ratio between geometric means\n",
    "print('Ratio between median values:', geo_mean_convert(0.2435))"
   ]
  },
  {
   "cell_type": "code",
   "execution_count": 25,
   "metadata": {},
   "outputs": [
    {
     "name": "stdout",
     "output_type": "stream",
     "text": [
      "The geometric mean of Discount is 1.28 times No Discount\n",
      "The geometric mean of Discount is 28.0% more than No Discount\n"
     ]
    }
   ],
   "source": [
    "geomean_ratio(0.2435, 'no discount', 'discount')"
   ]
  },
  {
   "cell_type": "markdown",
   "metadata": {},
   "source": [
    "## INTERPRETATION\n",
    "\n",
    "Discount significantly increased sales compared with no discount (Median = 406.95 vs Median = 319.01, respectively). Therefore, we fail to reject the null and accept that offering a discount did increase Sales. \n",
    "\n",
    "**Follow Up Hypotheses:**\n",
    "\n",
    "$H_0$: **All levels of discount are equal with regards to Sales Price (Median for all discount groups equal)**\n",
    "\n",
    "$H_1$: **Levels of discount differ with regards to Sales Price (Medians for all discount groups not equal)**\n",
    "\n"
   ]
  },
  {
   "cell_type": "code",
   "execution_count": 26,
   "metadata": {},
   "outputs": [
    {
     "name": "stdout",
     "output_type": "stream",
     "text": [
      "[[-1. -1. -1. -1.]\n",
      " [ 1.  0.  0.  0.]\n",
      " [ 0.  1.  0.  0.]\n",
      " [ 0.  0.  1.  0.]\n",
      " [ 0.  0.  0.  1.]]\n"
     ]
    }
   ],
   "source": [
    "# Contrast only discount categories\n",
    "\n",
    "discount = product.loc[product['DiscountGrouped'] > 0]\n",
    "\n",
    "levels = [i for i in range(0, len(set(discount.DiscountGrouped)))]\n",
    "\n",
    "sum_con_disc = Sum(omit=0).code_without_intercept(levels)\n",
    "\n",
    "print(sum_con_disc.matrix)"
   ]
  },
  {
   "cell_type": "code",
   "execution_count": 27,
   "metadata": {},
   "outputs": [
    {
     "name": "stdout",
     "output_type": "stream",
     "text": [
      "                            OLS Regression Results                            \n",
      "==============================================================================\n",
      "Dep. Variable:               LogSales   R-squared:                       0.012\n",
      "Model:                            OLS   Adj. R-squared:                  0.010\n",
      "Method:                 Least Squares   F-statistic:                     5.149\n",
      "Date:                Fri, 21 Dec 2018   Prob (F-statistic):           0.000106\n",
      "Time:                        08:30:59   Log-Likelihood:                -3373.4\n",
      "No. Observations:                2155   AIC:                             6759.\n",
      "Df Residuals:                    2149   BIC:                             6793.\n",
      "Df Model:                           5                                         \n",
      "Covariance Type:            nonrobust                                         \n",
      "=============================================================================================\n",
      "                                coef    std err          t      P>|t|      [0.025      0.975]\n",
      "---------------------------------------------------------------------------------------------\n",
      "Intercept                     5.7652      0.032    180.465      0.000       5.703       5.828\n",
      "C(DiscountGrouped)[T.1.0]     0.2505      0.090      2.797      0.005       0.075       0.426\n",
      "C(DiscountGrouped)[T.2.0]     0.1364      0.094      1.459      0.145      -0.047       0.320\n",
      "C(DiscountGrouped)[T.3.0]     0.2592      0.098      2.648      0.008       0.067       0.451\n",
      "C(DiscountGrouped)[T.4.0]     0.2233      0.097      2.307      0.021       0.033       0.413\n",
      "C(DiscountGrouped)[T.5.0]     0.3609      0.099      3.656      0.000       0.167       0.555\n",
      "==============================================================================\n",
      "Omnibus:                       12.062   Durbin-Watson:                   1.693\n",
      "Prob(Omnibus):                  0.002   Jarque-Bera (JB):               12.077\n",
      "Skew:                          -0.178   Prob(JB):                      0.00238\n",
      "Kurtosis:                       3.084   Cond. No.                         4.75\n",
      "==============================================================================\n",
      "\n",
      "Warnings:\n",
      "[1] Standard Errors assume that the covariance matrix of the errors is correctly specified.\n"
     ]
    }
   ],
   "source": [
    "lm = smf.ols('LogSales ~ C(DiscountGrouped)', data = product).fit()\n",
    "print(lm.summary())"
   ]
  },
  {
   "cell_type": "code",
   "execution_count": 28,
   "metadata": {},
   "outputs": [
    {
     "data": {
      "text/html": [
       "<div>\n",
       "<style scoped>\n",
       "    .dataframe tbody tr th:only-of-type {\n",
       "        vertical-align: middle;\n",
       "    }\n",
       "\n",
       "    .dataframe tbody tr th {\n",
       "        vertical-align: top;\n",
       "    }\n",
       "\n",
       "    .dataframe thead th {\n",
       "        text-align: right;\n",
       "    }\n",
       "</style>\n",
       "<table border=\"1\" class=\"dataframe\">\n",
       "  <thead>\n",
       "    <tr style=\"text-align: right;\">\n",
       "      <th></th>\n",
       "      <th>DiscountGrouped</th>\n",
       "      <th>geo_mean</th>\n",
       "      <th>median</th>\n",
       "      <th>mean</th>\n",
       "    </tr>\n",
       "  </thead>\n",
       "  <tbody>\n",
       "    <tr>\n",
       "      <th>0</th>\n",
       "      <td>0.0</td>\n",
       "      <td>319.01</td>\n",
       "      <td>357.5</td>\n",
       "      <td>606.96</td>\n",
       "    </tr>\n",
       "    <tr>\n",
       "      <th>1</th>\n",
       "      <td>1.0</td>\n",
       "      <td>409.82</td>\n",
       "      <td>426.0</td>\n",
       "      <td>856.43</td>\n",
       "    </tr>\n",
       "    <tr>\n",
       "      <th>2</th>\n",
       "      <td>2.0</td>\n",
       "      <td>365.63</td>\n",
       "      <td>397.5</td>\n",
       "      <td>640.90</td>\n",
       "    </tr>\n",
       "    <tr>\n",
       "      <th>3</th>\n",
       "      <td>3.0</td>\n",
       "      <td>413.40</td>\n",
       "      <td>450.0</td>\n",
       "      <td>702.65</td>\n",
       "    </tr>\n",
       "    <tr>\n",
       "      <th>4</th>\n",
       "      <td>4.0</td>\n",
       "      <td>398.80</td>\n",
       "      <td>397.5</td>\n",
       "      <td>767.93</td>\n",
       "    </tr>\n",
       "    <tr>\n",
       "      <th>5</th>\n",
       "      <td>5.0</td>\n",
       "      <td>457.67</td>\n",
       "      <td>482.5</td>\n",
       "      <td>909.75</td>\n",
       "    </tr>\n",
       "  </tbody>\n",
       "</table>\n",
       "</div>"
      ],
      "text/plain": [
       "   DiscountGrouped  geo_mean  median    mean\n",
       "0              0.0    319.01   357.5  606.96\n",
       "1              1.0    409.82   426.0  856.43\n",
       "2              2.0    365.63   397.5  640.90\n",
       "3              3.0    413.40   450.0  702.65\n",
       "4              4.0    398.80   397.5  767.93\n",
       "5              5.0    457.67   482.5  909.75"
      ]
     },
     "execution_count": 28,
     "metadata": {},
     "output_type": "execute_result"
    }
   ],
   "source": [
    "geo_means(product, 'DiscountGrouped', 'SalePrice')"
   ]
  },
  {
   "cell_type": "code",
   "execution_count": 29,
   "metadata": {},
   "outputs": [
    {
     "name": "stdout",
     "output_type": "stream",
     "text": [
      "                            OLS Regression Results                            \n",
      "==============================================================================\n",
      "Dep. Variable:               LogSales   R-squared:                       0.004\n",
      "Model:                            OLS   Adj. R-squared:                 -0.001\n",
      "Method:                 Least Squares   F-statistic:                    0.7741\n",
      "Date:                Fri, 21 Dec 2018   Prob (F-statistic):              0.542\n",
      "Time:                        08:31:00   Log-Likelihood:                -1317.6\n",
      "No. Observations:                 838   AIC:                             2645.\n",
      "Df Residuals:                     833   BIC:                             2669.\n",
      "Df Model:                           4                                         \n",
      "Covariance Type:            nonrobust                                         \n",
      "=============================================================================================\n",
      "                                coef    std err          t      P>|t|      [0.025      0.975]\n",
      "---------------------------------------------------------------------------------------------\n",
      "Intercept                     6.0157      0.084     71.286      0.000       5.850       6.181\n",
      "C(DiscountGrouped)[T.2.0]    -0.1141      0.122     -0.932      0.352      -0.354       0.126\n",
      "C(DiscountGrouped)[T.3.0]     0.0087      0.126      0.069      0.945      -0.238       0.256\n",
      "C(DiscountGrouped)[T.4.0]    -0.0272      0.125     -0.218      0.827      -0.273       0.218\n",
      "C(DiscountGrouped)[T.5.0]     0.1104      0.126      0.873      0.383      -0.138       0.359\n",
      "==============================================================================\n",
      "Omnibus:                        7.912   Durbin-Watson:                   1.711\n",
      "Prob(Omnibus):                  0.019   Jarque-Bera (JB):                7.827\n",
      "Skew:                          -0.230   Prob(JB):                       0.0200\n",
      "Kurtosis:                       3.116   Cond. No.                         5.50\n",
      "==============================================================================\n",
      "\n",
      "Warnings:\n",
      "[1] Standard Errors assume that the covariance matrix of the errors is correctly specified.\n"
     ]
    }
   ],
   "source": [
    "lm = smf.ols('LogSales ~ C(DiscountGrouped)', data = discount).fit()\n",
    "print(lm.summary())"
   ]
  },
  {
   "cell_type": "markdown",
   "metadata": {},
   "source": [
    "## INTERPRETATION\n",
    "\n",
    "The above two analyses indicated that, on average, Sales Price was 28% higher when a discount was offered. While almost all discount groups differed significantly from no discount, the amount of discount offered did not significantly impact Sales Price (F = 0.7741, p = 0.54). Therefore, based on these analyses we can consider offering a discount of 1 - 5%. \n",
    "\n",
    "Discounts > 5% = 87 448.93 Euros, or 6.03% of total sales. Therefore, this could potentially be saved if smaller discounts are as effective as larger ones in increasing the number of items ordered/ overall price of the sale. \n"
   ]
  },
  {
   "cell_type": "code",
   "execution_count": null,
   "metadata": {},
   "outputs": [],
   "source": [
    "# to calculate savings figures above\n",
    "\n",
    "#savings = product.loc[product['DiscountGrouped'] > 1]\n",
    "#discounts = savings.Discount * savings.SalePrice\n",
    "#(discounts.sum()/ product.SalePrice.sum()) * 100"
   ]
  },
  {
   "cell_type": "markdown",
   "metadata": {},
   "source": [
    "## FOLLOW UP ANALYSES:\n",
    "\n",
    "Before any final recommendations with regards to discount can be made, it is necessary to understand how discount may affect Sales Price for various Categories of product, Regions of Sale, or Employees. \n",
    "\n",
    "\n",
    "\n",
    "# CATEGORY\n",
    "\n",
    "There are 8 categories of product. It is possible that between- and within-category effects differ from the overall effects seen in the previous analysis.  \n",
    "\n",
    "In particular, it is important whether any interactions between category and discount exist (i.e., partialed effects - contribution to $R_2$ over and above the main effects of discount and category on Sales).\n",
    "\n",
    "In this instance _Category_ is a fixed effect as it represents all categories of product available for this company and our conclusions apply only to these conditions of discount and category. Therefore, the interactions test the hypotheses:\n",
    "\n",
    "$H_0$: **Discount uniformly affects Sales for all categories of product (Geo.means equal)**\n",
    "\n",
    "$H_1$: **Discount does not uniformly affect Sales for all categories of product (Geo.means not equal)**\n",
    "\n",
    "This analysis will help to refine our decisions regarding:\n",
    "i) Whether offering discounts benefits sales\n",
    "ii) What level of discount best benefits sales\n",
    "\n",
    "Should we find that sales within certain categories are more or less affected by discount, and specific levels of discount, this will allow a more nuanced approach to discount. "
   ]
  },
  {
   "cell_type": "code",
   "execution_count": 30,
   "metadata": {
    "scrolled": false
   },
   "outputs": [
    {
     "name": "stdout",
     "output_type": "stream",
     "text": [
      "                                   mean      std   median     min       max\n",
      "CategoryName   DiscountGrouped                                             \n",
      "Beverages      0.0               661.52  1750.66   252.00   13.50  15810.00\n",
      "               1.0              1872.04  3478.37   438.75   36.00  15810.00\n",
      "               2.0               613.27   851.77   360.00   62.00   3952.50\n",
      "               3.0               455.35   381.47   360.00   36.00   1656.00\n",
      "               4.0              1102.97  2841.22   325.50   45.00  13175.00\n",
      "               5.0               732.34  1837.94   360.00   27.00  10540.00\n",
      "Condiments     0.0               492.00   470.18   400.00   17.00   2853.50\n",
      "               1.0               668.10   536.12   421.02   25.00   1945.00\n",
      "               2.0               471.93   367.88   396.00   26.00   1684.00\n",
      "               3.0               830.15   970.64   364.00   38.90   3512.00\n",
      "               4.0               585.35   406.56   433.75   26.00   1387.75\n",
      "               5.0              1033.37  1097.04   550.00   65.00   3420.00\n",
      "Confections    0.0               577.52   700.30   358.75    9.20   5268.00\n",
      "               1.0               680.04   878.77   406.25   34.90   4050.00\n",
      "               2.0               394.22   433.01   246.88   37.50   1972.00\n",
      "               3.0               670.10   740.08   488.60   36.80   3944.00\n",
      "               4.0               360.01   385.40   300.00   75.00   1701.00\n",
      "               5.0               606.03   491.93   475.00   64.40   2186.10\n",
      "Dairy Products 0.0               651.53   741.67   425.00   12.50   6050.00\n",
      "               1.0               782.05   743.08   537.50   37.50   2720.00\n",
      "               2.0               709.37   578.35   664.00   37.50   2200.00\n",
      "               3.0              1005.63   929.84   792.00   10.00   3850.00\n",
      "               4.0               839.59   809.95   710.00   20.00   3850.00\n",
      "               5.0              1082.05  1191.10   736.25   25.00   5500.00\n",
      "Grains/Cereals 0.0               529.38   596.61   360.00   14.00   4322.50\n",
      "               1.0               512.54   673.07   286.25   42.00   2280.00\n",
      "               2.0               736.28   467.04   614.25   97.50   1520.00\n",
      "               3.0               504.20   333.30   456.00   28.00   1140.00\n",
      "               4.0               605.30   492.10   292.50  140.00   1520.00\n",
      "               5.0               573.05   351.72   622.00   72.00   1140.00\n",
      "Meat/Poultry   0.0               973.10  1431.70   480.00   22.35   9903.20\n",
      "               1.0               850.58   804.76   624.00   48.00   2730.00\n",
      "               2.0              1308.18  1146.75   897.50   44.70   3094.75\n",
      "               3.0               959.26   913.82   504.00  149.00   2970.96\n",
      "               4.0               605.46   586.55   480.00   22.35   1755.00\n",
      "               5.0              2125.01  2450.14  1365.00  149.00   7427.40\n",
      "Produce        0.0               736.03   597.29   540.00   50.00   2700.00\n",
      "               1.0              1274.48  1821.08   540.00   23.25   6360.00\n",
      "               2.0               931.42   897.35   592.80   69.75   2736.00\n",
      "               3.0               879.18   845.60   638.40   90.00   2544.00\n",
      "               4.0               863.04   880.52   523.12  228.00   2544.00\n",
      "               5.0               846.19   762.77   574.50  150.00   2332.00\n",
      "Seafood        0.0               404.88   444.25   265.00    6.00   3125.00\n",
      "               1.0               394.90   346.44   312.75   30.00   1288.00\n",
      "               2.0               424.21   381.50   300.00   12.00   1562.50\n",
      "               3.0               588.21   673.86   385.00   78.00   3100.00\n",
      "               4.0               705.78   671.65   460.00   18.00   2500.00\n",
      "               5.0               490.25   448.54   342.00   24.00   1562.50\n"
     ]
    }
   ],
   "source": [
    "# Descriptives for each level of Discount and Category\n",
    "print(product.groupby(['CategoryName', 'DiscountGrouped'])['SalePrice'].agg(['mean','std', 'median', min, max]).round(2))"
   ]
  },
  {
   "cell_type": "code",
   "execution_count": 31,
   "metadata": {},
   "outputs": [
    {
     "data": {
      "image/png": "[encoded data removed]",
      "text/plain": [
       "<Figure size 864x432 with 1 Axes>"
      ]
     },
     "metadata": {
      "needs_background": "light"
     },
     "output_type": "display_data"
    }
   ],
   "source": [
    "discount = product.groupby('CategoryName')['DiscountGrouped'].value_counts().unstack('DiscountGrouped')\n",
    "\n",
    "discount.plot(kind='barh', stacked=True, colormap=ListedColormap(sns.color_palette(\"GnBu\", 10)), \n",
    "              figsize=(12,6), edgecolor = \"black\")\n",
    "\n",
    "plt.gca().invert_yaxis()\n",
    "plt.ylabel('')\n",
    "plt.yticks(np.arange(8), (['Dairy Products', 'Grains/Cereals', 'Produce', 'Seafood',\n",
    "       'Condiments', 'Confections', 'Beverages', 'Meat/Poultry']), fontsize=12)\n",
    "plt.xlabel('Percentage Discounted', fontsize=12)\n",
    "plt.legend(('None', '0 - 5%', '5 - 10%', '10 - 15%', '15 - 20%', '20 - 25%'), fontsize=12, loc='center left', bbox_to_anchor=(1, 0.5))\n",
    "plt.title('Discount Count per Product Category', fontsize=16);\n",
    "sns.despine(left=True, bottom=True)"
   ]
  },
  {
   "cell_type": "code",
   "execution_count": 32,
   "metadata": {},
   "outputs": [
    {
     "data": {
      "image/png": "[encoded data removed]",
      "text/plain": [
       "<Figure size 864x432 with 1 Axes>"
      ]
     },
     "metadata": {},
     "output_type": "display_data"
    }
   ],
   "source": [
    "plt.style.use('seaborn-white')\n",
    "\n",
    "discount = product.groupby('CategoryName')['DiscountGrouped'].value_counts(normalize=True).unstack('DiscountGrouped')\n",
    "\n",
    "discount.plot(kind='barh', stacked=True, colormap=ListedColormap(sns.color_palette(\"GnBu\", 10)), \n",
    "              figsize=(12,6), edgecolor = \"black\")\n",
    "\n",
    "plt.gca().invert_yaxis()\n",
    "plt.ylabel('')\n",
    "plt.yticks(np.arange(8), (['Dairy Products', 'Grains/Cereals', 'Produce', 'Seafood',\n",
    "       'Condiments', 'Confections', 'Beverages', 'Meat/Poultry']), fontsize=12)\n",
    "plt.xlabel('Percentage Discounted', fontsize=12)\n",
    "plt.legend(('None', '0 - 5%', '5 - 10%', '10 - 15%', '15 - 20%', '20 - 25%'), fontsize=12, loc='center left', bbox_to_anchor=(1, 0.5))\n",
    "plt.title('% Discount per Product Category', fontsize=16);\n",
    "sns.despine(left=True, bottom=True)"
   ]
  },
  {
   "cell_type": "code",
   "execution_count": 56,
   "metadata": {},
   "outputs": [
    {
     "name": "stdout",
     "output_type": "stream",
     "text": [
      "Sum Contrast Matrix - Categories\n",
      " [[-1. -1. -1. -1. -1. -1. -1.]\n",
      " [ 1.  0.  0.  0.  0.  0.  0.]\n",
      " [ 0.  1.  0.  0.  0.  0.  0.]\n",
      " [ 0.  0.  1.  0.  0.  0.  0.]\n",
      " [ 0.  0.  0.  1.  0.  0.  0.]\n",
      " [ 0.  0.  0.  0.  1.  0.  0.]\n",
      " [ 0.  0.  0.  0.  0.  1.  0.]\n",
      " [ 0.  0.  0.  0.  0.  0.  1.]]\n",
      "\n",
      "Dummy Contrast Matrix - Categories\n",
      " [[0. 0. 0. 0. 0. 0. 0.]\n",
      " [1. 0. 0. 0. 0. 0. 0.]\n",
      " [0. 1. 0. 0. 0. 0. 0.]\n",
      " [0. 0. 1. 0. 0. 0. 0.]\n",
      " [0. 0. 0. 1. 0. 0. 0.]\n",
      " [0. 0. 0. 0. 1. 0. 0.]\n",
      " [0. 0. 0. 0. 0. 1. 0.]\n",
      " [0. 0. 0. 0. 0. 0. 1.]]\n",
      "\n",
      "Sum Contrast Matrix - Discount\n",
      " [[ 1.  0.  0.  0.  0.]\n",
      " [ 0.  1.  0.  0.  0.]\n",
      " [ 0.  0.  1.  0.  0.]\n",
      " [ 0.  0.  0.  1.  0.]\n",
      " [ 0.  0.  0.  0.  1.]\n",
      " [-1. -1. -1. -1. -1.]]\n"
     ]
    }
   ],
   "source": [
    "levels = [i for i in range(len(set(product.CategoryId)))]\n",
    "levels1 = [i for i in range(len(set(product.DiscountGrouped)))]\n",
    "\n",
    "sum_con_cat = Sum(omit=0).code_without_intercept(levels)\n",
    "dummy_con_cat = Treatment(reference=0).code_without_intercept(levels)\n",
    "sum_con_disc = Sum().code_without_intercept(levels1)\n",
    "\n",
    "print('Sum Contrast Matrix - Categories\\n', sum_con_cat.matrix, end='\\n\\n')\n",
    "print('Dummy Contrast Matrix - Categories\\n', dummy_con_cat.matrix, end='\\n\\n')\n",
    "print('Sum Contrast Matrix - Discount\\n', sum_con_disc.matrix)"
   ]
  },
  {
   "cell_type": "code",
   "execution_count": 57,
   "metadata": {},
   "outputs": [
    {
     "data": {
      "text/plain": [
       "CategoryId  CategoryName  \n",
       "1           Beverages         404\n",
       "2           Condiments        216\n",
       "3           Confections       334\n",
       "4           Dairy Products    366\n",
       "5           Grains/Cereals    196\n",
       "6           Meat/Poultry      173\n",
       "7           Produce           136\n",
       "8           Seafood           330\n",
       "Name: CategoryName, dtype: int64"
      ]
     },
     "execution_count": 57,
     "metadata": {},
     "output_type": "execute_result"
    }
   ],
   "source": [
    "# Category sample sizes\n",
    "product.groupby(['CategoryId'])['CategoryName'].value_counts()"
   ]
  },
  {
   "cell_type": "code",
   "execution_count": 62,
   "metadata": {},
   "outputs": [
    {
     "name": "stdout",
     "output_type": "stream",
     "text": [
      "[[ 1.  0.  0.  0.]\n",
      " [ 0.  1.  0.  0.]\n",
      " [ 0.  0.  1.  0.]\n",
      " [ 0.  0.  0.  1.]\n",
      " [-1. -1. -1. -1.]]\n"
     ]
    }
   ],
   "source": [
    "discount = product.loc[product['DiscountGrouped'] > 0]\n",
    "\n",
    "levels = [i for i in range(0, len(set(discount.DiscountGrouped)))]\n",
    "\n",
    "sum_con_disc = Sum(omit=4).code_without_intercept(levels)\n",
    "\n",
    "print(sum_con_disc.matrix)"
   ]
  },
  {
   "cell_type": "code",
   "execution_count": 63,
   "metadata": {
    "scrolled": false
   },
   "outputs": [
    {
     "name": "stdout",
     "output_type": "stream",
     "text": [
      "                            OLS Regression Results                            \n",
      "==============================================================================\n",
      "Dep. Variable:               LogSales   R-squared:                       0.072\n",
      "Model:                            OLS   Adj. R-squared:                  0.027\n",
      "Method:                 Least Squares   F-statistic:                     1.597\n",
      "Date:                Fri, 21 Dec 2018   Prob (F-statistic):             0.0127\n",
      "Time:                        09:55:01   Log-Likelihood:                -1287.7\n",
      "No. Observations:                 838   AIC:                             2655.\n",
      "Df Residuals:                     798   BIC:                             2845.\n",
      "Df Model:                          39                                         \n",
      "Covariance Type:            nonrobust                                         \n",
      "===========================================================================================================================================\n",
      "                                                                              coef    std err          t      P>|t|      [0.025      0.975]\n",
      "-------------------------------------------------------------------------------------------------------------------------------------------\n",
      "Intercept                                                                   6.0616      0.045    135.240      0.000       5.974       6.150\n",
      "C(DiscountGrouped, sum_con_disc)[S.0]                                      -0.0330      0.082     -0.402      0.688      -0.194       0.128\n",
      "C(DiscountGrouped, sum_con_disc)[S.1]                                      -0.0656      0.087     -0.753      0.452      -0.237       0.105\n",
      "C(DiscountGrouped, sum_con_disc)[S.2]                                       0.0195      0.092      0.211      0.833      -0.161       0.200\n",
      "C(DiscountGrouped, sum_con_disc)[S.3]                                      -0.0729      0.094     -0.776      0.438      -0.257       0.112\n",
      "C(CategoryName, sum_con_cat)[S.1]                                           0.0514      0.121      0.426      0.670      -0.185       0.288\n",
      "C(CategoryName, sum_con_cat)[S.2]                                          -0.2414      0.099     -2.436      0.015      -0.436      -0.047\n",
      "C(CategoryName, sum_con_cat)[S.3]                                           0.1799      0.096      1.864      0.063      -0.010       0.369\n",
      "C(CategoryName, sum_con_cat)[S.4]                                          -0.0715      0.137     -0.521      0.602      -0.341       0.198\n",
      "C(CategoryName, sum_con_cat)[S.5]                                           0.2993      0.128      2.330      0.020       0.047       0.551\n",
      "C(CategoryName, sum_con_cat)[S.6]                                           0.2461      0.159      1.545      0.123      -0.067       0.559\n",
      "C(CategoryName, sum_con_cat)[S.7]                                          -0.2829      0.098     -2.889      0.004      -0.475      -0.091\n",
      "C(DiscountGrouped, sum_con_disc)[S.0]:C(CategoryName, sum_con_cat)[S.1]     0.0300      0.222      0.135      0.892      -0.405       0.465\n",
      "C(DiscountGrouped, sum_con_disc)[S.1]:C(CategoryName, sum_con_cat)[S.1]    -0.1942      0.215     -0.904      0.366      -0.616       0.227\n",
      "C(DiscountGrouped, sum_con_disc)[S.2]:C(CategoryName, sum_con_cat)[S.1]    -0.0415      0.237     -0.175      0.861      -0.507       0.424\n",
      "C(DiscountGrouped, sum_con_disc)[S.3]:C(CategoryName, sum_con_cat)[S.1]     0.0153      0.253      0.061      0.952      -0.482       0.512\n",
      "C(DiscountGrouped, sum_con_disc)[S.0]:C(CategoryName, sum_con_cat)[S.2]     0.1712      0.184      0.931      0.352      -0.190       0.532\n",
      "C(DiscountGrouped, sum_con_disc)[S.1]:C(CategoryName, sum_con_cat)[S.2]    -0.2547      0.188     -1.355      0.176      -0.624       0.114\n",
      "C(DiscountGrouped, sum_con_disc)[S.2]:C(CategoryName, sum_con_cat)[S.2]     0.2156      0.192      1.122      0.262      -0.162       0.593\n",
      "C(DiscountGrouped, sum_con_disc)[S.3]:C(CategoryName, sum_con_cat)[S.2]    -0.2203      0.228     -0.968      0.333      -0.667       0.227\n",
      "C(DiscountGrouped, sum_con_disc)[S.0]:C(CategoryName, sum_con_cat)[S.3]    -0.0846      0.170     -0.497      0.619      -0.419       0.250\n",
      "C(DiscountGrouped, sum_con_disc)[S.1]:C(CategoryName, sum_con_cat)[S.3]    -0.0813      0.195     -0.418      0.676      -0.463       0.301\n",
      "C(DiscountGrouped, sum_con_disc)[S.2]:C(CategoryName, sum_con_cat)[S.3]     0.0327      0.197      0.166      0.868      -0.354       0.419\n",
      "C(DiscountGrouped, sum_con_disc)[S.3]:C(CategoryName, sum_con_cat)[S.3]     0.0733      0.194      0.378      0.705      -0.307       0.453\n",
      "C(DiscountGrouped, sum_con_disc)[S.0]:C(CategoryName, sum_con_cat)[S.4]    -0.3070      0.238     -1.288      0.198      -0.775       0.161\n",
      "C(DiscountGrouped, sum_con_disc)[S.1]:C(CategoryName, sum_con_cat)[S.4]     0.3769      0.290      1.299      0.194      -0.193       0.947\n",
      "C(DiscountGrouped, sum_con_disc)[S.2]:C(CategoryName, sum_con_cat)[S.4]    -0.1548      0.292     -0.531      0.596      -0.728       0.418\n",
      "C(DiscountGrouped, sum_con_disc)[S.3]:C(CategoryName, sum_con_cat)[S.4]     0.1442      0.256      0.563      0.573      -0.358       0.647\n",
      "C(DiscountGrouped, sum_con_disc)[S.0]:C(CategoryName, sum_con_cat)[S.5]    -0.0559      0.237     -0.235      0.814      -0.522       0.410\n",
      "C(DiscountGrouped, sum_con_disc)[S.1]:C(CategoryName, sum_con_cat)[S.5]     0.1678      0.228      0.736      0.462      -0.280       0.615\n",
      "C(DiscountGrouped, sum_con_disc)[S.2]:C(CategoryName, sum_con_cat)[S.5]     0.0949      0.299      0.317      0.751      -0.492       0.682\n",
      "C(DiscountGrouped, sum_con_disc)[S.3]:C(CategoryName, sum_con_cat)[S.5]    -0.6646      0.279     -2.384      0.017      -1.212      -0.117\n",
      "C(DiscountGrouped, sum_con_disc)[S.0]:C(CategoryName, sum_con_cat)[S.6]    -0.0395      0.283     -0.140      0.889      -0.594       0.515\n",
      "C(DiscountGrouped, sum_con_disc)[S.1]:C(CategoryName, sum_con_cat)[S.6]     0.0688      0.312      0.220      0.826      -0.544       0.681\n",
      "C(DiscountGrouped, sum_con_disc)[S.2]:C(CategoryName, sum_con_cat)[S.6]    -0.0918      0.303     -0.303      0.762      -0.686       0.502\n",
      "C(DiscountGrouped, sum_con_disc)[S.3]:C(CategoryName, sum_con_cat)[S.6]     0.1556      0.363      0.429      0.668      -0.557       0.868\n",
      "C(DiscountGrouped, sum_con_disc)[S.0]:C(CategoryName, sum_con_cat)[S.7]    -0.1792      0.189     -0.949      0.343      -0.550       0.192\n",
      "C(DiscountGrouped, sum_con_disc)[S.1]:C(CategoryName, sum_con_cat)[S.7]    -0.1118      0.186     -0.602      0.547      -0.476       0.253\n",
      "C(DiscountGrouped, sum_con_disc)[S.2]:C(CategoryName, sum_con_cat)[S.7]     0.1575      0.214      0.735      0.463      -0.263       0.578\n",
      "C(DiscountGrouped, sum_con_disc)[S.3]:C(CategoryName, sum_con_cat)[S.7]     0.4034      0.189      2.134      0.033       0.032       0.774\n",
      "==============================================================================\n",
      "Omnibus:                       18.786   Durbin-Watson:                   1.699\n",
      "Prob(Omnibus):                  0.000   Jarque-Bera (JB):               19.619\n",
      "Skew:                          -0.345   Prob(JB):                     5.49e-05\n",
      "Kurtosis:                       3.291   Cond. No.                         13.4\n",
      "==============================================================================\n",
      "\n",
      "Warnings:\n",
      "[1] Standard Errors assume that the covariance matrix of the errors is correctly specified.\n",
      "\n",
      "C(DiscountGrouped)[T.1.0]:C(CategoryName, sum_con_cat)[S.7]  -261.0766    138.203     -1.889      0.059    -531.950       9.797C(DiscountGrouped)[T.2.0]:C(CategoryName, sum_con_cat)[S.7]   -51.0310     95.611     -0.534      0.594    -238.425     136.363C(DiscountGrouped)[T.3.0]:C(CategoryName, sum_con_cat)[S.7]    75.0655    157.194      0.478      0.633    -233.029     383.160C(DiscountGrouped)[T.4.0]:C(CategoryName, sum_con_cat)[S.7]   220.7109    142.485      1.549      0.121     -58.555     499.976C(DiscountGrouped)[T.5.0]:C(CategoryName, sum_con_cat)[S.7]  -222.4185    139.436     -1.595      0.111    -495.708      50.871\n"
     ]
    }
   ],
   "source": [
    "lm = smf.ols('LogSales ~ C(DiscountGrouped, sum_con_disc) * C(CategoryName, sum_con_cat)', data = discount).fit()\n",
    "\n",
    "print(lm.summary(), end='\\n\\n')\n",
    "print('C(DiscountGrouped)[T.1.0]:C(CategoryName, sum_con_cat)[S.7]  -261.0766    138.203     -1.889      0.059    -531.950       9.797'\n",
    "'C(DiscountGrouped)[T.2.0]:C(CategoryName, sum_con_cat)[S.7]   -51.0310     95.611     -0.534      0.594    -238.425     136.363'\n",
    "\"C(DiscountGrouped)[T.3.0]:C(CategoryName, sum_con_cat)[S.7]    75.0655    157.194      0.478      0.633    -233.029     383.160\"\n",
    "'C(DiscountGrouped)[T.4.0]:C(CategoryName, sum_con_cat)[S.7]   220.7109    142.485      1.549      0.121     -58.555     499.976'\n",
    "'C(DiscountGrouped)[T.5.0]:C(CategoryName, sum_con_cat)[S.7]  -222.4185    139.436     -1.595      0.111    -495.708      50.871')"
   ]
  },
  {
   "cell_type": "code",
   "execution_count": 39,
   "metadata": {},
   "outputs": [
    {
     "name": "stdout",
     "output_type": "stream",
     "text": [
      "Sales Price for unweighted Geo. Mean of No Discount for all categories: 338.02\n",
      "Median Sales Price for Discount: 597.59\n",
      "Median Sales Price for Discount: 340.73\n",
      "Ratio between median values: 1.77\n",
      "Ratio between median values: 1.01\n"
     ]
    }
   ],
   "source": [
    "# The intercept gives the unweighted geometric mean for the No Discount Group conditioned on every category\n",
    "print('Sales Price for unweighted Geo. Mean of No Discount for all categories:', geo_mean_convert(5.8231))\n",
    "\n",
    "# The anti-log for the Beverages * 1-5% discount interaction \n",
    "print('Sales Price for Beverages * 1-5% discount:', geo_mean_convert((0.5698 + 5.8231)))\n",
    "\n",
    "# The anti-log for the Confections * 10-15% discount interaction \n",
    "print('Sales Price for Confections * 10-15% discount:', geo_mean_convert((0.0080 + 5.8231)))\n",
    "\n",
    "\n",
    "# using only the coefficient gives the ratio between geometric means\n",
    "print(':', geo_mean_convert(0.5698))\n",
    "\n",
    "# using only the coefficient gives the ratio between geometric means\n",
    "print('Ratio between median values:', geo_mean_convert(0.0080))"
   ]
  },
  {
   "cell_type": "code",
   "execution_count": 47,
   "metadata": {},
   "outputs": [
    {
     "name": "stdout",
     "output_type": "stream",
     "text": [
      "The geometric mean of Beverages Discount 1 - 5% is 1.77 times No Discount All Categories\n",
      "The geometric mean of Beverages Discount 1 - 5% is 77.0% more than No Discount All Categories\n"
     ]
    }
   ],
   "source": [
    "geomean_ratio(0.5698, 'No Discount all categories', 'Beverages discount 1 - 5%')"
   ]
  },
  {
   "cell_type": "code",
   "execution_count": 46,
   "metadata": {},
   "outputs": [
    {
     "name": "stdout",
     "output_type": "stream",
     "text": [
      "The geometric mean of Confections Discount 10 - 15% is 1.01 times No Discount All Categories\n",
      "The geometric mean of Confections Discount 10 - 15% is 1.0% more than No Discount All Categories\n"
     ]
    }
   ],
   "source": [
    "geomean_ratio(0.0080, 'No Discount all categories', 'Confections discount 10 - 15%')"
   ]
  },
  {
   "cell_type": "code",
   "execution_count": null,
   "metadata": {},
   "outputs": [],
   "source": []
  },
  {
   "cell_type": "markdown",
   "metadata": {},
   "source": [
    "## INTERPRETATION\n",
    "\n",
    "Overall the model was significant, F = 6.335, p = 2.44e-13. However, only the interaction effects are of interest for addressing the current hypotheses. The categories that had significant interactions with discount were _Beverages_ and  _Confections_. \n",
    "\n",
    "These interactions was followed up with a more detailed analysis of the levels of discount that may be responsible for the observed difference. Each level of discount was compared with the no discount condition to test the null hypothesis:\n",
    "\n",
    "%H_0%: **Discount has no relationship to Confection Sales**\n",
    "\n",
    "%H_1%: **Discount has a relationship to Confection Sales**\n",
    "\n",
    "Below is a selection of the analysis for Confections, as all other interactions were non significant. "
   ]
  },
  {
   "cell_type": "markdown",
   "metadata": {},
   "source": [
    "## Comparisons to No Discount\n",
    "```\n",
    "OLS Regression Results                            \n",
    "==============================================================================\n",
    "Dep. Variable:               LogSales   R-squared:                       0.062\n",
    "Model:                            OLS   Adj. R-squared:                  0.041\n",
    "Method:                 Least Squares   F-statistic:                     2.961\n",
    "Date:                Fri, 21 Dec 2018   Prob (F-statistic):           1.29e-10\n",
    "Time:                        09:14:07   Log-Likelihood:                -3317.4\n",
    "No. Observations:                2155   AIC:                             6731.\n",
    "Df Residuals:                    2107   BIC:                             7003.\n",
    "Df Model:                          47                                         \n",
    "Covariance Type:            nonrobust                                         \n",
    "===============================================================================================================================\n",
    "                                                                  coef    std err          t      P>|t|      [0.025      0.975]\n",
    "-------------------------------------------------------------------------------------------------------------------------------\n",
    "Intercept                                                       5.8231      0.033    173.956      0.000       5.757       5.889\n",
    "C(DiscountGrouped)[T.1.0]                                       0.2055      0.094      2.187      0.029       0.021       0.390\n",
    "C(DiscountGrouped)[T.2.0]                                       0.1729      0.101      1.708      0.088      -0.026       0.371\n",
    "C(DiscountGrouped)[T.3.0]                                       0.2580      0.108      2.384      0.017       0.046       0.470\n",
    "C(DiscountGrouped)[T.4.0]                                       0.1656      0.111      1.495      0.135      -0.052       0.383\n",
    "C(DiscountGrouped)[T.5.0]                                       0.3906      0.108      3.604      0.000       0.178       0.603\n",
    "C(CategoryName, sum_con_cat)[S.0]                              -0.2856      0.071     -4.004      0.000      -0.426      -0.146\n",
    "C(CategoryName, sum_con_cat)[S.1]                              -0.0140      0.093     -0.151      0.880      -0.196       0.168\n",
    "C(CategoryName, sum_con_cat)[S.2]                              -0.0338      0.077     -0.436      0.663      -0.186       0.118\n",
    "C(CategoryName, sum_con_cat)[S.3]                               0.0900      0.074      1.216      0.224      -0.055       0.235\n",
    "C(CategoryName, sum_con_cat)[S.4]                              -0.1211      0.092     -1.316      0.188      -0.301       0.059\n",
    "C(CategoryName, sum_con_cat)[S.5]                               0.3022      0.106      2.858      0.004       0.095       0.510\n",
    "C(CategoryName, sum_con_cat)[S.6]                               0.4127      0.109      3.792      0.000       0.199       0.626\n",
    "\n",
    "C(DiscountGrouped)[T.1.0]:C(CategoryName, sum_con_cat)[S.0]     0.5698      0.224      2.540      0.011*      0.130       1.010\n",
    "C(DiscountGrouped)[T.2.0]:C(CategoryName, sum_con_cat)[S.0]     0.1335      0.231      0.578      0.563      -0.319       0.586\n",
    "C(DiscountGrouped)[T.3.0]:C(CategoryName, sum_con_cat)[S.0]    -0.1079      0.207     -0.522      0.602      -0.514       0.298\n",
    "C(DiscountGrouped)[T.4.0]:C(CategoryName, sum_con_cat)[S.0]     0.1979      0.203      0.974      0.330      -0.200       0.596\n",
    "C(DiscountGrouped)[T.5.0]:C(CategoryName, sum_con_cat)[S.0]    -0.2693      0.215     -1.253      0.210      -0.691       0.152\n",
    "\n",
    "C(DiscountGrouped)[T.1.0]:C(CategoryName, sum_con_cat)[S.2]    -0.0364      0.213     -0.171      0.864      -0.453       0.380\n",
    "C(DiscountGrouped)[T.2.0]:C(CategoryName, sum_con_cat)[S.2]    -0.4624      0.218     -2.118      0.034*     -0.891      -0.034\n",
    "C(DiscountGrouped)[T.3.0]:C(CategoryName, sum_con_cat)[S.2]     0.0080      0.224      0.036      0.972      -0.432       0.448\n",
    "C(DiscountGrouped)[T.4.0]:C(CategoryName, sum_con_cat)[S.2]    -0.4280      0.273     -1.567      0.117      -0.963       0.108\n",
    "C(DiscountGrouped)[T.5.0]:C(CategoryName, sum_con_cat)[S.2]    -0.1195      0.230     -0.520      0.603      -0.570       0.331\n",
    "\n",
    "C(DiscountGrouped)[T.1.0]:C(CategoryName, sum_con_cat)[S.7]    -0.1117      0.221     -0.506      0.613      -0.544       0.321\n",
    "C(DiscountGrouped)[T.2.0]:C(CategoryName, sum_con_cat)[S.7]    -0.0443      0.216     -0.205      0.838      -0.468       0.380\n",
    "C(DiscountGrouped)[T.3.0]:C(CategoryName, sum_con_cat)[S.7]     0.2250      0.256      0.879      0.379      -0.277       0.727\n",
    "C(DiscountGrouped)[T.4.0]:C(CategoryName, sum_con_cat)[S.7]     0.4709      0.221      2.133      0.033*      0.038       0.904\n",
    "C(DiscountGrouped)[T.5.0]:C(CategoryName, sum_con_cat)[S.7]    -0.2023      0.236     -0.856      0.392      -0.665       0.261\n",
    "\n",
    "-------------------------------------------------------------------------------------------------------------------------------\n",
    "```\n",
    "\n",
    "\n",
    "\n",
    "## Comparisons between All discount levels\n",
    "\n",
    "```\n",
    "                OLS Regression Results                            \n",
    "==============================================================================\n",
    "Dep. Variable:               LogSales   R-squared:                       0.062\n",
    "Model:                            OLS   Adj. R-squared:                  0.041\n",
    "Method:                 Least Squares   F-statistic:                     2.961\n",
    "Date:                Fri, 21 Dec 2018   Prob (F-statistic):           1.29e-10\n",
    "Time:                        09:15:26   Log-Likelihood:                -3317.4\n",
    "No. Observations:                2155   AIC:                             6731.\n",
    "Df Residuals:                    2107   BIC:                             7003.\n",
    "Df Model:                          47                                         \n",
    "Covariance Type:            nonrobust                                         \n",
    "===============================================================================================================================\n",
    "                                                                coef    std err          t      P>|t|      [0.025      0.975]\n",
    "-------------------------------------------------------------------------------------------------------------------------------\n",
    "Intercept                                                     6.0219      0.037    161.094      0.000       5.949       6.095\n",
    "C(DiscountGrouped)[S.1]                                       0.0068      0.081      0.084      0.933      -0.152       0.165\n",
    "C(DiscountGrouped)[S.2]                                      -0.0259      0.086     -0.299      0.765      -0.195       0.144\n",
    "C(DiscountGrouped)[S.3]                                       0.0592      0.092      0.644      0.520      -0.121       0.240\n",
    "C(DiscountGrouped)[S.4]                                      -0.0332      0.094     -0.353      0.724      -0.217       0.151\n",
    "C(DiscountGrouped)[S.5]                                       0.1918      0.092      2.083      0.037       0.011       0.372\n",
    "C(CategoryName)[S.0]                                         -0.1983      0.077     -2.575      0.010      -0.349      -0.047\n",
    "C(CategoryName)[S.1]                                          0.0405      0.101      0.403      0.687      -0.157       0.238\n",
    "C(CategoryName)[S.2]                                         -0.2068      0.083     -2.500      0.013      -0.369      -0.045\n",
    "C(CategoryName)[S.3]                                          0.1649      0.081      2.048      0.041       0.007       0.323\n",
    "C(CategoryName)[S.4]                                         -0.0798      0.114     -0.698      0.485      -0.304       0.144\n",
    "C(CategoryName)[S.5]                                          0.2998      0.107      2.792      0.005       0.089       0.510\n",
    "C(CategoryName)[S.6]                                          0.2739      0.133      2.065      0.039       0.014       0.534\n",
    "\n",
    "C(DiscountGrouped)[S.1]:C(CategoryName)[S.0]                  0.4825      0.190      2.539      0.011*      0.110       0.855\n",
    "C(DiscountGrouped)[S.2]:C(CategoryName)[S.0]                  0.0461      0.195      0.236      0.813      -0.336       0.429\n",
    "C(DiscountGrouped)[S.3]:C(CategoryName)[S.0]                 -0.1952      0.176     -1.108      0.268      -0.541       0.150\n",
    "C(DiscountGrouped)[S.4]:C(CategoryName)[S.0]                  0.1106      0.173      0.638      0.524      -0.229       0.450\n",
    "C(DiscountGrouped)[S.5]:C(CategoryName)[S.0]                 -0.3566      0.183     -1.953      0.051      -0.715       0.001\n",
    "\n",
    "C(DiscountGrouped)[S.1]:C(CategoryName)[S.5]                 -0.0564      0.234     -0.241      0.810      -0.516       0.403\n",
    "C(DiscountGrouped)[S.2]:C(CategoryName)[S.5]                  0.1673      0.224      0.747      0.455      -0.272       0.606\n",
    "C(DiscountGrouped)[S.3]:C(CategoryName)[S.5]                  0.0944      0.301      0.313      0.754      -0.497       0.686\n",
    "C(DiscountGrouped)[S.4]:C(CategoryName)[S.5]                 -0.6651      0.279     -2.380      0.017*     -1.213      -0.117\n",
    "C(DiscountGrouped)[S.5]:C(CategoryName)[S.5]                  0.4573      0.230      1.989      0.047*      0.006       0.908\n",
    "\n",
    "C(DiscountGrouped)[S.0]:C(CategoryName)[S.7]                 -0.0563      0.104     -0.542      0.588      -0.260       0.147\n",
    "C(DiscountGrouped)[S.1]:C(CategoryName)[S.7]                 -0.1679      0.187     -0.897      0.370      -0.535       0.199\n",
    "C(DiscountGrouped)[S.2]:C(CategoryName)[S.7]                 -0.1006      0.184     -0.547      0.584      -0.461       0.260\n",
    "C(DiscountGrouped)[S.3]:C(CategoryName)[S.7]                  0.1688      0.215      0.784      0.433      -0.253       0.591\n",
    "C(DiscountGrouped)[S.4]:C(CategoryName)[S.7]                  0.4146      0.187      2.213      0.027*      0.047       0.782\n",
    "```\n",
    "\n",
    "## Within-Discount\n",
    "```\n",
    "OLS Regression Results                            \n",
    "==============================================================================\n",
    "Dep. Variable:               LogSales   R-squared:                       0.072\n",
    "Model:                            OLS   Adj. R-squared:                  0.027\n",
    "Method:                 Least Squares   F-statistic:                     1.597\n",
    "Date:                Fri, 21 Dec 2018   Prob (F-statistic):             0.0127\n",
    "Time:                        09:41:08   Log-Likelihood:                -1287.7\n",
    "No. Observations:                 838   AIC:                             2655.\n",
    "Df Residuals:                     798   BIC:                             2845.\n",
    "Df Model:                          39                                         \n",
    "Covariance Type:            nonrobust                                         \n",
    "===============================================================================================================================\n",
    "                                                           coef    std err          t      P>|t|      [0.025      0.975]\n",
    "-------------------------------------------------------------------------------------------------------------------------------\n",
    "Intercept                                                  6.0616      0.045    135.240      0.000       5.974       6.150\n",
    "\n",
    "C(DiscountGrouped)[S.0]:C(CategoryName)[S.5]              -0.0559      0.237     -0.235      0.814      -0.522       0.410\n",
    "C(DiscountGrouped)[S.1]:C(CategoryName)[S.5]               0.1678      0.228      0.736      0.462      -0.280       0.615\n",
    "C(DiscountGrouped)[S.2]:C(CategoryName)[S.5]               0.0949      0.299      0.317      0.751      -0.492       0.682\n",
    "C(DiscountGrouped)[S.3]:C(CategoryName)[S.5]              wa-0.6646      0.279     -2.384      0.017      -1.212      -0.117\n",
    "\n",
    "\n",
    "\n",
    "\n",
    "C(DiscountGrouped)[S.0]:C(CategoryName)[S.7]              -0.1792      0.189     -0.949      0.343      -0.550       0.192\n",
    "C(DiscountGrouped)[S.1]:C(CategoryName)[S.7]              -0.1118      0.186     -0.602      0.547      -0.476       0.253\n",
    "C(DiscountGrouped)[S.2]:C(CategoryName)[S.7]               0.1575      0.214      0.735      0.463      -0.263       0.578\n",
    "C(DiscountGrouped)[S.3]:C(CategoryName)[S.7]               0.4034      0.189      2.134      0.033       0.032       0.774\n",
    "C(DiscountGrouped)[S.4]:C(CategoryName)[S.7]              -0.2698      0.200     -1.349      0.178      -0.662       0.123\n",
    "\n",
    "\n",
    "\n",
    "\n",
    "\n",
    "\n",
    "\n",
    "## INTERPRETATION\n",
    "\n",
    "Discounts between 5 - 10% and 15 - 20% were related to significantly less sales for Confections, and between 10-15% were related to significantly less sales for Beverages. To understand the coefficient within the regression equation:\n",
    "\n",
    "-------------------------------------------------------------------------------------------------------------------------------\n",
    "EXAMPLE\n",
    "The regression equation for the 5-10% discount condition on Confections:\n",
    "Y = B0 + B1*X + B2*X + B3*X, \n",
    "\n",
    "where B0 (Intercept) = 628.25, B1(Category Main Effect) = -50.72, B2(Discount Main Effect) = 70.36, \n",
    "      B3(Category*Discount Interaction for 5 - 10%) = -253.67\n",
    "      \n",
    "\n",
    "The mean difference between Confections and all other categories is B0 + B1: 628.2459 + (-50.7218) = 577.5241\n",
    "The mean difference in 5-10% vs no discount comparison for all categories is (B0 + B1) + B2: 577.5241 + 70.3624 = 647.8865\n",
    "\n",
    "The mean for 5 - 10% discount for Confections is (B0 + B1 + B2) + B3: 647.8865 + (-253.6721) = 394.21 (see descriptives above above). \n",
    "\n",
    "-------------------------------------------------------------------------------------------------------------------------------\n",
    "\n",
    "_Relative_ to other categories, Confections were more likely to have reduced sales when discounts of either 5-10% and 15-20% were offered. The 20-25% category of discount was not significant, but had a similar trend towards significance and reduced sales. No overall (main effect) difference was found for Confection Sales compared with all other product categories, z = -0.995, p = 0.320.  \n",
    "\n",
    "Despite higher sales within Confections for the 20 - 25% bracket, when this category is compared with other categories for this level of discount there is a relative reduction in Sales of 279.29 Euro. Likewise, when compared with all other categories, there was a relative reduction in sales for the other two discount categories.   \n",
    "\n",
    "## Within-Groups Tests\n",
    "\n",
    "For each Category a within-groups test was carried out for Discount vs No Discount (to contrast with the previous between-groups analysis). No significant differences were found within groups, indicating that the effects were too small to be detected (less than 0.2 for most groups and less than 0.3 for Grains/Cereal, Meat/Poultry, and Produce). \n",
    "\n",
    "Beverages: F = 1.715, p = 0.130, B = 0.88 (for an effect size 0.2 and greater)\n",
    "Condiments: F = 1.289, p = 0.270, B = 0.82 (for an effect size 0.25 and greater)      \n",
    "Confections: F = 1.876, p = 0.10, B = 0.81 (for an effect size 0.2 and greater)        \n",
    "Dairy Products: F = 1.404, p = 0.222, B = 0.85 (for an effect size 0.2 and greater)\n",
    "Grains/Cereals: F = 0.406, p = 0.845, B = 0.91 (for an effect size 0.3 and greater)*\n",
    "Meat/Poultry: F = 1.932, p = 0.10, B = 0.86 (for an effect size 0.3 and greater)*\n",
    "Produce: F = 0.33, p = 0.89, B = 0.76 (for an effect size 0.3 and greater)**\n",
    "Seafood: F = 1.488, p = 0.19, B = 0.81 (for an effect size 0.2 and greater)\n",
    "\n",
    "\n",
    "## INTERPRETATION\n",
    "\n",
    "In conclusion then, while Sales significantly increased for Discount compared with No Discount, the effect size for this increase was small. All Product Categories were uniform with regards to this effect, except for Confections and Grains). Therefore we fail to reject the null that all Categories are uniformly affected by Discount.\n",
    "\n",
    "The figure below illustrates that a number of Categories had higher mean Sales for Discount; however, these differences failed to reach significance due to _inconsistently_ large Sales for higher discounts and high Sales where Discounts were not offered. Therefore, Discount is not consistently being used to increase Sales and in the case of Confections, seems to be leading to significantly reduced Sales overall.  \n",
    "\n",
    "For the most part, the level of discount offered did not appear to increase Sales for any one category. My suggestion based on this is to keep discount to a minimum level across all Categories and to perhaps to use Discounts more strategically. "
   ]
  },
  {
   "cell_type": "code",
   "execution_count": null,
   "metadata": {},
   "outputs": [],
   "source": [
    "product.SalePrice.agg('median')"
   ]
  },
  {
   "cell_type": "code",
   "execution_count": null,
   "metadata": {
    "scrolled": false
   },
   "outputs": [],
   "source": [
    "NUM_COLORS = 8\n",
    "\n",
    "cm = pylab.get_cmap('plasma')\n",
    "for i in range(NUM_COLORS):\n",
    "    color = cm(1.*i/NUM_COLORS)  # color will now be an RGBA tuple\n",
    "\n",
    "# or if you really want a generator:\n",
    "cgen = list((cm(1.*i/NUM_COLORS) for i in range(NUM_COLORS)))\n",
    "\n",
    "sns.set(style=\"white\")\n",
    "fig = plt.figure(figsize=(7,7))\n",
    "ax = fig.gca()\n",
    "\n",
    "interaction_plot(product.DiscountBinary, product.CategoryName, product.LogSales,\n",
    "             colors=cgen, markers=['D','^', 'o', 'o', 'D', '^', 'o', 'D'], ms=8, ax=ax)\n",
    "\n",
    "\n",
    "plt.legend(loc='center left', bbox_to_anchor=(1, 0.5))\n",
    "plt.ylabel('Mean Sales', fontsize=12)\n",
    "plt.xlabel('No Discount vs Discount', fontsize=12)\n",
    "plt.title('Discount per Category', fontsize=14);"
   ]
  },
  {
   "cell_type": "markdown",
   "metadata": {},
   "source": [
    "## Outliers\n",
    "\n",
    "The figure below indicates that outliers may be skewing the results. So a model was run with only Sales below 6000 Euros. However, this analysis gave the same general result. "
   ]
  },
  {
   "cell_type": "code",
   "execution_count": null,
   "metadata": {},
   "outputs": [],
   "source": [
    "boxplot(product, 'CategoryName', 'LogSales', 'Categories', 'Sales', 'Sales per Category')"
   ]
  },
  {
   "cell_type": "code",
   "execution_count": null,
   "metadata": {},
   "outputs": [],
   "source": [
    "sales = product.loc[product['SalePrice'] < 6000]"
   ]
  },
  {
   "cell_type": "code",
   "execution_count": null,
   "metadata": {},
   "outputs": [],
   "source": [
    "boxplot(sales, 'CategoryName', 'SalePrice', 'Categories', 'Sales', 'Sales per Category')"
   ]
  },
  {
   "cell_type": "code",
   "execution_count": null,
   "metadata": {},
   "outputs": [],
   "source": [
    "# Between-Groups Analysis of Category and Discount with Sales below 6000 Euro\n",
    "lm = smf.ols('SalePrice ~ C(CategoryId, sum_con_cat) * C(DiscountBinary)', data = sales).fit(cov_type='HC3')\n",
    "print(lm.summary())"
   ]
  },
  {
   "cell_type": "markdown",
   "metadata": {},
   "source": [
    "# Region\n",
    "\n",
    "There are 9 Shipping Regions. It is possible that between-groups effects differ from the overall effects seen in the original analysis.  \n",
    "\n",
    "In particular, it is important whether any interactions between Region and Discount exist. \n",
    "\n",
    "In this instance _ShipRegion_ is a fixed effect as it represents all regions available for this company and our conclusions apply only to these conditions of discount and region. Therefore, the interactions test the hypotheses:\n",
    "\n",
    "$H_0$: **Discount uniformly affects Regions for all categories of product**\n",
    "\n",
    "$H_1$: **Discount does not uniformly affect Regions for all categories of product**\n",
    "\n",
    "This analysis will help to refine our decisions regarding:\n",
    "i) Whether offering discounts benefits sales\n",
    "ii) What level of discount best benefits sales\n"
   ]
  },
  {
   "cell_type": "code",
   "execution_count": null,
   "metadata": {},
   "outputs": [],
   "source": [
    "product.groupby(['ShipRegion'])['SalePrice'].mean()"
   ]
  },
  {
   "cell_type": "code",
   "execution_count": null,
   "metadata": {},
   "outputs": [],
   "source": [
    "# Does Discount vary significantly by Region?\n",
    "levels = [i for i in range(len(set(product.ShipRegion)))]\n",
    "\n",
    "sum_con_ship = Sum().code_without_intercept(levels)\n",
    "\n",
    "print(sum_contrast.matrix)"
   ]
  },
  {
   "cell_type": "code",
   "execution_count": null,
   "metadata": {
    "scrolled": false
   },
   "outputs": [],
   "source": [
    "lm = smf.ols('LogSales ~ C(ShipRegion, sum_con_ship) * C(DiscountBinary)', data = product).fit(cov_type='HC3')\n",
    "print(lm.summary())"
   ]
  },
  {
   "cell_type": "code",
   "execution_count": null,
   "metadata": {},
   "outputs": [],
   "source": [
    "NUM_COLORS = 9\n",
    "\n",
    "cm = pylab.get_cmap('plasma')\n",
    "for i in range(NUM_COLORS):\n",
    "    color = cm(1.*i/NUM_COLORS)  # color will now be an RGBA tuple\n",
    "\n",
    "# or if you really want a generator:\n",
    "cgen = list((cm(1.*i/NUM_COLORS) for i in range(NUM_COLORS)))\n",
    "\n",
    "\n",
    "\n",
    "sns.set(style=\"white\")\n",
    "fig = plt.figure(figsize=(7,7))\n",
    "ax = fig.gca()\n",
    "\n",
    "interaction_plot(product.DiscountBinary, product.ShipRegion, product.SalePrice,\n",
    "             colors=cgen, markers=['D','^', 'o', 'o', 'D', '^', 'o', 'D', '^'], ms=8, ax=ax)\n",
    "\n",
    "\n",
    "plt.legend(loc='center left', bbox_to_anchor=(1, 0.5))\n",
    "plt.ylabel('Mean Sales', fontsize=12)\n",
    "plt.xlabel('No Discount vs Discount', fontsize=12)\n",
    "plt.title('Discount per Category', fontsize=14);"
   ]
  },
  {
   "cell_type": "markdown",
   "metadata": {},
   "source": [
    "## INTERPRETATION\n",
    "\n",
    "Using log transformed Sales Price to correct for skew, "
   ]
  },
  {
   "cell_type": "code",
   "execution_count": null,
   "metadata": {},
   "outputs": [],
   "source": []
  },
  {
   "cell_type": "code",
   "execution_count": null,
   "metadata": {},
   "outputs": [],
   "source": []
  },
  {
   "cell_type": "code",
   "execution_count": null,
   "metadata": {},
   "outputs": [],
   "source": []
  },
  {
   "cell_type": "code",
   "execution_count": null,
   "metadata": {},
   "outputs": [],
   "source": []
  },
  {
   "cell_type": "code",
   "execution_count": null,
   "metadata": {},
   "outputs": [],
   "source": []
  },
  {
   "cell_type": "code",
   "execution_count": null,
   "metadata": {
    "scrolled": false
   },
   "outputs": [],
   "source": [
    "lm = smf.ols('SalePrice ~ C(EmployeeId, sum_con_emp)', data = product).fit(cov_type='HC3')\n",
    "print(lm.summary())"
   ]
  },
  {
   "cell_type": "code",
   "execution_count": null,
   "metadata": {},
   "outputs": [],
   "source": [
    "lm = smf.ols('SalePrice ~ C(EmployeeId, sum_con_emp) * C(DiscountBinary)', data = product).fit(cov_type='HC3')\n",
    "print(lm.summary())"
   ]
  },
  {
   "cell_type": "code",
   "execution_count": null,
   "metadata": {
    "scrolled": false
   },
   "outputs": [],
   "source": [
    "lm = smf.ols('LogSales ~ C(EmployeeId, sum_con_emp) * C(DiscountBinary)', data = product).fit(cov_type='HC3')\n",
    "print(lm.summary())"
   ]
  },
  {
   "cell_type": "code",
   "execution_count": null,
   "metadata": {},
   "outputs": [],
   "source": [
    "lm = smf.ols('LogSales ~ C(EmployeeId, sum_con_emp)', data = product).fit(cov_type='HC3')\n",
    "print(lm.summary())"
   ]
  },
  {
   "cell_type": "code",
   "execution_count": null,
   "metadata": {},
   "outputs": [],
   "source": [
    "employee_contrast = product.loc[product['EmployeeId'] == 8]"
   ]
  },
  {
   "cell_type": "code",
   "execution_count": null,
   "metadata": {},
   "outputs": [],
   "source": [
    "product['SalesRatio'] = product.ExtendedPrice/product.SalePrice\n",
    "product['DiscountAmount'] = product.Discount * product.SalePrice"
   ]
  },
  {
   "cell_type": "code",
   "execution_count": null,
   "metadata": {},
   "outputs": [],
   "source": [
    "product.DiscountAmount.hist()"
   ]
  },
  {
   "cell_type": "code",
   "execution_count": null,
   "metadata": {},
   "outputs": [],
   "source": [
    "product.DiscountAmount.describe()"
   ]
  },
  {
   "cell_type": "code",
   "execution_count": null,
   "metadata": {},
   "outputs": [],
   "source": [
    "product.groupby('EmployeeId')['SalesRatio'].mean()"
   ]
  },
  {
   "cell_type": "code",
   "execution_count": null,
   "metadata": {},
   "outputs": [],
   "source": [
    "len(employee_contrast)\n",
    "employee_contrast.groupby('DiscountGrouped')['SalePrice'].mean().plot();"
   ]
  },
  {
   "cell_type": "code",
   "execution_count": null,
   "metadata": {},
   "outputs": [],
   "source": [
    "product.groupby('DiscountGrouped')['SalePrice'].median().plot()"
   ]
  },
  {
   "cell_type": "code",
   "execution_count": null,
   "metadata": {},
   "outputs": [],
   "source": [
    "levels = [i for i in range(len(set(employee_contrast.CategoryId)))]\n",
    "\n",
    "sum_con = Sum().code_without_intercept(levels)\n",
    "\n",
    "print(sum_contrast.matrix)"
   ]
  },
  {
   "cell_type": "code",
   "execution_count": null,
   "metadata": {},
   "outputs": [],
   "source": [
    "lm = smf.ols('SalePrice ~ C(DiscountBinary) * C(CategoryId, sum_con)', data = employee_contrast).fit(cov_type='HC3')\n",
    "print(lm.summary())"
   ]
  },
  {
   "cell_type": "code",
   "execution_count": null,
   "metadata": {},
   "outputs": [],
   "source": [
    "product.groupby(['EmployeeId', 'DiscountBinary'])['Quantity', 'SalePrice'].mean()"
   ]
  },
  {
   "cell_type": "code",
   "execution_count": null,
   "metadata": {},
   "outputs": [],
   "source": [
    "product['Sale_z'] = (product['SalePrice'] - product['SalePrice'].mean())/ product.SalePrice.std()"
   ]
  },
  {
   "cell_type": "code",
   "execution_count": null,
   "metadata": {
    "scrolled": false
   },
   "outputs": [],
   "source": [
    "z_hbar(product, 'EmployeeId', 'Sale_z', 'Employee Sales', 'Employee Sales Standardized')"
   ]
  },
  {
   "cell_type": "code",
   "execution_count": null,
   "metadata": {},
   "outputs": [],
   "source": [
    "z_hbar(product, 'EmployeeId', 'SalePrice', 'Employee Sales', 'Employee Sales')"
   ]
  },
  {
   "cell_type": "code",
   "execution_count": null,
   "metadata": {},
   "outputs": [],
   "source": [
    "levels = [i for i in range(len(set(product.ShipRegion)))]\n",
    "\n",
    "sum_con_ship = Sum().code_without_intercept(levels)\n",
    "\n",
    "print(sum_contrast.matrix)"
   ]
  },
  {
   "cell_type": "code",
   "execution_count": null,
   "metadata": {
    "scrolled": false
   },
   "outputs": [],
   "source": []
  },
  {
   "cell_type": "code",
   "execution_count": null,
   "metadata": {
    "scrolled": false
   },
   "outputs": [],
   "source": [
    "lm2 = smf.ols('LogQuantity ~ C(ShipRegion, sum_con_ship) * C(DiscountBinary)', data = product).fit(cov_type='HC3')\n",
    "print(lm.summary())"
   ]
  },
  {
   "cell_type": "code",
   "execution_count": null,
   "metadata": {},
   "outputs": [],
   "source": [
    "test_class = OLSInfluence(lm2)\n",
    "influence = test_class.summary_frame()\n",
    "influence.standard_resid.hist()"
   ]
  },
  {
   "cell_type": "code",
   "execution_count": null,
   "metadata": {
    "scrolled": false
   },
   "outputs": [],
   "source": [
    "lm = smf.ols('LogSales ~ C(ShipRegion, sum_con_ship) * C(DiscountBinary)', data = product).fit(cov_type='HC3')\n",
    "print(lm.summary())"
   ]
  },
  {
   "cell_type": "code",
   "execution_count": null,
   "metadata": {},
   "outputs": [],
   "source": [
    "product.groupby('ShipRegion')['SalePrice', 'Quantity', 'Freight'].mean().round(2)"
   ]
  },
  {
   "cell_type": "code",
   "execution_count": null,
   "metadata": {},
   "outputs": [],
   "source": [
    "lm = smf.ols('Freight ~ C(ShipRegion) * ', data = product).fit(cov_type='HC3')\n",
    "print(lm.summary())"
   ]
  },
  {
   "cell_type": "code",
   "execution_count": null,
   "metadata": {},
   "outputs": [],
   "source": []
  },
  {
   "cell_type": "code",
   "execution_count": null,
   "metadata": {
    "scrolled": false
   },
   "outputs": [],
   "source": [
    "sns.distplot(OLSResults.resid(new));\n",
    "OLSResults.resid(new).mean()"
   ]
  },
  {
   "cell_type": "code",
   "execution_count": null,
   "metadata": {},
   "outputs": [],
   "source": [
    "from statsmodels.stats.outliers_influence import OLSInfluence\n",
    "test_class = OLSInfluence(lm)\n",
    "test_class.dfbetas[:5,:]"
   ]
  },
  {
   "cell_type": "code",
   "execution_count": null,
   "metadata": {},
   "outputs": [],
   "source": [
    "from statsmodels.graphics.regressionplots import plot_leverage_resid2\n",
    "fig, ax = plt.subplots(figsize=(8,6))\n",
    "fig = plot_leverage_resid2(lm, ax = ax)"
   ]
  },
  {
   "cell_type": "code",
   "execution_count": null,
   "metadata": {},
   "outputs": [],
   "source": [
    "dir(test_class);"
   ]
  },
  {
   "cell_type": "code",
   "execution_count": null,
   "metadata": {},
   "outputs": [],
   "source": [
    "name = ['F statistic', 'p-value']\n",
    "test = sms.het_goldfeldquandt(lm.resid, lm.model.exog)\n",
    "list(zip(name, test))"
   ]
  },
  {
   "cell_type": "code",
   "execution_count": null,
   "metadata": {},
   "outputs": [],
   "source": [
    "product.Quantity[1363]\n",
    "product.Quantity[1621]"
   ]
  },
  {
   "cell_type": "code",
   "execution_count": null,
   "metadata": {},
   "outputs": [],
   "source": []
  },
  {
   "cell_type": "code",
   "execution_count": null,
   "metadata": {},
   "outputs": [],
   "source": []
  },
  {
   "cell_type": "code",
   "execution_count": null,
   "metadata": {},
   "outputs": [],
   "source": []
  },
  {
   "cell_type": "code",
   "execution_count": null,
   "metadata": {},
   "outputs": [],
   "source": []
  },
  {
   "cell_type": "code",
   "execution_count": null,
   "metadata": {},
   "outputs": [],
   "source": []
  },
  {
   "cell_type": "code",
   "execution_count": null,
   "metadata": {},
   "outputs": [],
   "source": []
  },
  {
   "cell_type": "code",
   "execution_count": null,
   "metadata": {},
   "outputs": [],
   "source": []
  },
  {
   "cell_type": "code",
   "execution_count": null,
   "metadata": {},
   "outputs": [],
   "source": []
  },
  {
   "cell_type": "code",
   "execution_count": null,
   "metadata": {},
   "outputs": [],
   "source": [
    "lm = smf.ols('ExtendedPrice ~ Quantity', data = product).fit()\n",
    "print(lm.summary())"
   ]
  },
  {
   "cell_type": "code",
   "execution_count": null,
   "metadata": {},
   "outputs": [],
   "source": [
    "lm = smf.ols('Quantity ~ OrderPrice', data = product).fit()\n",
    "print(lm.summary())"
   ]
  },
  {
   "cell_type": "code",
   "execution_count": null,
   "metadata": {},
   "outputs": [],
   "source": [
    "product.head()"
   ]
  },
  {
   "cell_type": "code",
   "execution_count": null,
   "metadata": {},
   "outputs": [],
   "source": [
    "from patsy.contrasts import Treatment\n",
    "\n",
    "levels = [1,2,3,4,5,6]\n",
    "\n",
    "contrast = Treatment(reference=0).code_without_intercept(levels)\n",
    "\n",
    "print(contrast.matrix)"
   ]
  },
  {
   "cell_type": "code",
   "execution_count": null,
   "metadata": {
    "scrolled": false
   },
   "outputs": [],
   "source": [
    "lm = smf.ols('Quantity ~ C(DiscountGrouped, contrast)', data = product).fit()\n",
    "print(lm.summary())"
   ]
  },
  {
   "cell_type": "code",
   "execution_count": null,
   "metadata": {},
   "outputs": [],
   "source": [
    "len(product.CategoryId.unique())"
   ]
  },
  {
   "cell_type": "code",
   "execution_count": null,
   "metadata": {},
   "outputs": [],
   "source": []
  },
  {
   "cell_type": "code",
   "execution_count": null,
   "metadata": {},
   "outputs": [],
   "source": []
  },
  {
   "cell_type": "code",
   "execution_count": null,
   "metadata": {},
   "outputs": [],
   "source": [
    "from patsy.contrasts import Helmert\n",
    "\n",
    "helmert = Helmert().code_without_intercept(levels)\n",
    "\n",
    "print(helmert.matrix)"
   ]
  },
  {
   "cell_type": "code",
   "execution_count": null,
   "metadata": {},
   "outputs": [],
   "source": [
    "lm = smf.ols('Quantity ~ C(DiscountGrouped, contrast)', data = product).fit()\n",
    "print(lm.summary())"
   ]
  },
  {
   "cell_type": "code",
   "execution_count": null,
   "metadata": {},
   "outputs": [],
   "source": [
    "effect_size = 0.4\n",
    "alpha = 0.05 # significance level\n",
    "power = 0.8\n",
    "\n",
    "power_analysis = FTestAnovaPower()\n",
    "sample_size = power_analysis.solve_power(effect_size = effect_size, \n",
    "                                         power = power, \n",
    "                                         alpha = alpha)\n",
    "\n",
    "print('Required sample size: {0:.2f}'.format(sample_size))"
   ]
  },
  {
   "cell_type": "code",
   "execution_count": null,
   "metadata": {},
   "outputs": [],
   "source": [
    "smp.FTestPower().solve_power(effect_size=0.1, df_num=2147, df_denom=7, alpha=0.05)"
   ]
  },
  {
   "cell_type": "code",
   "execution_count": null,
   "metadata": {},
   "outputs": [],
   "source": [
    "import plotly\n",
    "import plotly.graph_objs as go\n",
    "import plotly.plotly as py\n",
    "import cufflinks as cf\n",
    "import plotly.offline as py\n",
    "\n",
    "cf.go_offline() # required to use plotly offline (no account required).\n",
    "py.init_notebook_mode() # graphs charts inline (IPython)."
   ]
  },
  {
   "cell_type": "markdown",
   "metadata": {},
   "source": [
    "### REFERENCES \n",
    "\n",
    "https://stats.idre.ucla.edu/r/library/r-library-contrast-coding-systems-for-categorical-variables/\n",
    "\n",
    "https://stats.stackexchange.com/questions/163518/interpreting-test-results-on-log-transformed-data\n",
    "\n",
    "http://www.jerrydallal.com/LHSP/ci_logs.htm\n",
    "\n",
    "https://stats.idre.ucla.edu/other/mult-pkg/faq/general/faqhow-do-i-interpret-a-regression-model-when-some-variables-are-log-transformed/\n",
    "\n",
    "https://www.ncbi.nlm.nih.gov/pmc/articles/PMC4120293/\n",
    "\n",
    "https://blog.stata.com/2011/08/22/use-poisson-rather-than-regress-tell-a-friend/\n",
    "\n",
    "https://stats.stackexchange.com/questions/298/in-linear-regression-when-is-it-appropriate-to-use-the-log-of-an-independent-va/3530#3530\n",
    "\n",
    "Cohen (2013). Applied Multiple Regression/Correlation Analysis for the Behavioral Sciences. "
   ]
  },
  {
   "cell_type": "markdown",
   "metadata": {},
   "source": [
    "Further investigation before final decision:\n",
    "1) Is the effect of discount on Quantity or Sales Price modulated by time? In other words, does offering larger discounts earlier on result in more sales over time for any customers? "
   ]
  }
 ],
 "metadata": {
  "kernelspec": {
   "display_name": "learn-env",
   "language": "python",
   "name": "learn-env"
  },
  "language_info": {
   "codemirror_mode": {
    "name": "ipython",
    "version": 3
   },
   "file_extension": ".py",
   "mimetype": "text/x-python",
   "name": "python",
   "nbconvert_exporter": "python",
   "pygments_lexer": "ipython3",
   "version": "3.6.6"
  }
 },
 "nbformat": 4,
 "nbformat_minor": 2
}
