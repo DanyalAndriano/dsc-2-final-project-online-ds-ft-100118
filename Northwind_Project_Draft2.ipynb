{
 "cells": [
  {
   "cell_type": "markdown",
   "metadata": {},
   "source": [
    "# Module 2 Final Project - How Does Discount Impact Sales? \n",
    "\n",
    "\n",
    "### Northwind Database\n",
    "\n",
    "<img src='Northwind_ERD.png'>\n",
    "\n",
    "The goal of this project is to test your ability to gather information from a real-world database and use your knowledge of statistical analysis and hypothesis testing to generate analytical insights that can be of value to the company. \n",
    "\n",
    "## The Deliverables\n",
    "\n",
    "The goal of your project is to query the database to get the data needed to perform a statistical analysis.  In this statistical analysis, you'll need to perform a hypothesis test (or perhaps several) to answer the following question:\n",
    "\n",
    "**_Does discount amount have a statistically significant effect on the quantity of a product in an order? If so, at what level(s) of discount?_**\n",
    "\n",
    "In addition to answering this question with a hypothesis test, you will also need to come up with **_at least 3 other hypotheses to test on your own_**.  These can by anything that you think could be imporant information for the company. \n",
    "\n",
    "For this hypothesis, be sure to specify both the **_null hypothesis_** and the **_alternative hypothesis_** for your question.  You should also specify if this is one-tail or a two-tail test. \n",
    "\n"
   ]
  },
  {
   "cell_type": "code",
   "execution_count": 148,
   "metadata": {},
   "outputs": [],
   "source": [
    "import sqlalchemy\n",
    "from sqlalchemy import create_engine\n",
    "from sqlalchemy.orm import Session, sessionmaker\n",
    "from sqlalchemy import inspect\n",
    "from sqlalchemy import MetaData\n",
    "from sqlalchemy.ext.automap import automap_base\n",
    "import pandas as pd\n",
    "\n",
    "import matplotlib.pyplot as plt\n",
    "import seaborn as sns\n",
    "from matplotlib.colors import ListedColormap\n",
    "%matplotlib inline\n",
    "\n",
    "from IPython.display import display, HTML\n",
    "\n",
    "from scipy import stats\n",
    "from scipy.stats.stats import pearsonr\n",
    "from sklearn.linear_model import LinearRegression\n",
    "from sklearn.model_selection import cross_val_score\n",
    "from sklearn.model_selection import KFold\n",
    "import numpy as np\n",
    "import statsmodels.stats.api as sms\n",
    "from statsmodels.regression.linear_model import OLSResults\n",
    "import statsmodels.api as sm\n",
    "from statsmodels.formula.api import ols\n",
    "from statsmodels.stats.anova import anova_lm\n",
    "from statsmodels.graphics.factorplots import interaction_plot\n",
    "import statsmodels.formula.api as smf\n",
    "import category_encoders as ce\n",
    "from statsmodels.stats.power import TTestIndPower, FTestPower, FTestAnovaPower\n",
    "from statsmodels.stats.outliers_influence import OLSInfluence\n"
   ]
  },
  {
   "cell_type": "code",
   "execution_count": 142,
   "metadata": {},
   "outputs": [],
   "source": [
    "def get_columns_info(col_name):\n",
    "    cols_list = inspector.get_columns(col_name)\n",
    "    \n",
    "    print(\"Table Name: {}\".format(col_name))\n",
    "    print(\"\")\n",
    "    \n",
    "    for col in cols_list:\n",
    "        print(\"Name: {} \\t Type: {}\".format(col['name'], col['type']))\n",
    "        \n",
    "def z_hbar(data, y_col, x_col, xlabel, title):\n",
    "    colors = sns.color_palette(\"GnBu_d\", 10)\n",
    "    plt.figure(figsize=(8,7))\n",
    "    ax = sns.barplot(y = data[y_col], x = data[x_col], data=data, orient='h', palette=colors, errwidth=0.8,\n",
    "           capsize=0.2)\n",
    "    ax.set_xlabel(xlabel=xlabel, fontsize=14)\n",
    "    ax.set_xticks(np.arange(-0.5, 1.5))\n",
    "    ax.set_ylabel(ylabel='Participants', fontsize=14)\n",
    "    ax.set_title(label=title, fontsize=17)\n",
    "    plt.tight_layout();"
   ]
  },
  {
   "cell_type": "code",
   "execution_count": 3,
   "metadata": {},
   "outputs": [],
   "source": [
    "engine = create_engine(\"sqlite:///Northwind_small.sqlite\", echo=False)\n",
    "Session = sessionmaker(bind=engine)\n",
    "session = Session()\n",
    "inspector = inspect(engine)\n",
    "con = engine.connect()\n",
    "metadata = MetaData()"
   ]
  },
  {
   "cell_type": "markdown",
   "metadata": {},
   "source": [
    "## What factors are related to increased sales and quantity?\n",
    "\n",
    "- Assess discount for:\n",
    "    * Discount vs Employee\n",
    "    * Dicount vs Product\n",
    "    * Discount vs Region\n",
    "    * Discount vs Customer\n",
    "    \n",
    "- Take into consideration:\n",
    "    * Hypotheses, FDR, power, beta, alpha\n",
    "    * Interactions\n",
    "    * Assumptions ANOVA (is using regression more robust?)\n",
    "    * Effect sizes and estimated cost impacts"
   ]
  },
  {
   "cell_type": "markdown",
   "metadata": {},
   "source": [
    "### DISCOUNT & QUANTITY"
   ]
  },
  {
   "cell_type": "code",
   "execution_count": 4,
   "metadata": {
    "scrolled": true
   },
   "outputs": [
    {
     "data": {
      "text/plain": [
       "['Category',\n",
       " 'Customer',\n",
       " 'CustomerCustomerDemo',\n",
       " 'CustomerDemographic',\n",
       " 'Employee',\n",
       " 'EmployeeTerritory',\n",
       " 'Order',\n",
       " 'OrderDetail',\n",
       " 'Product',\n",
       " 'Region',\n",
       " 'Shipper',\n",
       " 'Supplier',\n",
       " 'Territory']"
      ]
     },
     "execution_count": 4,
     "metadata": {},
     "output_type": "execute_result"
    }
   ],
   "source": [
    "# Get names of tables in database\n",
    "inspector.get_table_names()"
   ]
  },
  {
   "cell_type": "markdown",
   "metadata": {},
   "source": [
    "### Does Discount Significantly Impact Order Quantity?\n",
    "\n",
    "##### H0: Discount Has No Signficant Effect on Order Quantity\n",
    "##### H1: Discount Does Significantly Increase Order Quantity"
   ]
  },
  {
   "cell_type": "code",
   "execution_count": 5,
   "metadata": {},
   "outputs": [
    {
     "name": "stdout",
     "output_type": "stream",
     "text": [
      "Table Name: Product\n",
      "\n",
      "Name: Id \t Type: INTEGER\n",
      "Name: ProductName \t Type: VARCHAR(8000)\n",
      "Name: SupplierId \t Type: INTEGER\n",
      "Name: CategoryId \t Type: INTEGER\n",
      "Name: QuantityPerUnit \t Type: VARCHAR(8000)\n",
      "Name: UnitPrice \t Type: DECIMAL\n",
      "Name: UnitsInStock \t Type: INTEGER\n",
      "Name: UnitsOnOrder \t Type: INTEGER\n",
      "Name: ReorderLevel \t Type: INTEGER\n",
      "Name: Discontinued \t Type: INTEGER\n",
      "\n",
      "\n",
      "Table Name: OrderDetail\n",
      "\n",
      "Name: Id \t Type: VARCHAR(8000)\n",
      "Name: OrderId \t Type: INTEGER\n",
      "Name: ProductId \t Type: INTEGER\n",
      "Name: UnitPrice \t Type: DECIMAL\n",
      "Name: Quantity \t Type: INTEGER\n",
      "Name: Discount \t Type: FLOAT\n",
      "\n",
      "\n",
      "Table Name: Category\n",
      "\n",
      "Name: Id \t Type: INTEGER\n",
      "Name: CategoryName \t Type: VARCHAR(8000)\n",
      "Name: Description \t Type: VARCHAR(8000)\n",
      "\n",
      "\n",
      "Table Name: Order\n",
      "\n",
      "Name: Id \t Type: INTEGER\n",
      "Name: CustomerId \t Type: VARCHAR(8000)\n",
      "Name: EmployeeId \t Type: INTEGER\n",
      "Name: OrderDate \t Type: VARCHAR(8000)\n",
      "Name: RequiredDate \t Type: VARCHAR(8000)\n",
      "Name: ShippedDate \t Type: VARCHAR(8000)\n",
      "Name: ShipVia \t Type: INTEGER\n",
      "Name: Freight \t Type: DECIMAL\n",
      "Name: ShipName \t Type: VARCHAR(8000)\n",
      "Name: ShipAddress \t Type: VARCHAR(8000)\n",
      "Name: ShipCity \t Type: VARCHAR(8000)\n",
      "Name: ShipRegion \t Type: VARCHAR(8000)\n",
      "Name: ShipPostalCode \t Type: VARCHAR(8000)\n",
      "Name: ShipCountry \t Type: VARCHAR(8000)\n"
     ]
    }
   ],
   "source": [
    "get_columns_info('Product')\n",
    "print('\\n')\n",
    "get_columns_info('OrderDetail')\n",
    "print('\\n')\n",
    "get_columns_info('Category')\n",
    "print('\\n')\n",
    "get_columns_info('Order')"
   ]
  },
  {
   "cell_type": "code",
   "execution_count": 6,
   "metadata": {},
   "outputs": [],
   "source": [
    "product = pd.read_sql_query(\"\"\"\n",
    "SELECT o.CustomerId, o.EmployeeId, o.ShipRegion, od.Quantity, od.Discount, od.UnitPrice, o.Freight, \n",
    "        c.Id as CategoryId, c.CategoryName, ((p.UnitPrice * od.Quantity * (1 - od.Discount)) - Freight) as Revenue, \n",
    "        (p.UnitPrice * od.Quantity) as SalePrice\n",
    "       \n",
    "FROM [Order] o\n",
    "    join OrderDetail od\n",
    "    on od.OrderID = o.ID\n",
    "    \n",
    "    JOIN Product p\n",
    "    on od.ProductID = p.ID\n",
    "    \n",
    "    JOIN Category c \n",
    "    on c.ID = p.CategoryID  \n",
    "\n",
    "\"\"\", engine)              \n"
   ]
  },
  {
   "cell_type": "code",
   "execution_count": 7,
   "metadata": {
    "scrolled": true
   },
   "outputs": [
    {
     "data": {
      "text/plain": [
       "CustomerId      0\n",
       "EmployeeId      0\n",
       "ShipRegion      0\n",
       "Quantity        0\n",
       "Discount        0\n",
       "UnitPrice       0\n",
       "Freight         0\n",
       "CategoryId      0\n",
       "CategoryName    0\n",
       "Revenue         0\n",
       "SalePrice       0\n",
       "dtype: int64"
      ]
     },
     "execution_count": 7,
     "metadata": {},
     "output_type": "execute_result"
    }
   ],
   "source": [
    "product.isna().sum()"
   ]
  },
  {
   "cell_type": "code",
   "execution_count": 14,
   "metadata": {},
   "outputs": [],
   "source": [
    "product.loc[product['Discount'] == 0.0, 'DiscountBinary'] = 0\n",
    "product.loc[product['Discount'] > 0.0, 'DiscountBinary'] = 1"
   ]
  },
  {
   "cell_type": "code",
   "execution_count": 15,
   "metadata": {},
   "outputs": [],
   "source": [
    "product.loc[product['Discount'] == 0.0, 'DiscountGrouped'] = 0\n",
    "product.loc[(product['Discount'] > 0.0) & (product['Discount'] <= 0.05), 'DiscountGrouped'] = 1\n",
    "product.loc[(product['Discount'] > 0.05) & (product['Discount'] <= 0.10), 'DiscountGrouped'] = 2\n",
    "product.loc[(product['Discount'] > 0.10) & (product['Discount'] <= 0.15), 'DiscountGrouped'] = 3\n",
    "product.loc[(product['Discount'] > 0.15) & (product['Discount'] <= 0.20), 'DiscountGrouped'] = 4\n",
    "product.loc[(product['Discount'] > 0.20) & (product['Discount'] <= 0.25), 'DiscountGrouped'] = 5"
   ]
  },
  {
   "cell_type": "code",
   "execution_count": 16,
   "metadata": {},
   "outputs": [
    {
     "name": "stderr",
     "output_type": "stream",
     "text": [
      "C:\\Users\\Danyal\\Anaconda3\\envs\\learn-env\\lib\\site-packages\\scipy\\stats\\stats.py:1713: FutureWarning: Using a non-tuple sequence for multidimensional indexing is deprecated; use `arr[tuple(seq)]` instead of `arr[seq]`. In the future this will be interpreted as an array index, `arr[np.array(seq)]`, which will result either in an error or a different result.\n",
      "  return np.add.reduce(sorted[indexer] * weights, axis=axis) / sumval\n"
     ]
    },
    {
     "data": {
      "image/png": "[encoded data removed]",
      "text/plain": [
       "<Figure size 576x288 with 2 Axes>"
      ]
     },
     "metadata": {
      "needs_background": "light"
     },
     "output_type": "display_data"
    }
   ],
   "source": [
    "fig, (ax1, ax2) = plt.subplots(ncols=2, sharey=True)\n",
    "fig.set_size_inches(8, 4)\n",
    "\n",
    "sns.distplot(product.DiscountBinary, ax=ax1)\n",
    "sns.distplot(product.DiscountGrouped, ax=ax2);"
   ]
  },
  {
   "cell_type": "code",
   "execution_count": 17,
   "metadata": {
    "scrolled": false
   },
   "outputs": [
    {
     "name": "stdout",
     "output_type": "stream",
     "text": [
      "2155\n"
     ]
    },
    {
     "name": "stderr",
     "output_type": "stream",
     "text": [
      "C:\\Users\\Danyal\\Anaconda3\\envs\\learn-env\\lib\\site-packages\\scipy\\stats\\stats.py:1713: FutureWarning: Using a non-tuple sequence for multidimensional indexing is deprecated; use `arr[tuple(seq)]` instead of `arr[seq]`. In the future this will be interpreted as an array index, `arr[np.array(seq)]`, which will result either in an error or a different result.\n",
      "  return np.add.reduce(sorted[indexer] * weights, axis=axis) / sumval\n"
     ]
    },
    {
     "data": {
      "image/png": "[encoded data removed]",
      "text/plain": [
       "<Figure size 432x288 with 1 Axes>"
      ]
     },
     "metadata": {
      "needs_background": "light"
     },
     "output_type": "display_data"
    }
   ],
   "source": [
    "sns.distplot(product.Quantity)\n",
    "print(len(product))"
   ]
  },
  {
   "cell_type": "code",
   "execution_count": 18,
   "metadata": {},
   "outputs": [
    {
     "name": "stderr",
     "output_type": "stream",
     "text": [
      "C:\\Users\\Danyal\\Anaconda3\\envs\\learn-env\\lib\\site-packages\\scipy\\stats\\stats.py:1713: FutureWarning: Using a non-tuple sequence for multidimensional indexing is deprecated; use `arr[tuple(seq)]` instead of `arr[seq]`. In the future this will be interpreted as an array index, `arr[np.array(seq)]`, which will result either in an error or a different result.\n",
      "  return np.add.reduce(sorted[indexer] * weights, axis=axis) / sumval\n"
     ]
    },
    {
     "data": {
      "image/png": "[encoded data removed]",
      "text/plain": [
       "<Figure size 432x288 with 1 Axes>"
      ]
     },
     "metadata": {
      "needs_background": "light"
     },
     "output_type": "display_data"
    }
   ],
   "source": [
    "sns.distplot(np.log(product.Quantity))\n",
    "product['LogQuantity'] = np.log(product.Quantity)"
   ]
  },
  {
   "cell_type": "code",
   "execution_count": 19,
   "metadata": {},
   "outputs": [
    {
     "data": {
      "text/plain": [
       "count     2155.000000\n",
       "mean       672.560237\n",
       "std       1110.261427\n",
       "min          6.000000\n",
       "25%        170.500000\n",
       "50%        380.000000\n",
       "75%        760.000000\n",
       "max      15810.000000\n",
       "Name: SalePrice, dtype: float64"
      ]
     },
     "execution_count": 19,
     "metadata": {},
     "output_type": "execute_result"
    }
   ],
   "source": [
    "product.SalePrice.describe()"
   ]
  },
  {
   "cell_type": "code",
   "execution_count": 20,
   "metadata": {},
   "outputs": [
    {
     "name": "stderr",
     "output_type": "stream",
     "text": [
      "C:\\Users\\Danyal\\Anaconda3\\envs\\learn-env\\lib\\site-packages\\scipy\\stats\\stats.py:1713: FutureWarning: Using a non-tuple sequence for multidimensional indexing is deprecated; use `arr[tuple(seq)]` instead of `arr[seq]`. In the future this will be interpreted as an array index, `arr[np.array(seq)]`, which will result either in an error or a different result.\n",
      "  return np.add.reduce(sorted[indexer] * weights, axis=axis) / sumval\n"
     ]
    },
    {
     "data": {
      "image/png": "[encoded data removed]",
      "text/plain": [
       "<Figure size 432x288 with 1 Axes>"
      ]
     },
     "metadata": {
      "needs_background": "light"
     },
     "output_type": "display_data"
    }
   ],
   "source": [
    "sns.distplot(np.log(product.SalePrice))\n",
    "product['LogSales'] = np.log(product.SalePrice)"
   ]
  },
  {
   "cell_type": "code",
   "execution_count": 21,
   "metadata": {},
   "outputs": [
    {
     "data": {
      "text/plain": [
       "<matplotlib.axes._subplots.AxesSubplot at 0x25d8edce2b0>"
      ]
     },
     "execution_count": 21,
     "metadata": {},
     "output_type": "execute_result"
    },
    {
     "data": {
      "image/png": "[encoded data removed]",
      "text/plain": [
       "<Figure size 432x288 with 1 Axes>"
      ]
     },
     "metadata": {
      "needs_background": "light"
     },
     "output_type": "display_data"
    }
   ],
   "source": [
    "sns.scatterplot(x='LogSales', y='Discount', data=product, hue='DiscountGrouped')"
   ]
  },
  {
   "cell_type": "code",
   "execution_count": 22,
   "metadata": {
    "scrolled": true
   },
   "outputs": [
    {
     "data": {
      "text/html": [
       "<div>\n",
       "<style scoped>\n",
       "    .dataframe tbody tr th:only-of-type {\n",
       "        vertical-align: middle;\n",
       "    }\n",
       "\n",
       "    .dataframe tbody tr th {\n",
       "        vertical-align: top;\n",
       "    }\n",
       "\n",
       "    .dataframe thead th {\n",
       "        text-align: right;\n",
       "    }\n",
       "</style>\n",
       "<table border=\"1\" class=\"dataframe\">\n",
       "  <thead>\n",
       "    <tr style=\"text-align: right;\">\n",
       "      <th></th>\n",
       "      <th>CustomerId</th>\n",
       "      <th>EmployeeId</th>\n",
       "      <th>ShipRegion</th>\n",
       "      <th>Quantity</th>\n",
       "      <th>Discount</th>\n",
       "      <th>UnitPrice</th>\n",
       "      <th>Freight</th>\n",
       "      <th>CategoryId</th>\n",
       "      <th>CategoryName</th>\n",
       "      <th>Revenue</th>\n",
       "      <th>SalePrice</th>\n",
       "      <th>DiscountBinary</th>\n",
       "      <th>DiscountGrouped</th>\n",
       "      <th>LogQuantity</th>\n",
       "      <th>LogSales</th>\n",
       "    </tr>\n",
       "  </thead>\n",
       "  <tbody>\n",
       "    <tr>\n",
       "      <th>0</th>\n",
       "      <td>VINET</td>\n",
       "      <td>5</td>\n",
       "      <td>Western Europe</td>\n",
       "      <td>12</td>\n",
       "      <td>0.0</td>\n",
       "      <td>14.0</td>\n",
       "      <td>32.38</td>\n",
       "      <td>4</td>\n",
       "      <td>Dairy Products</td>\n",
       "      <td>219.62</td>\n",
       "      <td>252.00</td>\n",
       "      <td>0.0</td>\n",
       "      <td>0.0</td>\n",
       "      <td>2.484907</td>\n",
       "      <td>5.529429</td>\n",
       "    </tr>\n",
       "    <tr>\n",
       "      <th>1</th>\n",
       "      <td>VINET</td>\n",
       "      <td>5</td>\n",
       "      <td>Western Europe</td>\n",
       "      <td>10</td>\n",
       "      <td>0.0</td>\n",
       "      <td>9.8</td>\n",
       "      <td>32.38</td>\n",
       "      <td>5</td>\n",
       "      <td>Grains/Cereals</td>\n",
       "      <td>107.62</td>\n",
       "      <td>140.00</td>\n",
       "      <td>0.0</td>\n",
       "      <td>0.0</td>\n",
       "      <td>2.302585</td>\n",
       "      <td>4.941642</td>\n",
       "    </tr>\n",
       "    <tr>\n",
       "      <th>2</th>\n",
       "      <td>VINET</td>\n",
       "      <td>5</td>\n",
       "      <td>Western Europe</td>\n",
       "      <td>5</td>\n",
       "      <td>0.0</td>\n",
       "      <td>34.8</td>\n",
       "      <td>32.38</td>\n",
       "      <td>4</td>\n",
       "      <td>Dairy Products</td>\n",
       "      <td>141.62</td>\n",
       "      <td>174.00</td>\n",
       "      <td>0.0</td>\n",
       "      <td>0.0</td>\n",
       "      <td>1.609438</td>\n",
       "      <td>5.159055</td>\n",
       "    </tr>\n",
       "    <tr>\n",
       "      <th>3</th>\n",
       "      <td>TOMSP</td>\n",
       "      <td>6</td>\n",
       "      <td>Western Europe</td>\n",
       "      <td>9</td>\n",
       "      <td>0.0</td>\n",
       "      <td>18.6</td>\n",
       "      <td>11.61</td>\n",
       "      <td>7</td>\n",
       "      <td>Produce</td>\n",
       "      <td>197.64</td>\n",
       "      <td>209.25</td>\n",
       "      <td>0.0</td>\n",
       "      <td>0.0</td>\n",
       "      <td>2.197225</td>\n",
       "      <td>5.343530</td>\n",
       "    </tr>\n",
       "    <tr>\n",
       "      <th>4</th>\n",
       "      <td>TOMSP</td>\n",
       "      <td>6</td>\n",
       "      <td>Western Europe</td>\n",
       "      <td>40</td>\n",
       "      <td>0.0</td>\n",
       "      <td>42.4</td>\n",
       "      <td>11.61</td>\n",
       "      <td>7</td>\n",
       "      <td>Produce</td>\n",
       "      <td>2108.39</td>\n",
       "      <td>2120.00</td>\n",
       "      <td>0.0</td>\n",
       "      <td>0.0</td>\n",
       "      <td>3.688879</td>\n",
       "      <td>7.659171</td>\n",
       "    </tr>\n",
       "  </tbody>\n",
       "</table>\n",
       "</div>"
      ],
      "text/plain": [
       "  CustomerId  EmployeeId      ShipRegion  Quantity  Discount  UnitPrice  \\\n",
       "0      VINET           5  Western Europe        12       0.0       14.0   \n",
       "1      VINET           5  Western Europe        10       0.0        9.8   \n",
       "2      VINET           5  Western Europe         5       0.0       34.8   \n",
       "3      TOMSP           6  Western Europe         9       0.0       18.6   \n",
       "4      TOMSP           6  Western Europe        40       0.0       42.4   \n",
       "\n",
       "   Freight  CategoryId    CategoryName  Revenue  SalePrice  DiscountBinary  \\\n",
       "0    32.38           4  Dairy Products   219.62     252.00             0.0   \n",
       "1    32.38           5  Grains/Cereals   107.62     140.00             0.0   \n",
       "2    32.38           4  Dairy Products   141.62     174.00             0.0   \n",
       "3    11.61           7         Produce   197.64     209.25             0.0   \n",
       "4    11.61           7         Produce  2108.39    2120.00             0.0   \n",
       "\n",
       "   DiscountGrouped  LogQuantity  LogSales  \n",
       "0              0.0     2.484907  5.529429  \n",
       "1              0.0     2.302585  4.941642  \n",
       "2              0.0     1.609438  5.159055  \n",
       "3              0.0     2.197225  5.343530  \n",
       "4              0.0     3.688879  7.659171  "
      ]
     },
     "execution_count": 22,
     "metadata": {},
     "output_type": "execute_result"
    }
   ],
   "source": [
    "product.head()"
   ]
  },
  {
   "cell_type": "code",
   "execution_count": 23,
   "metadata": {},
   "outputs": [
    {
     "data": {
      "image/png": "[encoded data removed]",
      "text/plain": [
       "<Figure size 864x432 with 1 Axes>"
      ]
     },
     "metadata": {
      "needs_background": "light"
     },
     "output_type": "display_data"
    }
   ],
   "source": [
    "discount = product.groupby('CategoryName')['DiscountGrouped'].value_counts().unstack('DiscountGrouped')\n",
    "\n",
    "discount.plot(kind='barh', stacked=True, colormap=ListedColormap(sns.color_palette(\"GnBu\", 10)), \n",
    "              figsize=(12,6), edgecolor = \"black\")\n",
    "\n",
    "plt.gca().invert_yaxis()\n",
    "plt.ylabel('')\n",
    "plt.yticks(np.arange(8), (['Dairy Products', 'Grains/Cereals', 'Produce', 'Seafood',\n",
    "       'Condiments', 'Confections', 'Beverages', 'Meat/Poultry']), fontsize=12)\n",
    "plt.xlabel('Percentage Discounted', fontsize=12)\n",
    "plt.legend(('None', '0 - 5%', '5 - 10%', '10 - 15%', '15 - 20%', '20 - 25%'), fontsize=12, loc='center left', bbox_to_anchor=(1, 0.5))\n",
    "plt.title('Discount Count per Product Category', fontsize=16);\n",
    "sns.despine(left=True, bottom=True)"
   ]
  },
  {
   "cell_type": "code",
   "execution_count": 24,
   "metadata": {},
   "outputs": [
    {
     "data": {
      "image/png": "[encoded data removed]",
      "text/plain": [
       "<Figure size 864x432 with 1 Axes>"
      ]
     },
     "metadata": {},
     "output_type": "display_data"
    }
   ],
   "source": [
    "plt.style.use('seaborn-white')\n",
    "\n",
    "discount = product.groupby('CategoryName')['DiscountGrouped'].value_counts(normalize=True).unstack('DiscountGrouped')\n",
    "\n",
    "discount.plot(kind='barh', stacked=True, colormap=ListedColormap(sns.color_palette(\"GnBu\", 10)), \n",
    "              figsize=(12,6), edgecolor = \"black\")\n",
    "\n",
    "plt.gca().invert_yaxis()\n",
    "plt.ylabel('')\n",
    "plt.yticks(np.arange(8), (['Dairy Products', 'Grains/Cereals', 'Produce', 'Seafood',\n",
    "       'Condiments', 'Confections', 'Beverages', 'Meat/Poultry']), fontsize=12)\n",
    "plt.xlabel('Percentage Discounted', fontsize=12)\n",
    "plt.legend(('None', '0 - 5%', '5 - 10%', '10 - 15%', '15 - 20%', '20 - 25%'), fontsize=12, loc='center left', bbox_to_anchor=(1, 0.5))\n",
    "plt.title('% Discount per Product Category', fontsize=16);\n",
    "sns.despine(left=True, bottom=True)"
   ]
  },
  {
   "cell_type": "code",
   "execution_count": 25,
   "metadata": {},
   "outputs": [
    {
     "name": "stdout",
     "output_type": "stream",
     "text": [
      "                 mean    std\n",
      "CategoryName                \n",
      "Beverages       0.062  0.088\n",
      "Condiments      0.053  0.078\n",
      "Confections     0.057  0.083\n",
      "Dairy Products  0.053  0.081\n",
      "Grains/Cereals  0.045  0.078\n",
      "Meat/Poultry    0.064  0.089\n",
      "Produce         0.045  0.077\n",
      "Seafood         0.060  0.086\n"
     ]
    }
   ],
   "source": [
    "print(product.groupby('CategoryName')['Discount'].agg(['mean', 'std']).round(3))"
   ]
  },
  {
   "cell_type": "code",
   "execution_count": 26,
   "metadata": {},
   "outputs": [
    {
     "name": "stdout",
     "output_type": "stream",
     "text": [
      "                   mean     std\n",
      "DiscountGrouped                \n",
      "0.0              21.715  17.507\n",
      "1.0              27.052  22.331\n",
      "2.0              25.103  21.199\n",
      "3.0              28.382  20.923\n",
      "4.0              27.025  18.833\n",
      "5.0              28.240  20.121\n"
     ]
    }
   ],
   "source": [
    "print(product.groupby(['DiscountGrouped'])['Quantity'].agg(['mean', 'std']).round(3))"
   ]
  },
  {
   "cell_type": "code",
   "execution_count": 27,
   "metadata": {},
   "outputs": [
    {
     "data": {
      "text/plain": [
       "DiscountBinary\n",
       "0.0    21.715262\n",
       "1.0    27.109785\n",
       "Name: Quantity, dtype: float64"
      ]
     },
     "execution_count": 27,
     "metadata": {},
     "output_type": "execute_result"
    }
   ],
   "source": [
    "product.groupby(['DiscountBinary'])['Quantity'].mean()"
   ]
  },
  {
   "cell_type": "code",
   "execution_count": null,
   "metadata": {
    "scrolled": false
   },
   "outputs": [],
   "source": []
  },
  {
   "cell_type": "code",
   "execution_count": 28,
   "metadata": {},
   "outputs": [
    {
     "data": {
      "image/png": "[encoded data removed]",
      "text/plain": [
       "<Figure size 432x288 with 1 Axes>"
      ]
     },
     "metadata": {},
     "output_type": "display_data"
    }
   ],
   "source": [
    "plt.scatter(product.DiscountBinary, product.SalePrice, marker = \"+\")\n",
    "plt.plot([0, 1], [np.mean(product.query('DiscountBinary == 0').SalePrice), np.mean(product.query('DiscountBinary == 1').SalePrice)], 'r--')\n",
    "plt.ylabel(\"Sales Price\")\n",
    "plt.xlabel(\"Discount\")\n",
    "plt.show()"
   ]
  },
  {
   "cell_type": "code",
   "execution_count": 29,
   "metadata": {},
   "outputs": [
    {
     "data": {
      "text/plain": [
       "<matplotlib.axes._subplots.AxesSubplot at 0x25d9001af98>"
      ]
     },
     "execution_count": 29,
     "metadata": {},
     "output_type": "execute_result"
    },
    {
     "data": {
      "image/png": "[encoded data removed]",
      "text/plain": [
       "<Figure size 432x288 with 1 Axes>"
      ]
     },
     "metadata": {},
     "output_type": "display_data"
    }
   ],
   "source": [
    "product.boxplot('Quantity', 'DiscountGrouped')"
   ]
  },
  {
   "cell_type": "markdown",
   "metadata": {},
   "source": [
    "### Comparing Discount to No Discount \n",
    "\n",
    "Various OLS models were used to study the relationships between quantity, discount and sales. In most instances the models are not complete and the aim was not overall predictive accuracy, but rather establishing relationships (or lack thereof) between variables. Since the F-test of the OLS model is identical to ANOVA, OLS was preferred for it's enhanced flexibility (ability to combine categorical and continuous variables), improved robustness and better diagnostic tests, compared with traditional ANOVAs/ group analysis. \n"
   ]
  },
  {
   "cell_type": "code",
   "execution_count": 30,
   "metadata": {},
   "outputs": [
    {
     "data": {
      "text/plain": [
       "count    2155.000000\n",
       "mean       23.812993\n",
       "std        19.022047\n",
       "min         1.000000\n",
       "25%        10.000000\n",
       "50%        20.000000\n",
       "75%        30.000000\n",
       "max       130.000000\n",
       "Name: Quantity, dtype: float64"
      ]
     },
     "execution_count": 30,
     "metadata": {},
     "output_type": "execute_result"
    }
   ],
   "source": [
    "product.Quantity.describe()"
   ]
  },
  {
   "cell_type": "code",
   "execution_count": 31,
   "metadata": {},
   "outputs": [
    {
     "name": "stdout",
     "output_type": "stream",
     "text": [
      "[[0. 0. 0. 0. 0.]\n",
      " [1. 0. 0. 0. 0.]\n",
      " [0. 1. 0. 0. 0.]\n",
      " [0. 0. 1. 0. 0.]\n",
      " [0. 0. 0. 1. 0.]\n",
      " [0. 0. 0. 0. 1.]]\n"
     ]
    }
   ],
   "source": [
    "from patsy.contrasts import Treatment\n",
    "\n",
    "levels = [i for i in range(0, len(set(product.DiscountGrouped)))]\n",
    "levels1 = [i for i in range(2)]\n",
    "\n",
    "dummy_contrast = Treatment(reference=0).code_without_intercept(levels)\n",
    "dummy_con_binary = Treatment(reference=0).code_without_intercept(levels1)\n",
    "\n",
    "print(dummy_contrast.matrix)"
   ]
  },
  {
   "cell_type": "code",
   "execution_count": 32,
   "metadata": {},
   "outputs": [
    {
     "name": "stdout",
     "output_type": "stream",
     "text": [
      "                            OLS Regression Results                            \n",
      "==============================================================================\n",
      "Dep. Variable:               Quantity   R-squared:                       0.019\n",
      "Model:                            OLS   Adj. R-squared:                  0.019\n",
      "Method:                 Least Squares   F-statistic:                     38.88\n",
      "Date:                Mon, 17 Dec 2018   Prob (F-statistic):           5.39e-10\n",
      "Time:                        12:42:36   Log-Likelihood:                -9384.3\n",
      "No. Observations:                2155   AIC:                         1.877e+04\n",
      "Df Residuals:                    2153   BIC:                         1.878e+04\n",
      "Df Model:                           1                                         \n",
      "Covariance Type:                  HC3                                         \n",
      "============================================================================================\n",
      "                               coef    std err          z      P>|z|      [0.025      0.975]\n",
      "--------------------------------------------------------------------------------------------\n",
      "Intercept                   21.7153      0.483     44.995      0.000      20.769      22.661\n",
      "C(DiscountBinary)[T.1.0]     5.3945      0.865      6.236      0.000       3.699       7.090\n",
      "==============================================================================\n",
      "Omnibus:                      781.498   Durbin-Watson:                   1.629\n",
      "Prob(Omnibus):                  0.000   Jarque-Bera (JB):             3015.153\n",
      "Skew:                           1.761   Prob(JB):                         0.00\n",
      "Kurtosis:                       7.602   Cond. No.                         2.44\n",
      "==============================================================================\n",
      "\n",
      "Warnings:\n",
      "[1] Standard Errors are heteroscedasticity robust (HC3)\n"
     ]
    }
   ],
   "source": [
    "reg = smf.ols('Quantity ~ C(DiscountBinary)', data = product).fit(cov_type='HC3')\n",
    "print(reg.summary())"
   ]
  },
  {
   "cell_type": "code",
   "execution_count": 33,
   "metadata": {},
   "outputs": [
    {
     "name": "stdout",
     "output_type": "stream",
     "text": [
      "                            OLS Regression Results                            \n",
      "==============================================================================\n",
      "Dep. Variable:            LogQuantity   R-squared:                       0.018\n",
      "Model:                            OLS   Adj. R-squared:                  0.017\n",
      "Method:                 Least Squares   F-statistic:                     38.57\n",
      "Date:                Mon, 17 Dec 2018   Prob (F-statistic):           6.34e-10\n",
      "Time:                        12:42:36   Log-Likelihood:                -2748.0\n",
      "No. Observations:                2155   AIC:                             5500.\n",
      "Df Residuals:                    2153   BIC:                             5511.\n",
      "Df Model:                           1                                         \n",
      "Covariance Type:            nonrobust                                         \n",
      "============================================================================================\n",
      "                               coef    std err          t      P>|t|      [0.025      0.975]\n",
      "--------------------------------------------------------------------------------------------\n",
      "Intercept                    2.7532      0.024    115.308      0.000       2.706       2.800\n",
      "C(DiscountBinary)[T.1.0]     0.2378      0.038      6.210      0.000       0.163       0.313\n",
      "==============================================================================\n",
      "Omnibus:                      128.747   Durbin-Watson:                   1.582\n",
      "Prob(Omnibus):                  0.000   Jarque-Bera (JB):              151.765\n",
      "Skew:                          -0.619   Prob(JB):                     1.11e-33\n",
      "Kurtosis:                       3.398   Cond. No.                         2.44\n",
      "==============================================================================\n",
      "\n",
      "Warnings:\n",
      "[1] Standard Errors assume that the covariance matrix of the errors is correctly specified.\n"
     ]
    }
   ],
   "source": [
    "reg = smf.ols('LogQuantity ~ C(DiscountBinary)', data = product).fit()\n",
    "print(reg.summary())"
   ]
  },
  {
   "cell_type": "code",
   "execution_count": 34,
   "metadata": {},
   "outputs": [
    {
     "name": "stdout",
     "output_type": "stream",
     "text": [
      "                            OLS Regression Results                            \n",
      "==============================================================================\n",
      "Dep. Variable:               Quantity   R-squared:                       0.021\n",
      "Model:                            OLS   Adj. R-squared:                  0.018\n",
      "Method:                 Least Squares   F-statistic:                     8.408\n",
      "Date:                Mon, 17 Dec 2018   Prob (F-statistic):           6.90e-08\n",
      "Time:                        12:42:37   Log-Likelihood:                -9382.6\n",
      "No. Observations:                2155   AIC:                         1.878e+04\n",
      "Df Residuals:                    2149   BIC:                         1.881e+04\n",
      "Df Model:                           5                                         \n",
      "Covariance Type:                  HC3                                         \n",
      "=============================================================================================\n",
      "                                coef    std err          z      P>|z|      [0.025      0.975]\n",
      "---------------------------------------------------------------------------------------------\n",
      "Intercept                    21.7153      0.483     44.995      0.000      20.769      22.661\n",
      "C(DiscountGrouped)[T.1.0]     5.3368      1.686      3.165      0.002       2.032       8.642\n",
      "C(DiscountGrouped)[T.2.0]     3.3882      1.682      2.014      0.044       0.091       6.686\n",
      "C(DiscountGrouped)[T.3.0]     6.6669      1.743      3.824      0.000       3.250      10.084\n",
      "C(DiscountGrouped)[T.4.0]     5.3096      1.565      3.392      0.001       2.242       8.377\n",
      "C(DiscountGrouped)[T.5.0]     6.5250      1.697      3.846      0.000       3.199       9.851\n",
      "==============================================================================\n",
      "Omnibus:                      786.055   Durbin-Watson:                   1.633\n",
      "Prob(Omnibus):                  0.000   Jarque-Bera (JB):             3070.774\n",
      "Skew:                           1.767   Prob(JB):                         0.00\n",
      "Kurtosis:                       7.660   Cond. No.                         4.75\n",
      "==============================================================================\n",
      "\n",
      "Warnings:\n",
      "[1] Standard Errors are heteroscedasticity robust (HC3)\n"
     ]
    }
   ],
   "source": [
    "reg = smf.ols('Quantity ~ C(DiscountGrouped)', data = product).fit(cov_type='HC3')\n",
    "print(reg.summary())"
   ]
  },
  {
   "cell_type": "code",
   "execution_count": 35,
   "metadata": {},
   "outputs": [
    {
     "name": "stdout",
     "output_type": "stream",
     "text": [
      "                            OLS Regression Results                            \n",
      "==============================================================================\n",
      "Dep. Variable:            LogQuantity   R-squared:                       0.020\n",
      "Model:                            OLS   Adj. R-squared:                  0.017\n",
      "Method:                 Least Squares   F-statistic:                     8.604\n",
      "Date:                Mon, 17 Dec 2018   Prob (F-statistic):           4.40e-08\n",
      "Time:                        12:42:37   Log-Likelihood:                -2745.8\n",
      "No. Observations:                2155   AIC:                             5504.\n",
      "Df Residuals:                    2149   BIC:                             5538.\n",
      "Df Model:                           5                                         \n",
      "Covariance Type:            nonrobust                                         \n",
      "=============================================================================================\n",
      "                                coef    std err          t      P>|t|      [0.025      0.975]\n",
      "---------------------------------------------------------------------------------------------\n",
      "Intercept                     2.7532      0.024    115.320      0.000       2.706       2.800\n",
      "C(DiscountGrouped)[T.1.0]     0.1895      0.067      2.831      0.005       0.058       0.321\n",
      "C(DiscountGrouped)[T.2.0]     0.1464      0.070      2.094      0.036       0.009       0.283\n",
      "C(DiscountGrouped)[T.3.0]     0.3045      0.073      4.163      0.000       0.161       0.448\n",
      "C(DiscountGrouped)[T.4.0]     0.2721      0.072      3.761      0.000       0.130       0.414\n",
      "C(DiscountGrouped)[T.5.0]     0.2974      0.074      4.030      0.000       0.153       0.442\n",
      "==============================================================================\n",
      "Omnibus:                      127.479   Durbin-Watson:                   1.588\n",
      "Prob(Omnibus):                  0.000   Jarque-Bera (JB):              150.037\n",
      "Skew:                          -0.615   Prob(JB):                     2.63e-33\n",
      "Kurtosis:                       3.396   Cond. No.                         4.75\n",
      "==============================================================================\n",
      "\n",
      "Warnings:\n",
      "[1] Standard Errors assume that the covariance matrix of the errors is correctly specified.\n"
     ]
    }
   ],
   "source": [
    "reg = smf.ols('LogQuantity ~ C(DiscountGrouped)', data = product).fit()\n",
    "print(reg.summary())"
   ]
  },
  {
   "cell_type": "code",
   "execution_count": 36,
   "metadata": {},
   "outputs": [
    {
     "data": {
      "image/png": "[encoded data removed]",
      "text/plain": [
       "<Figure size 432x288 with 1 Axes>"
      ]
     },
     "metadata": {},
     "output_type": "display_data"
    }
   ],
   "source": [
    "plt.scatter(product.DiscountBinary, product.Quantity, marker = \"+\")\n",
    "plt.plot([0, 1], [np.mean(product.query('DiscountBinary == 0').Quantity), np.mean(product.query('DiscountBinary == 1').Quantity)], 'r--')\n",
    "plt.ylabel(\"Order Quantity\")\n",
    "plt.xlabel(\"Discount\")\n",
    "plt.show()"
   ]
  },
  {
   "cell_type": "markdown",
   "metadata": {},
   "source": [
    "###### INTERPRETATION\n",
    "\n",
    "The F-test evaluates the significance of R2 compared to the null (nil) hypothesis, (i.e., that R2 is 0). A significant F statistic indicated that the amount of variance in Quantity accounted for by Discount is significantly different from 0. However, R2 also doubles as an effect size and as a percentage, only 2% of quantity can be accounted for by some Discount. \n",
    "\n",
    "Interpreting the above model, the intercept is the mean order quantity for the no discount category. This is confirmed by the descriptive statistics. For the remaining groups each beta value represents the comparison between that group and the no discount group (the specified reference group). For instance, the first contrast is no discount vs 1 - 5%; B = 5.3368 for this group and indicates that up to a 5% discount results in an approximate increase in quantity of 5. Likewise, for the second contrast, compared with no discount a 5 - 10% discount results in an increase in quantity of ~ 3. All categories of discount are significantly different from the no discount category. However, this does not indicate to us that all levels of discount are significant from each other. This is a very relevant question to ask because if a 5% discount produces the same increase in quantity and price for an order to a 25% discount, we could perhaps save money by only offering small discounts. \n",
    "\n",
    "Therefore, a follow up hypothesis is:\n",
    "\n",
    "H0: All levels of discount are equal with regards to Quantity\n",
    "H1: Levels of discount differ with regards to Quantity\n",
    "\n",
    "Further investigation of the size of the discount on Quantity is carried out below. \n",
    "\n",
    "(Note on inference: It is important to take into consideration the proportion of each group to the entire sample, as R2 changes with the relevant size of each category to the whole. How does this generalize to the population? Also, shrunken R2 is a more reliable estimate of R.)"
   ]
  },
  {
   "cell_type": "code",
   "execution_count": 38,
   "metadata": {},
   "outputs": [
    {
     "name": "stdout",
     "output_type": "stream",
     "text": [
      "[[-1. -1. -1. -1.]\n",
      " [ 1. -1. -1. -1.]\n",
      " [ 0.  2. -1. -1.]\n",
      " [ 0.  0.  3. -1.]\n",
      " [ 0.  0.  0.  4.]]\n",
      "\n",
      "\n",
      "[[ 1.  0.  0.  0.]\n",
      " [ 0.  1.  0.  0.]\n",
      " [ 0.  0.  1.  0.]\n",
      " [ 0.  0.  0.  1.]\n",
      " [-1. -1. -1. -1.]]\n"
     ]
    }
   ],
   "source": [
    "# Contrast only discount categories\n",
    "from patsy.contrasts import Sum\n",
    "from patsy.contrasts import Helmert\n",
    "\n",
    "discount = product.loc[product['DiscountGrouped'] > 0]\n",
    "\n",
    "levels = [i for i in range(0, len(set(discount.DiscountGrouped)))]\n",
    "\n",
    "sum_con_disc = Sum(omit=None).code_without_intercept(levels)\n",
    "h_con_disc = Helmert().code_without_intercept(levels)\n",
    "\n",
    "print(h_con_disc.matrix)\n",
    "print('\\n')\n",
    "print(sum_con_disc.matrix)"
   ]
  },
  {
   "cell_type": "code",
   "execution_count": 39,
   "metadata": {
    "scrolled": false
   },
   "outputs": [
    {
     "name": "stdout",
     "output_type": "stream",
     "text": [
      "                            OLS Regression Results                            \n",
      "==============================================================================\n",
      "Dep. Variable:               Quantity   R-squared:                       0.003\n",
      "Model:                            OLS   Adj. R-squared:                 -0.002\n",
      "Method:                 Least Squares   F-statistic:                    0.6532\n",
      "Date:                Mon, 17 Dec 2018   Prob (F-statistic):              0.625\n",
      "Time:                        12:42:54   Log-Likelihood:                -3729.4\n",
      "No. Observations:                 838   AIC:                             7469.\n",
      "Df Residuals:                     833   BIC:                             7492.\n",
      "Df Model:                           4                                         \n",
      "Covariance Type:                  HC3                                         \n",
      "=========================================================================================================\n",
      "                                            coef    std err          z      P>|z|      [0.025      0.975]\n",
      "---------------------------------------------------------------------------------------------------------\n",
      "Intercept                                27.1606      0.718     37.844      0.000      25.754      28.567\n",
      "C(DiscountGrouped, sum_con_disc)[S.0]    -0.1085      1.443     -0.075      0.940      -2.936       2.719\n",
      "C(DiscountGrouped, sum_con_disc)[S.1]    -2.0571      1.440     -1.429      0.153      -4.879       0.765\n",
      "C(DiscountGrouped, sum_con_disc)[S.2]     1.2216      1.483      0.824      0.410      -1.685       4.128\n",
      "C(DiscountGrouped, sum_con_disc)[S.3]    -0.1357      1.358     -0.100      0.920      -2.798       2.527\n",
      "==============================================================================\n",
      "Omnibus:                      265.252   Durbin-Watson:                   1.647\n",
      "Prob(Omnibus):                  0.000   Jarque-Bera (JB):              754.926\n",
      "Skew:                           1.593   Prob(JB):                    1.17e-164\n",
      "Kurtosis:                       6.387   Cond. No.                         2.32\n",
      "==============================================================================\n",
      "\n",
      "Warnings:\n",
      "[1] Standard Errors are heteroscedasticity robust (HC3)\n",
      "\n",
      "\n",
      "C(DiscountGrouped, sum_con_disc)[S.4]     1.0797      1.450      0.745      0.457      -1.762       3.922\n"
     ]
    }
   ],
   "source": [
    "lm = smf.ols('Quantity ~ C(DiscountGrouped, sum_con_disc)', data = discount).fit(cov_type='HC3')\n",
    "print(lm.summary())\n",
    "print('\\n')\n",
    "print('C(DiscountGrouped, sum_con_disc)[S.4]     1.0797      1.450      0.745      0.457      -1.762       3.922')"
   ]
  },
  {
   "cell_type": "markdown",
   "metadata": {},
   "source": [
    "A sum contrast was used to compare each level of discount with all other levels (i.e., The mean quantity for each level of discount was compared with the combined mean quantity for all other levels). Significance testing indicates that level of discount accounted for no variance/ effect in Quantity, F = 0.65, p = 0.625. Therefore, individual contrasts will not be investigated and we can conclude that, while some discount is significantly related to Quantity, the level of discount is inconsequential. We therefore fail to reject the null, and accept that all levels of discount are equal with regards to Quantity. \n",
    "\n",
    "Now, to determine whether the increase in quantity accounted for by discount is substantial in a real world sense, and not only in a statistical sense, the overall price of the sale will be investigated. Sales Price was feature engineered from Unit Price * Quantity, and therefore contains information about quantity as well as overall value of the sale. This may therefore be a more informative metric for decision making with regards to what discount to offer customers in the future. \n",
    "\n",
    "H0: Discount does not significantly impact Sales Price (M sales price no discount = M sales price discount)\n",
    "H1: Discount does significantly impact Sales Price ((M sales price no discount != M sales price discount)\n",
    "\n"
   ]
  },
  {
   "cell_type": "markdown",
   "metadata": {},
   "source": [
    "##### Sales Price = Discount Binary"
   ]
  },
  {
   "cell_type": "code",
   "execution_count": 43,
   "metadata": {
    "scrolled": false
   },
   "outputs": [
    {
     "name": "stdout",
     "output_type": "stream",
     "text": [
      "                            OLS Regression Results                            \n",
      "==============================================================================\n",
      "Dep. Variable:              SalePrice   R-squared:                       0.005\n",
      "Model:                            OLS   Adj. R-squared:                  0.005\n",
      "Method:                 Least Squares   F-statistic:                     10.82\n",
      "Date:                Mon, 17 Dec 2018   Prob (F-statistic):            0.00102\n",
      "Time:                        12:43:21   Log-Likelihood:                -18163.\n",
      "No. Observations:                2155   AIC:                         3.633e+04\n",
      "Df Residuals:                    2153   BIC:                         3.634e+04\n",
      "Df Model:                           1                                         \n",
      "Covariance Type:                  HC3                                         \n",
      "============================================================================================\n",
      "                               coef    std err          z      P>|z|      [0.025      0.975]\n",
      "--------------------------------------------------------------------------------------------\n",
      "Intercept                  606.9571     27.820     21.817      0.000     552.430     661.484\n",
      "C(DiscountBinary)[T.1.0]   168.7051     51.283      3.290      0.001      68.193     269.217\n",
      "==============================================================================\n",
      "Omnibus:                     2713.944   Durbin-Watson:                   1.904\n",
      "Prob(Omnibus):                  0.000   Jarque-Bera (JB):           417310.372\n",
      "Skew:                           6.772   Prob(JB):                         0.00\n",
      "Kurtosis:                      69.814   Cond. No.                         2.44\n",
      "==============================================================================\n",
      "\n",
      "Warnings:\n",
      "[1] Standard Errors are heteroscedasticity robust (HC3)\n"
     ]
    }
   ],
   "source": [
    "lm1 = smf.ols('SalePrice ~ C(DiscountBinary)', data = product).fit(cov_type='HC3')\n",
    "print(lm1.summary())"
   ]
  },
  {
   "cell_type": "code",
   "execution_count": 44,
   "metadata": {},
   "outputs": [
    {
     "name": "stdout",
     "output_type": "stream",
     "text": [
      "                            OLS Regression Results                            \n",
      "==============================================================================\n",
      "Dep. Variable:               LogSales   R-squared:                       0.010\n",
      "Model:                            OLS   Adj. R-squared:                  0.010\n",
      "Method:                 Least Squares   F-statistic:                     22.60\n",
      "Date:                Mon, 17 Dec 2018   Prob (F-statistic):           2.12e-06\n",
      "Time:                        12:43:30   Log-Likelihood:                -3375.0\n",
      "No. Observations:                2155   AIC:                             6754.\n",
      "Df Residuals:                    2153   BIC:                             6765.\n",
      "Df Model:                           1                                         \n",
      "Covariance Type:            nonrobust                                         \n",
      "============================================================================================\n",
      "                               coef    std err          t      P>|t|      [0.025      0.975]\n",
      "--------------------------------------------------------------------------------------------\n",
      "Intercept                    5.7652      0.032    180.501      0.000       5.703       5.828\n",
      "C(DiscountBinary)[T.1.0]     0.2435      0.051      4.754      0.000       0.143       0.344\n",
      "==============================================================================\n",
      "Omnibus:                       11.675   Durbin-Watson:                   1.690\n",
      "Prob(Omnibus):                  0.003   Jarque-Bera (JB):               11.681\n",
      "Skew:                          -0.175   Prob(JB):                      0.00291\n",
      "Kurtosis:                       3.085   Cond. No.                         2.44\n",
      "==============================================================================\n",
      "\n",
      "Warnings:\n",
      "[1] Standard Errors assume that the covariance matrix of the errors is correctly specified.\n"
     ]
    }
   ],
   "source": [
    "lm = smf.ols('LogSales ~ C(DiscountBinary)', data = product).fit()\n",
    "print(lm.summary())"
   ]
  },
  {
   "cell_type": "markdown",
   "metadata": {},
   "source": [
    "##### Sales Price = Levels of Discount"
   ]
  },
  {
   "cell_type": "code",
   "execution_count": 45,
   "metadata": {},
   "outputs": [
    {
     "name": "stdout",
     "output_type": "stream",
     "text": [
      "[[-1. -1. -1. -1.]\n",
      " [ 1. -1. -1. -1.]\n",
      " [ 0.  2. -1. -1.]\n",
      " [ 0.  0.  3. -1.]\n",
      " [ 0.  0.  0.  4.]]\n",
      "\n",
      "\n",
      "[[-1. -1. -1. -1.]\n",
      " [ 1.  0.  0.  0.]\n",
      " [ 0.  1.  0.  0.]\n",
      " [ 0.  0.  1.  0.]\n",
      " [ 0.  0.  0.  1.]]\n"
     ]
    }
   ],
   "source": [
    "# Contrast only discount categories\n",
    "\n",
    "discount = product.loc[product['DiscountGrouped'] > 0]\n",
    "\n",
    "levels = [i for i in range(0, len(set(discount.DiscountGrouped)))]\n",
    "\n",
    "sum_con_disc = Sum(omit=0).code_without_intercept(levels)\n",
    "h_con_disc = Helmert().code_without_intercept(levels)\n",
    "\n",
    "print(h_con_disc.matrix)\n",
    "print('\\n')\n",
    "print(sum_con_disc.matrix)"
   ]
  },
  {
   "cell_type": "code",
   "execution_count": 46,
   "metadata": {},
   "outputs": [
    {
     "name": "stdout",
     "output_type": "stream",
     "text": [
      "                            OLS Regression Results                            \n",
      "==============================================================================\n",
      "Dep. Variable:              SalePrice   R-squared:                       0.006\n",
      "Model:                            OLS   Adj. R-squared:                  0.001\n",
      "Method:                 Least Squares   F-statistic:                     1.664\n",
      "Date:                Mon, 17 Dec 2018   Prob (F-statistic):              0.156\n",
      "Time:                        12:44:03   Log-Likelihood:                -7159.2\n",
      "No. Observations:                 838   AIC:                         1.433e+04\n",
      "Df Residuals:                     833   BIC:                         1.435e+04\n",
      "Df Model:                           4                                         \n",
      "Covariance Type:                  HC3                                         \n",
      "=========================================================================================================\n",
      "                                            coef    std err          z      P>|z|      [0.025      0.975]\n",
      "---------------------------------------------------------------------------------------------------------\n",
      "Intercept                               775.5313     42.924     18.068      0.000     691.403     859.660\n",
      "C(DiscountGrouped, sum_con_disc)[S.1]  -134.6344     59.684     -2.256      0.024    -251.612     -17.657\n",
      "C(DiscountGrouped, sum_con_disc)[S.2]   -72.8813     63.013     -1.157      0.247    -196.384      50.621\n",
      "C(DiscountGrouped, sum_con_disc)[S.3]    -7.6031    101.611     -0.075      0.940    -206.757     191.551\n",
      "C(DiscountGrouped, sum_con_disc)[S.4]   134.2182     98.786      1.359      0.174     -59.400     327.836\n",
      "==============================================================================\n",
      "Omnibus:                     1022.366   Durbin-Watson:                   1.836\n",
      "Prob(Omnibus):                  0.000   Jarque-Bera (JB):           109001.883\n",
      "Skew:                           6.173   Prob(JB):                         0.00\n",
      "Kurtosis:                      57.492   Cond. No.                         2.49\n",
      "==============================================================================\n",
      "\n",
      "Warnings:\n",
      "[1] Standard Errors are heteroscedasticity robust (HC3)\n"
     ]
    }
   ],
   "source": [
    "lm = smf.ols('SalePrice ~ C(DiscountGrouped, sum_con_disc)', data = discount).fit(cov_type='HC3')\n",
    "print(lm.summary())"
   ]
  },
  {
   "cell_type": "code",
   "execution_count": 49,
   "metadata": {},
   "outputs": [
    {
     "name": "stdout",
     "output_type": "stream",
     "text": [
      "                            OLS Regression Results                            \n",
      "==============================================================================\n",
      "Dep. Variable:               LogSales   R-squared:                       0.004\n",
      "Model:                            OLS   Adj. R-squared:                 -0.001\n",
      "Method:                 Least Squares   F-statistic:                    0.7741\n",
      "Date:                Mon, 17 Dec 2018   Prob (F-statistic):              0.542\n",
      "Time:                        12:45:46   Log-Likelihood:                -1317.6\n",
      "No. Observations:                 838   AIC:                             2645.\n",
      "Df Residuals:                     833   BIC:                             2669.\n",
      "Df Model:                           4                                         \n",
      "Covariance Type:            nonrobust                                         \n",
      "=========================================================================================================\n",
      "                                            coef    std err          t      P>|t|      [0.025      0.975]\n",
      "---------------------------------------------------------------------------------------------------------\n",
      "Intercept                                 6.0113      0.041    148.330      0.000       5.932       6.091\n",
      "C(DiscountGrouped, sum_con_disc)[S.1]    -0.1096      0.080     -1.375      0.169      -0.266       0.047\n",
      "C(DiscountGrouped, sum_con_disc)[S.2]     0.0131      0.083      0.158      0.874      -0.150       0.176\n",
      "C(DiscountGrouped, sum_con_disc)[S.3]    -0.0228      0.082     -0.278      0.781      -0.184       0.138\n",
      "C(DiscountGrouped, sum_con_disc)[S.4]     0.1149      0.083      1.376      0.169      -0.049       0.279\n",
      "==============================================================================\n",
      "Omnibus:                        7.912   Durbin-Watson:                   1.711\n",
      "Prob(Omnibus):                  0.019   Jarque-Bera (JB):                7.827\n",
      "Skew:                          -0.230   Prob(JB):                       0.0200\n",
      "Kurtosis:                       3.116   Cond. No.                         2.49\n",
      "==============================================================================\n",
      "\n",
      "Warnings:\n",
      "[1] Standard Errors assume that the covariance matrix of the errors is correctly specified.\n"
     ]
    }
   ],
   "source": [
    "lm = smf.ols('LogSales ~ C(DiscountGrouped, sum_con_disc)', data = discount).fit()\n",
    "print(lm.summary())"
   ]
  },
  {
   "cell_type": "markdown",
   "metadata": {},
   "source": [
    "The above two analyses indicate that on average, there was a $168.75 increase in Sales Price when a discount was offered. However, as for Quantity, the level of discount offered did not significantly impact Sales Price. Therefore, based on these analyses we can consider offering a discount of 1 - 5%. \n",
    "\n",
    "Discounts > 5% = 87 448.93 Euros, or 6.03% of total sales. Therefore, this could potentially be saved if smaller discounts are as effective as larger ones in increasing the number of items ordered/ overall price of the sale. \n"
   ]
  },
  {
   "cell_type": "code",
   "execution_count": null,
   "metadata": {},
   "outputs": [],
   "source": [
    "# to calculate savings figures above\n",
    "\n",
    "#savings = product.loc[product['DiscountGrouped'] > 1]\n",
    "#discounts = savings.Discount * savings.SalePrice\n",
    "#(discounts.sum()/ product.SalePrice.sum()) * 100"
   ]
  },
  {
   "cell_type": "code",
   "execution_count": null,
   "metadata": {},
   "outputs": [],
   "source": []
  },
  {
   "cell_type": "code",
   "execution_count": null,
   "metadata": {},
   "outputs": [],
   "source": []
  },
  {
   "cell_type": "code",
   "execution_count": 144,
   "metadata": {},
   "outputs": [
    {
     "data": {
      "text/plain": [
       "<matplotlib.axes._subplots.AxesSubplot at 0x25d8ff23588>"
      ]
     },
     "execution_count": 144,
     "metadata": {},
     "output_type": "execute_result"
    },
    {
     "data": {
      "image/png": "[encoded data removed]",
      "text/plain": [
       "<Figure size 432x288 with 1 Axes>"
      ]
     },
     "metadata": {
      "needs_background": "light"
     },
     "output_type": "display_data"
    }
   ],
   "source": [
    "test_class = OLSInfluence(lm)\n",
    "influence = test_class.summary_frame()\n",
    "influence.standard_resid.hist()"
   ]
  },
  {
   "cell_type": "code",
   "execution_count": null,
   "metadata": {},
   "outputs": [],
   "source": [
    "# tests of homogeneity when transformed and not transformed "
   ]
  },
  {
   "cell_type": "code",
   "execution_count": null,
   "metadata": {},
   "outputs": [],
   "source": []
  },
  {
   "cell_type": "code",
   "execution_count": null,
   "metadata": {},
   "outputs": [],
   "source": []
  },
  {
   "cell_type": "markdown",
   "metadata": {},
   "source": [
    "#### Region, Category and Employee in relation to Quantity, Sales and Discounts\n",
    "\n",
    "Interactions are partialed effects (contribution to R2 over and above the main effects of discount and category).\n",
    "\n",
    "In this instance category represents a fixed effect as it represents all categories of product available for this company and our conclusions apply only to these conditions of discount and category. Therefore, the interactions test the hypothesis that disocunt (and levels of discount) uniformly affect categories of product. Our alternative hypothesis is that discount does not unifromly affect the Sales of each category, and that there are indeed differences in Sales due to discount and subcategories of discount. \n",
    "\n",
    "This analysis will help to refine our decisions regarding:\n",
    "i) Whether offering discounts benefits sales\n",
    "ii) What level of discount best benefits sales\n",
    "\n",
    "Should we find that sales within certain categories are more or less affected by discount, and specific levels of discount, this will allow a more nuanced approach to discount. "
   ]
  },
  {
   "cell_type": "code",
   "execution_count": 146,
   "metadata": {
    "scrolled": true
   },
   "outputs": [
    {
     "data": {
      "text/plain": [
       "CategoryId  CategoryName  \n",
       "1           Beverages         404\n",
       "2           Condiments        216\n",
       "3           Confections       334\n",
       "4           Dairy Products    366\n",
       "5           Grains/Cereals    196\n",
       "6           Meat/Poultry      173\n",
       "7           Produce           136\n",
       "8           Seafood           330\n",
       "Name: CategoryName, dtype: int64"
      ]
     },
     "execution_count": 146,
     "metadata": {},
     "output_type": "execute_result"
    }
   ],
   "source": [
    "product.groupby('CategoryId')['CategoryName'].value_counts()"
   ]
  },
  {
   "cell_type": "code",
   "execution_count": 139,
   "metadata": {},
   "outputs": [
    {
     "name": "stdout",
     "output_type": "stream",
     "text": [
      "Sum Contrast Matrix - Categories\n",
      " [[ 1.  0.  0.  0.  0.  0.  0.]\n",
      " [ 0.  1.  0.  0.  0.  0.  0.]\n",
      " [ 0.  0.  1.  0.  0.  0.  0.]\n",
      " [ 0.  0.  0.  1.  0.  0.  0.]\n",
      " [ 0.  0.  0.  0.  1.  0.  0.]\n",
      " [ 0.  0.  0.  0.  0.  1.  0.]\n",
      " [ 0.  0.  0.  0.  0.  0.  1.]\n",
      " [-1. -1. -1. -1. -1. -1. -1.]]\n",
      "\n",
      "Dummy Contrast Matrix - Categories\n",
      " [[0. 0. 0. 0. 0. 0. 0.]\n",
      " [1. 0. 0. 0. 0. 0. 0.]\n",
      " [0. 1. 0. 0. 0. 0. 0.]\n",
      " [0. 0. 1. 0. 0. 0. 0.]\n",
      " [0. 0. 0. 1. 0. 0. 0.]\n",
      " [0. 0. 0. 0. 1. 0. 0.]\n",
      " [0. 0. 0. 0. 0. 1. 0.]\n",
      " [0. 0. 0. 0. 0. 0. 1.]]\n"
     ]
    }
   ],
   "source": [
    "from patsy.contrasts import Sum\n",
    "\n",
    "levels = [i for i in range(len(set(product.CategoryId)))]\n",
    "levels1 = [i for i in range(len(set(product.DiscountGrouped)))]\n",
    "\n",
    "sum_con_cat = Sum().code_without_intercept(levels)\n",
    "dummy_con_cat = Treatment(reference=0).code_without_intercept(levels)\n",
    "sum_con_disc = Sum(omit=0).code_without_intercept(levels1)\n",
    "\n",
    "print('Sum Contrast Matrix - Categories\\n', sum_con_cat.matrix, end='\\n\\n')\n",
    "print('Dummy Contrast Matrix - Categories\\n', dummy_con_cat.matrix)"
   ]
  },
  {
   "cell_type": "code",
   "execution_count": 120,
   "metadata": {
    "scrolled": false
   },
   "outputs": [
    {
     "name": "stdout",
     "output_type": "stream",
     "text": [
      "                            OLS Regression Results                            \n",
      "==============================================================================\n",
      "Dep. Variable:              SalePrice   R-squared:                       0.030\n",
      "Model:                            OLS   Adj. R-squared:                  0.026\n",
      "Method:                 Least Squares   F-statistic:                     8.219\n",
      "Date:                Wed, 19 Dec 2018   Prob (F-statistic):           5.15e-11\n",
      "Time:                        09:34:27   Log-Likelihood:                -18136.\n",
      "No. Observations:                2155   AIC:                         3.629e+04\n",
      "Df Residuals:                    2146   BIC:                         3.634e+04\n",
      "Df Model:                           8                                         \n",
      "Covariance Type:            nonrobust                                         \n",
      "=====================================================================================================\n",
      "                                        coef    std err          t      P>|t|      [0.025      0.975]\n",
      "-----------------------------------------------------------------------------------------------------\n",
      "Intercept                           631.1736     31.419     20.089      0.000     569.559     692.788\n",
      "C(CategoryName, sum_con_cat)[S.0]    70.6764     53.557      1.320      0.187     -34.352     175.705\n",
      "C(CategoryName, sum_con_cat)[S.1]  -129.6138     69.341     -1.869      0.062    -265.596       6.368\n",
      "C(CategoryName, sum_con_cat)[S.2]  -127.4360     57.758     -2.206      0.027    -240.703     -14.169\n",
      "C(CategoryName, sum_con_cat)[S.3]    40.2195     55.674      0.722      0.470     -68.962     149.401\n",
      "C(CategoryName, sum_con_cat)[S.4]  -138.9950     72.406     -1.920      0.055    -280.988       2.998\n",
      "C(CategoryName, sum_con_cat)[S.5]   398.6507     76.493      5.212      0.000     248.643     548.658\n",
      "C(CategoryName, sum_con_cat)[S.6]   133.3853     85.245      1.565      0.118     -33.786     300.556\n",
      "C(DiscountBinary)[T.1.0]            164.7776     48.510      3.397      0.001      69.646     259.909\n",
      "==============================================================================\n",
      "Omnibus:                     2706.464   Durbin-Watson:                   1.908\n",
      "Prob(Omnibus):                  0.000   Jarque-Bera (JB):           423892.730\n",
      "Skew:                           6.727   Prob(JB):                         0.00\n",
      "Kurtosis:                      70.378   Cond. No.                         4.40\n",
      "==============================================================================\n",
      "\n",
      "Warnings:\n",
      "[1] Standard Errors assume that the covariance matrix of the errors is correctly specified.\n",
      "\n",
      "\n",
      "C(CategoryName, sum_con_cat)[S.7]  -242.8040     58.176     -4.174      0.000    -356.892    -128.716\n"
     ]
    }
   ],
   "source": [
    "# Category to Quantity, Sales and Discount\n",
    "lm = smf.ols('SalePrice ~ C(CategoryName, sum_con_cat) + C(DiscountBinary)', data = product).fit()\n",
    "print(lm.summary())\n",
    "print('\\n')\n",
    "print('C(CategoryName, sum_con_cat)[S.7]  -242.8040     58.176     -4.174      0.000    -356.892    -128.716')\n"
   ]
  },
  {
   "cell_type": "markdown",
   "metadata": {},
   "source": [
    "Note that here the binary discount variable represents the difference between discount and no discount for the unweighted mean of the discount and no discount groups for each of the categories. The coefficients may therefore differ to before when category wasn't included. However, the interpretation then is specific to Sales within categories with regards to discount. "
   ]
  },
  {
   "cell_type": "code",
   "execution_count": 165,
   "metadata": {
    "scrolled": false
   },
   "outputs": [
    {
     "name": "stdout",
     "output_type": "stream",
     "text": [
      "                            OLS Regression Results                            \n",
      "==============================================================================\n",
      "Dep. Variable:              SalePrice   R-squared:                       0.032\n",
      "Model:                            OLS   Adj. R-squared:                  0.025\n",
      "Method:                 Least Squares   F-statistic:                     6.335\n",
      "Date:                Wed, 19 Dec 2018   Prob (F-statistic):           2.44e-13\n",
      "Time:                        12:51:24   Log-Likelihood:                -18134.\n",
      "No. Observations:                2155   AIC:                         3.630e+04\n",
      "Df Residuals:                    2139   BIC:                         3.639e+04\n",
      "Df Model:                          15                                         \n",
      "Covariance Type:                  HC3                                         \n",
      "==============================================================================================================================\n",
      "                                                                 coef    std err          z      P>|z|      [0.025      0.975]\n",
      "------------------------------------------------------------------------------------------------------------------------------\n",
      "Intercept                                                    628.2459     27.435     22.900      0.000     574.475     682.017\n",
      "C(DiscountBinary)[T.1.0]                                     170.2718     50.186      3.393      0.001      71.909     268.634\n",
      "C(CategoryName, sum_con_cat)[S.0]                             33.2755    100.671      0.331      0.741    -164.037     230.587\n",
      "C(CategoryName, sum_con_cat)[S.1]                           -136.2466     45.034     -3.025      0.002    -224.511     -47.982\n",
      "C(CategoryName, sum_con_cat)[S.2]                            -50.7218     51.000     -0.995      0.320    -150.679      49.236\n",
      "C(CategoryName, sum_con_cat)[S.3]                             23.2831     51.017      0.456      0.648     -76.707     123.274\n",
      "C(CategoryName, sum_con_cat)[S.4]                            -98.8662     52.679     -1.877      0.061    -202.115       4.382\n",
      "C(CategoryName, sum_con_cat)[S.5]                            344.8548    129.486      2.663      0.008      91.067     598.642\n",
      "C(CategoryName, sum_con_cat)[S.6]                            107.7860     61.038      1.766      0.077     -11.846     227.418\n",
      "C(DiscountBinary)[T.1.0]:C(CategoryName, sum_con_cat)[S.0]    97.6246    188.169      0.519      0.604    -271.180     466.430\n",
      "C(DiscountBinary)[T.1.0]:C(CategoryName, sum_con_cat)[S.1]    18.8007     90.039      0.209      0.835    -157.673     195.274\n",
      "C(DiscountBinary)[T.1.0]:C(CategoryName, sum_con_cat)[S.2]  -189.4098     81.839     -2.314      0.021    -349.811     -29.009\n",
      "C(DiscountBinary)[T.1.0]:C(CategoryName, sum_con_cat)[S.3]    45.7048     90.539      0.505      0.614    -131.748     223.158\n",
      "C(DiscountBinary)[T.1.0]:C(CategoryName, sum_con_cat)[S.4]  -121.2309     87.047     -1.393      0.164    -291.840      49.378\n",
      "C(DiscountBinary)[T.1.0]:C(CategoryName, sum_con_cat)[S.5]   123.6264    204.989      0.603      0.546    -278.146     525.398\n",
      "C(DiscountBinary)[T.1.0]:C(CategoryName, sum_con_cat)[S.6]    80.7207    168.015      0.480      0.631    -248.582     410.024\n",
      "==============================================================================\n",
      "Omnibus:                     2705.724   Durbin-Watson:                   1.904\n",
      "Prob(Omnibus):                  0.000   Jarque-Bera (JB):           424150.767\n",
      "Skew:                           6.723   Prob(JB):                         0.00\n",
      "Kurtosis:                      70.401   Cond. No.                         10.7\n",
      "==============================================================================\n",
      "\n",
      "Warnings:\n",
      "[1] Standard Errors are heteroscedasticity robust (HC3)\n",
      "\n",
      "\n",
      "C(DiscountGrouped)[T.1.0]:C(CategoryName, sum_con_cat)[S.7]  -261.0766    138.203     -1.889      0.059    -531.950       9.797C(DiscountGrouped)[T.2.0]:C(CategoryName, sum_con_cat)[S.7]   -51.0310     95.611     -0.534      0.594    -238.425     136.363C(DiscountGrouped)[T.3.0]:C(CategoryName, sum_con_cat)[S.7]    75.0655    157.194      0.478      0.633    -233.029     383.160C(DiscountGrouped)[T.4.0]:C(CategoryName, sum_con_cat)[S.7]   220.7109    142.485      1.549      0.121     -58.555     499.976C(DiscountGrouped)[T.5.0]:C(CategoryName, sum_con_cat)[S.7]  -222.4185    139.436     -1.595      0.111    -495.708      50.871\n"
     ]
    }
   ],
   "source": [
    "# particularly in relation to discount that we are interested\n",
    "lm = smf.ols('SalePrice ~ C(DiscountBinary) * C(CategoryName, sum_con_cat)', data = product).fit(cov_type='HC3')\n",
    "print(lm.summary())\n",
    "print('\\n')\n",
    "print('C(DiscountGrouped)[T.1.0]:C(CategoryName, sum_con_cat)[S.7]  -261.0766    138.203     -1.889      0.059    -531.950       9.797'\n",
    "'C(DiscountGrouped)[T.2.0]:C(CategoryName, sum_con_cat)[S.7]   -51.0310     95.611     -0.534      0.594    -238.425     136.363'\n",
    "'C(DiscountGrouped)[T.3.0]:C(CategoryName, sum_con_cat)[S.7]    75.0655    157.194      0.478      0.633    -233.029     383.160'\n",
    "'C(DiscountGrouped)[T.4.0]:C(CategoryName, sum_con_cat)[S.7]   220.7109    142.485      1.549      0.121     -58.555     499.976'\n",
    "'C(DiscountGrouped)[T.5.0]:C(CategoryName, sum_con_cat)[S.7]  -222.4185    139.436     -1.595      0.111    -495.708      50.871')"
   ]
  },
  {
   "cell_type": "markdown",
   "metadata": {},
   "source": [
    "Changes in effect/ significance due to transformation of Y warrant investigation for final descisions on what to accept. "
   ]
  },
  {
   "cell_type": "code",
   "execution_count": 154,
   "metadata": {
    "scrolled": false
   },
   "outputs": [
    {
     "name": "stdout",
     "output_type": "stream",
     "text": [
      "CategoryName    CategoryId  DiscountGrouped\n",
      "Beverages       1           0.0                 661.521341\n",
      "                            1.0                1872.038462\n",
      "                            2.0                 613.270000\n",
      "                            3.0                 455.347222\n",
      "                            4.0                1102.967949\n",
      "                            5.0                 732.343750\n",
      "Condiments      2           0.0                 491.999237\n",
      "                            1.0                 668.102500\n",
      "                            2.0                 471.934783\n",
      "                            3.0                 830.152941\n",
      "                            4.0                 585.346429\n",
      "                            5.0                1033.372727\n",
      "Confections     3           0.0                 577.524050\n",
      "                            1.0                 680.040323\n",
      "                            2.0                 394.215333\n",
      "                            3.0                 670.104828\n",
      "                            4.0                 360.013529\n",
      "                            5.0                 606.027778\n",
      "Dairy Products  4           0.0                 651.529018\n",
      "                            1.0                 782.050000\n",
      "                            2.0                 709.373077\n",
      "                            3.0                1005.634615\n",
      "                            4.0                 839.589286\n",
      "                            5.0                1082.050000\n",
      "Grains/Cereals  5           0.0                 529.379699\n",
      "                            1.0                 512.541667\n",
      "                            2.0                 736.275000\n",
      "                            3.0                 504.200000\n",
      "                            4.0                 605.300000\n",
      "                            5.0                 573.050000\n",
      "Meat/Poultry    6           0.0                 973.100722\n",
      "                            1.0                 850.580000\n",
      "                            2.0                1308.176000\n",
      "                            3.0                 959.262222\n",
      "                            4.0                 605.459091\n",
      "                            5.0                2125.006842\n",
      "Produce         7           0.0                 736.031868\n",
      "                            1.0                1274.483333\n",
      "                            2.0                 931.416667\n",
      "                            3.0                 879.180000\n",
      "                            4.0                 863.041667\n",
      "                            5.0                 846.187500\n",
      "Seafood         8           0.0                 404.881077\n",
      "                            1.0                 394.900714\n",
      "                            2.0                 424.213548\n",
      "                            3.0                 588.212500\n",
      "                            4.0                 705.783871\n",
      "                            5.0                 490.253200\n",
      "Name: SalePrice, dtype: float64\n"
     ]
    }
   ],
   "source": [
    "print(product.groupby(['CategoryName', 'CategoryId', 'DiscountGrouped'])['SalePrice'].mean())"
   ]
  },
  {
   "cell_type": "markdown",
   "metadata": {},
   "source": [
    "```\n",
    "OLS Regression Results                           \n",
    "==============================================================================\n",
    "Dep. Variable:              SalePrice   R-squared:                       0.058\n",
    "Model:                            OLS   Adj. R-squared:                  0.037\n",
    "Method:                 Least Squares   F-statistic:                     2.669\n",
    "Date:                Wed, 19 Dec 2018   Prob (F-statistic):           9.67e-09\n",
    "Time:                        08:36:10   Log-Likelihood:                -18104.\n",
    "No. Observations:                2155   AIC:                         3.630e+04\n",
    "Df Residuals:                    2107   BIC:                         3.658e+04\n",
    "Df Model:                          47                                         \n",
    "Covariance Type:                  HC3                                         \n",
    "===================================================================================================================\n",
    "                                                  coef      std err        z        P>|z|     [0.025      0.975]\n",
    "-------------------------------------------------------------------------------------------------------------------\n",
    "Intercept                                       628.2459     27.435     22.900      0.000     574.475     682.017\n",
    "C(DiscountGrouped)[0 - 5%  vs  0]               251.0962    122.488      2.050      0.040      11.024     491.169\n",
    "C(DiscountGrouped)[5 - 10%  vs 0]               70.3634     68.847      1.022      0.307     -64.574     205.301\n",
    "C(DiscountGrouped)[10 - 15% vs 0]               108.2659     77.604      1.395      0.163     -43.835     260.367\n",
    "C(DiscountGrouped)[15 - 20% vs 0]               80.1919     90.890      0.882      0.378     -97.949     258.333\n",
    "C(DiscountGrouped)[20 - 25% vs 0]               307.7906    111.321      2.765      0.006      89.606     525.975\n",
    "\n",
    "C(Confections vs All Other Categories)          -50.7218     51.000     -0.995      0.320    -150.679      49.236\n",
    "\n",
    "C(DiscountGrouped)[0 - 5% vs 0]:C(Confections)  -148.5800    190.151     -0.781      0.435    -521.270     224.110\n",
    "C(DiscountGrouped)[5-10%  vs 0]:C(Confections)  -253.6721    106.945     -2.372      0.018    -463.281     -44.063\n",
    "C(DiscountGrouped)[10-15% vs 0]:C(Confections)   -15.6851    150.139     -0.104      0.917    -309.952     278.582\n",
    "C(DiscountGrouped)[15-20% vs 0]:C(Confections)  -297.7024    130.659     -2.278      0.023    -553.790     -41.615\n",
    "C(DiscountGrouped)[20-25% vs 0]:C(Confections)  -279.2869    145.675     -1.917      0.055    -564.805       6.232\n",
    "\n",
    "```\n",
    "\n",
    "\n",
    "```\n",
    "         Confections     \n",
    "Discount            Mean Sales\n",
    "------------------------------\n",
    "[0] None                577.524050\n",
    "[1] 0 > to 5%           680.040323\n",
    "[2] 5 - 10%             394.215333\n",
    "[3] 10 - 15%            670.104828\n",
    "[4] 15 - 20%            360.013529\n",
    "[5] 20 - 25%            606.027778\n",
    "------------------------------\n",
    "\n",
    "```\n",
    "\n",
    "\n",
    "For all categories, only one - Confections - indicated a significant difference for discount vs no discount conditions. This interaction was followed up with a more detailed analysis of the levels of discount that may be responsible for the observed difference. Once again, each level of discount was compared with the no discount condition to test the null hypothesis:\n",
    "\n",
    "H0: Discounted and non-discounted sales were equivalent\n",
    "\n",
    "Discounts between 5 and 10% were related to significantly less sales for Confections. To understand the coefficient within the regression equation:\n",
    "\n",
    "The regression equation for the 5-10% discount condition on Confections:\n",
    "Y = B0 + B1*X + B2*X + B3*X, \n",
    "\n",
    "where B0 (Intercept) = 628.25, B1(Category Main Effect) = -50.72, B2(Discount Main Effect) = 70.36, \n",
    "      B3(Category*Discount Interaction) = -253.67\n",
    "\n",
    "The mean difference between Confections and all other categories is 628.2459 + (-50.7218) = 577.5241\n",
    "The mean difference in 5-10% vs no discount comparison for all categories is: 577.5241 + 70.3624 = 647.8865\n",
    "\n",
    "The mean for 5 - 10% discount for Confections is: 647.8865 + (-253.6721) = 394.214.\n",
    "\n",
    "Therefore, although sales were generally lower for confections compared with other product categories, this difference was not significant. However, relative to other categories, Confections were more likely to have reduced sales when discounts of either 5-10% and 15-20% were offered. Even though the 20-25% category of discount was not significant, we see a similar trend towards significance and reduced sales. \n",
    "\n",
    "Looking at the means for Confections and levels of discount, it's obvious that Sales were higher for the 20 - 25% bracket compared with the no discount bracket for Confections. It is important to interpret the coefficients here appropriately:\n",
    "Despite higher sales within Confections, when this category is compared with other categories for this level of discount, there is a relative reduction in Sales of $279.29. Likewise, when compared with all other categories, there was a relative reduction in sales for the other two discount categories.   \n",
    "\n",
    "When we run a set of significance tests on Confections below it shows a non significant effect for discount on sales. This test was adequately powered for a 0.2 and up effect size; therefore any effect smaller than 0.2 may not be detected due to sample size, but arguably, such a small effect is of no significance anyway. \n",
    "\n",
    "In conclusion then, while Sales overall were significantly increased for some discount compared with no discount, the effect size for this increase was small. The level of discount offered did not appear to increase Sales for any one category. Cpmpared with all other categories, certain levels of discount appeared to be related to less Sales for Confections. My suggestion based on this is to keep discount to a minimum level across all categories. \n",
    "\n"
   ]
  },
  {
   "cell_type": "code",
   "execution_count": 175,
   "metadata": {},
   "outputs": [
    {
     "data": {
      "text/plain": [
       "0.8108318932733938"
      ]
     },
     "execution_count": 175,
     "metadata": {},
     "output_type": "execute_result"
    }
   ],
   "source": [
    "FTestPower().solve_power(effect_size=0.2, df_num=328, df_denom=5, alpha=0.05)"
   ]
  },
  {
   "cell_type": "code",
   "execution_count": 166,
   "metadata": {},
   "outputs": [
    {
     "name": "stdout",
     "output_type": "stream",
     "text": [
      "                            OLS Regression Results                            \n",
      "==============================================================================\n",
      "Dep. Variable:              SalePrice   R-squared:                       0.016\n",
      "Model:                            OLS   Adj. R-squared:                  0.001\n",
      "Method:                 Least Squares   F-statistic:                     1.876\n",
      "Date:                Wed, 19 Dec 2018   Prob (F-statistic):             0.0981\n",
      "Time:                        12:52:49   Log-Likelihood:                -2647.7\n",
      "No. Observations:                 334   AIC:                             5307.\n",
      "Df Residuals:                     328   BIC:                             5330.\n",
      "Df Model:                           5                                         \n",
      "Covariance Type:                  HC3                                         \n",
      "=============================================================================================\n",
      "                                coef    std err          z      P>|z|      [0.025      0.975]\n",
      "---------------------------------------------------------------------------------------------\n",
      "Intercept                   577.5240     49.643     11.634      0.000     480.226     674.822\n",
      "C(DiscountGrouped)[T.1.0]   102.5163    167.945      0.610      0.542    -226.650     431.683\n",
      "C(DiscountGrouped)[T.2.0]  -183.3087     94.498     -1.940      0.052    -368.521       1.904\n",
      "C(DiscountGrouped)[T.3.0]    92.5808    148.411      0.624      0.533    -198.299     383.460\n",
      "C(DiscountGrouped)[T.4.0]  -217.5105    108.387     -2.007      0.045    -429.946      -5.075\n",
      "C(DiscountGrouped)[T.5.0]    28.5037    108.499      0.263      0.793    -184.150     241.157\n",
      "==============================================================================\n",
      "Omnibus:                      238.537   Durbin-Watson:                   1.809\n",
      "Prob(Omnibus):                  0.000   Jarque-Bera (JB):             2492.780\n",
      "Skew:                           2.966   Prob(JB):                         0.00\n",
      "Kurtosis:                      14.997   Cond. No.                         4.97\n",
      "==============================================================================\n",
      "\n",
      "Warnings:\n",
      "[1] Standard Errors are heteroscedasticity robust (HC3)\n"
     ]
    }
   ],
   "source": [
    "confections = product.loc[product['CategoryId'] == 3]\n",
    "lm = smf.ols('SalePrice ~ C(DiscountGrouped)', data = confections).fit(cov_type='HC3')\n",
    "print(lm.summary())\n"
   ]
  },
  {
   "cell_type": "markdown",
   "metadata": {},
   "source": [
    "The above indicates that Sales and Quantity did not differ as a function of product category. \n",
    "\n",
    "Furthermore, there were no interaction effects for category by discount - offering a discount did not impact the quantity sold for any category (compared with all other categories). So no categories stood out in terms of discount on quantity. \n",
    "\n",
    "However, offering a discount did influence the overall sales price for seafood compared with other categories. In particular, the mean Sales Price for discounted condiments was 189.41 Euro more (M = 681.07) than non discounted condiments (M = 492.00), when a discount was offered. "
   ]
  },
  {
   "cell_type": "code",
   "execution_count": 63,
   "metadata": {
    "scrolled": false
   },
   "outputs": [
    {
     "data": {
      "text/plain": [
       "<matplotlib.axes._subplots.AxesSubplot at 0x25d8e731f98>"
      ]
     },
     "execution_count": 63,
     "metadata": {},
     "output_type": "execute_result"
    },
    {
     "data": {
      "image/png": "[encoded data removed]",
      "text/plain": [
       "<Figure size 432x288 with 1 Axes>"
      ]
     },
     "metadata": {},
     "output_type": "display_data"
    }
   ],
   "source": [
    "product.groupby(['DiscountBinary', 'CategoryName'])['SalePrice'].mean().plot(kind='bar')\n",
    "#product.groupby(['CategoryName'])['SalePrice'].mean()\n",
    "#product.groupby(['DiscountBinary'])['SalePrice'].mean()\n",
    "#product['SalePrice'].mean()\n",
    "#product.groupby(['CategoryName','DiscountGrouped']).mean()"
   ]
  },
  {
   "cell_type": "code",
   "execution_count": 64,
   "metadata": {},
   "outputs": [],
   "source": [
    "def boxplot(data, x, y, xlabel, ylabel, title):\n",
    "    meanpointprops = dict(marker='D', markeredgecolor='black',\n",
    "                      markerfacecolor='firebrick')\n",
    "    fig, axes = plt.subplots(1, figsize=(9,6))\n",
    "    sns.boxplot(x=x, y=y, data=data, ax=axes, palette=(\"husl\"), boxprops=dict(alpha=.8), \n",
    "                showmeans=True, meanprops=meanpointprops)\n",
    "    sns.swarmplot(x=x, y=y, data=data, color=\"grey\", alpha=0.6)\n",
    "    plt.xticks(fontsize=10)\n",
    "    plt.xlabel(xlabel, fontsize=12)\n",
    "    plt.ylabel(ylabel, fontsize=12)\n",
    "    plt.title(title, fontsize=14);"
   ]
  },
  {
   "cell_type": "markdown",
   "metadata": {},
   "source": [
    "Finally, it's important to understand how important quantity is to predicting Sales. Both Quantity and Sales come from skewed distributions (see below). Square root and log transforming these distributions does help reduce the influence of outliers. However, it is not certain whether assuming a Gaussian distribution for Sales Price and Quantity improves prediction and understanding of what is driving these variables.  "
   ]
  },
  {
   "cell_type": "code",
   "execution_count": 65,
   "metadata": {},
   "outputs": [
    {
     "name": "stderr",
     "output_type": "stream",
     "text": [
      "C:\\Users\\Danyal\\Anaconda3\\envs\\learn-env\\lib\\site-packages\\scipy\\stats\\stats.py:1713: FutureWarning: Using a non-tuple sequence for multidimensional indexing is deprecated; use `arr[tuple(seq)]` instead of `arr[seq]`. In the future this will be interpreted as an array index, `arr[np.array(seq)]`, which will result either in an error or a different result.\n",
      "  return np.add.reduce(sorted[indexer] * weights, axis=axis) / sumval\n"
     ]
    },
    {
     "data": {
      "image/png": "[encoded data removed]",
      "text/plain": [
       "<Figure size 720x360 with 2 Axes>"
      ]
     },
     "metadata": {},
     "output_type": "display_data"
    }
   ],
   "source": [
    "fig, (ax1, ax2) = plt.subplots(1,2, figsize = (10,5))\n",
    "\n",
    "sns.distplot(product.Quantity, ax=ax1)\n",
    "sns.distplot(np.sqrt(product.Quantity), ax=ax2);"
   ]
  },
  {
   "cell_type": "code",
   "execution_count": 66,
   "metadata": {},
   "outputs": [
    {
     "name": "stderr",
     "output_type": "stream",
     "text": [
      "C:\\Users\\Danyal\\Anaconda3\\envs\\learn-env\\lib\\site-packages\\scipy\\stats\\stats.py:1713: FutureWarning: Using a non-tuple sequence for multidimensional indexing is deprecated; use `arr[tuple(seq)]` instead of `arr[seq]`. In the future this will be interpreted as an array index, `arr[np.array(seq)]`, which will result either in an error or a different result.\n",
      "  return np.add.reduce(sorted[indexer] * weights, axis=axis) / sumval\n"
     ]
    },
    {
     "data": {
      "image/png": "[encoded data removed]",
      "text/plain": [
       "<Figure size 720x360 with 2 Axes>"
      ]
     },
     "metadata": {},
     "output_type": "display_data"
    }
   ],
   "source": [
    "fig, (ax1, ax2) = plt.subplots(1,2,figsize = (10,5))\n",
    "\n",
    "sns.distplot(product.SalePrice, ax=ax1)\n",
    "sns.distplot(np.log(product.SalePrice), ax=ax2);\n"
   ]
  },
  {
   "cell_type": "code",
   "execution_count": 67,
   "metadata": {},
   "outputs": [
    {
     "name": "stdout",
     "output_type": "stream",
     "text": [
      "[[ 1.  0.  0.  0.  0.  0.  0.]\n",
      " [ 0.  1.  0.  0.  0.  0.  0.]\n",
      " [ 0.  0.  1.  0.  0.  0.  0.]\n",
      " [ 0.  0.  0.  1.  0.  0.  0.]\n",
      " [ 0.  0.  0.  0.  1.  0.  0.]\n",
      " [ 0.  0.  0.  0.  0.  1.  0.]\n",
      " [ 0.  0.  0.  0.  0.  0.  1.]\n",
      " [-1. -1. -1. -1. -1. -1. -1.]]\n"
     ]
    }
   ],
   "source": [
    "from patsy.contrasts import Sum\n",
    "\n",
    "levels = [i for i in range(len(set(product.CategoryId)))]\n",
    "\n",
    "sum_contrast = Sum().code_without_intercept(levels)\n",
    "\n",
    "print(sum_contrast.matrix)"
   ]
  },
  {
   "cell_type": "code",
   "execution_count": 70,
   "metadata": {},
   "outputs": [
    {
     "name": "stdout",
     "output_type": "stream",
     "text": [
      "                            OLS Regression Results                            \n",
      "==============================================================================\n",
      "Dep. Variable:               Quantity   R-squared:                       0.002\n",
      "Model:                            OLS   Adj. R-squared:                 -0.002\n",
      "Method:                 Least Squares   F-statistic:                    0.5174\n",
      "Date:                Mon, 17 Dec 2018   Prob (F-statistic):              0.822\n",
      "Time:                        14:38:45   Log-Likelihood:                -9403.3\n",
      "No. Observations:                2155   AIC:                         1.882e+04\n",
      "Df Residuals:                    2147   BIC:                         1.887e+04\n",
      "Df Model:                           7                                         \n",
      "Covariance Type:                  HC3                                         \n",
      "====================================================================================================\n",
      "                                       coef    std err          z      P>|z|      [0.025      0.975]\n",
      "----------------------------------------------------------------------------------------------------\n",
      "Intercept                           23.6998      0.448     52.934      0.000      22.822      24.577\n",
      "C(CategoryId, sum_contrast)[S.0]    -0.1057      0.942     -0.112      0.911      -1.953       1.741\n",
      "C(CategoryId, sum_contrast)[S.1]     0.8280      1.250      0.662      0.508      -1.622       3.278\n",
      "C(CategoryId, sum_contrast)[S.2]    -0.0291      0.934     -0.031      0.975      -1.859       1.801\n",
      "C(CategoryId, sum_contrast)[S.3]     1.2975      0.963      1.348      0.178      -0.589       3.184\n",
      "C(CategoryId, sum_contrast)[S.4]    -0.4242      1.217     -0.348      0.727      -2.810       1.962\n",
      "C(CategoryId, sum_contrast)[S.5]     0.5719      1.535      0.373      0.709      -2.437       3.581\n",
      "C(CategoryId, sum_contrast)[S.6]    -1.7145      1.449     -1.183      0.237      -4.555       1.126\n",
      "==============================================================================\n",
      "Omnibus:                      789.762   Durbin-Watson:                   1.623\n",
      "Prob(Omnibus):                  0.000   Jarque-Bera (JB):             3049.724\n",
      "Skew:                           1.781   Prob(JB):                         0.00\n",
      "Kurtosis:                       7.612   Cond. No.                         4.29\n",
      "==============================================================================\n",
      "\n",
      "Warnings:\n",
      "[1] Standard Errors are heteroscedasticity robust (HC3)\n"
     ]
    }
   ],
   "source": [
    "lm = smf.ols('Quantity ~ C(CategoryId, sum_contrast)', data = product).fit(cov_type='HC3')\n",
    "print(lm.summary())"
   ]
  },
  {
   "cell_type": "code",
   "execution_count": null,
   "metadata": {},
   "outputs": [],
   "source": []
  },
  {
   "cell_type": "code",
   "execution_count": 72,
   "metadata": {},
   "outputs": [
    {
     "name": "stdout",
     "output_type": "stream",
     "text": [
      "                              Quantity                                       \\\n",
      "                                 count   mean    std  min   25%   50%   75%   \n",
      "CategoryName   DiscountBinary                                                 \n",
      "Beverages      0.0               246.0  20.80  16.54  2.0  10.0  19.0  30.0   \n",
      "               1.0               158.0  27.95  22.15  2.0  12.0  20.5  39.0   \n",
      "Condiments     0.0               131.0  21.32  15.27  1.0  10.0  20.0  30.0   \n",
      "               1.0                85.0  29.47  24.46  1.0  12.0  20.0  35.0   \n",
      "Confections    0.0               200.0  23.09  17.84  1.0  10.0  20.0  30.0   \n",
      "               1.0               134.0  24.54  16.39  1.0  12.0  21.0  35.0   \n",
      "Dairy Products 0.0               224.0  22.17  17.18  1.0  10.0  20.0  30.0   \n",
      "               1.0               142.0  29.46  20.38  2.0  15.0  24.0  42.0   \n",
      "Grains/Cereals 0.0               133.0  22.74  18.45  2.0   9.0  20.0  30.0   \n",
      "               1.0                63.0  24.40  17.92  2.0  13.0  20.0  30.0   \n",
      "Meat/Poultry   0.0                97.0  20.72  19.71  2.0  10.0  15.0  25.0   \n",
      "               1.0                76.0  28.80  24.49  2.0  10.0  20.5  37.0   \n",
      "Produce        0.0                91.0  20.96  16.50  2.0   9.5  18.0  28.0   \n",
      "               1.0                45.0  24.07  22.04  1.0  10.0  20.0  30.0   \n",
      "Seafood        0.0               195.0  21.36  18.89  1.0  10.0  15.0  30.0   \n",
      "               1.0               135.0  26.04  19.28  2.0  14.0  21.0  30.0   \n",
      "\n",
      "                                     SalePrice                           \\\n",
      "                                 max     count     mean      std    min   \n",
      "CategoryName   DiscountBinary                                             \n",
      "Beverages      0.0             110.0     246.0   661.52  1750.66  13.50   \n",
      "               1.0             130.0     158.0   929.42  2218.29  27.00   \n",
      "Condiments     0.0              70.0     131.0   492.00   470.18  17.00   \n",
      "               1.0             120.0      85.0   681.07   695.03  25.00   \n",
      "Confections    0.0             120.0     200.0   577.52   700.30   9.20   \n",
      "               1.0              80.0     134.0   558.39   642.88  34.90   \n",
      "Dairy Products 0.0             110.0     224.0   651.53   741.67  12.50   \n",
      "               1.0             100.0     142.0   867.51   848.40  10.00   \n",
      "Grains/Cereals 0.0             130.0     133.0   529.38   596.61  14.00   \n",
      "               1.0             100.0      63.0   578.42   500.99  28.00   \n",
      "Meat/Poultry   0.0             120.0      97.0   973.10  1431.70  22.35   \n",
      "               1.0             120.0      76.0  1267.00  1532.59  22.35   \n",
      "Produce        0.0              90.0      91.0   736.03   597.29  50.00   \n",
      "               1.0             120.0      45.0   987.02  1154.96  23.25   \n",
      "Seafood        0.0             120.0     195.0   404.88   444.25   6.00   \n",
      "               1.0             100.0     135.0   519.32   521.94  12.00   \n",
      "\n",
      "                                                                 \n",
      "                                  25%     50%      75%      max  \n",
      "CategoryName   DiscountBinary                                    \n",
      "Beverages      0.0             108.00  252.00   493.75  15810.0  \n",
      "               1.0             157.50  360.00   720.00  15810.0  \n",
      "Condiments     0.0             195.00  400.00   620.00   2853.5  \n",
      "               1.0             264.00  427.50   855.00   3512.0  \n",
      "Confections    0.0             147.90  358.75   659.38   5268.0  \n",
      "               1.0             172.88  390.00   696.05   4050.0  \n",
      "Dairy Products 0.0             193.12  425.00   827.55   6050.0  \n",
      "               1.0             303.88  691.75  1135.00   5500.0  \n",
      "Grains/Cereals 0.0             140.00  360.00   760.00   4322.5  \n",
      "               1.0             185.00  456.00   760.00   2280.0  \n",
      "Meat/Poultry   0.0             196.80  480.00  1237.90   9903.2  \n",
      "               1.0             257.46  720.00  1603.26   7427.4  \n",
      "Produce        0.0             256.80  540.00  1060.00   2700.0  \n",
      "               1.0             300.00  592.80  1368.00   6360.0  \n",
      "Seafood        0.0             115.80  265.00   508.90   3125.0  \n",
      "               1.0             174.00  380.00   730.46   3100.0  \n"
     ]
    }
   ],
   "source": []
  },
  {
   "cell_type": "code",
   "execution_count": null,
   "metadata": {},
   "outputs": [],
   "source": [
    "print(product.Quantity.mean())\n",
    "print(product.SalePrice.mean())"
   ]
  },
  {
   "cell_type": "code",
   "execution_count": null,
   "metadata": {
    "scrolled": true
   },
   "outputs": [],
   "source": [
    "product.groupby('PriceLevels')['Quantity'].describe().round(3)\n"
   ]
  },
  {
   "cell_type": "code",
   "execution_count": null,
   "metadata": {},
   "outputs": [],
   "source": []
  },
  {
   "cell_type": "code",
   "execution_count": null,
   "metadata": {},
   "outputs": [],
   "source": []
  },
  {
   "cell_type": "code",
   "execution_count": null,
   "metadata": {},
   "outputs": [],
   "source": []
  },
  {
   "cell_type": "code",
   "execution_count": null,
   "metadata": {},
   "outputs": [],
   "source": []
  },
  {
   "cell_type": "code",
   "execution_count": null,
   "metadata": {},
   "outputs": [],
   "source": []
  },
  {
   "cell_type": "code",
   "execution_count": null,
   "metadata": {},
   "outputs": [],
   "source": []
  },
  {
   "cell_type": "code",
   "execution_count": null,
   "metadata": {},
   "outputs": [],
   "source": [
    "product.groupby('ShipRegion').mean()"
   ]
  },
  {
   "cell_type": "code",
   "execution_count": null,
   "metadata": {},
   "outputs": [],
   "source": [
    "# Does Discount vary significantly by Region?\n",
    "levels = [i for i in range(len(set(product.EmployeeId)))]\n",
    "\n",
    "sum_con_emp = Sum().code_without_intercept(levels)\n",
    "\n",
    "print(sum_contrast.matrix)"
   ]
  },
  {
   "cell_type": "code",
   "execution_count": null,
   "metadata": {
    "scrolled": false
   },
   "outputs": [],
   "source": [
    "lm = smf.ols('LogQuantity ~ C(EmployeeId, sum_con_emp)', data = product).fit(cov_type='HC3')\n",
    "print(lm.summary())"
   ]
  },
  {
   "cell_type": "code",
   "execution_count": null,
   "metadata": {},
   "outputs": [],
   "source": [
    "lm = smf.ols('LogQuantity ~ C(EmployeeId, sum_con_emp) * C(DiscountBinary)', data = product).fit(cov_type='HC3')\n",
    "print(lm.summary())"
   ]
  },
  {
   "cell_type": "code",
   "execution_count": null,
   "metadata": {
    "scrolled": false
   },
   "outputs": [],
   "source": [
    "lm = smf.ols('LogSales ~ C(EmployeeId, sum_con_emp) * C(DiscountBinary)', data = product).fit(cov_type='HC3')\n",
    "print(lm.summary())"
   ]
  },
  {
   "cell_type": "code",
   "execution_count": null,
   "metadata": {},
   "outputs": [],
   "source": [
    "lm = smf.ols('LogSales ~ C(EmployeeId, sum_con_emp)', data = product).fit(cov_type='HC3')\n",
    "print(lm.summary())"
   ]
  },
  {
   "cell_type": "code",
   "execution_count": null,
   "metadata": {},
   "outputs": [],
   "source": [
    "lm = smf.ols('Quantity ~ DiscountAmount * C(CategoryId)', data = product).fit(cov_type='HC3')\n",
    "print(lm.summary())"
   ]
  },
  {
   "cell_type": "code",
   "execution_count": null,
   "metadata": {},
   "outputs": [],
   "source": [
    "employee_contrast = product.loc[product['EmployeeId'] == 8]"
   ]
  },
  {
   "cell_type": "code",
   "execution_count": null,
   "metadata": {},
   "outputs": [],
   "source": [
    "product['SalesRatio'] = product.ExtendedPrice/product.SalePrice\n",
    "product['DiscountAmount'] = product.Discount * product.SalePrice"
   ]
  },
  {
   "cell_type": "code",
   "execution_count": null,
   "metadata": {},
   "outputs": [],
   "source": [
    "product.DiscountAmount.hist()"
   ]
  },
  {
   "cell_type": "code",
   "execution_count": null,
   "metadata": {},
   "outputs": [],
   "source": [
    "product.DiscountAmount.describe()"
   ]
  },
  {
   "cell_type": "code",
   "execution_count": null,
   "metadata": {},
   "outputs": [],
   "source": [
    "product.groupby('EmployeeId')['SalesRatio'].mean()"
   ]
  },
  {
   "cell_type": "code",
   "execution_count": null,
   "metadata": {},
   "outputs": [],
   "source": [
    "len(employee_contrast)\n",
    "employee_contrast.groupby('DiscountGrouped')['SalePrice'].mean().plot();"
   ]
  },
  {
   "cell_type": "code",
   "execution_count": null,
   "metadata": {},
   "outputs": [],
   "source": [
    "product.groupby('DiscountGrouped')['SalePrice'].median().plot()"
   ]
  },
  {
   "cell_type": "code",
   "execution_count": null,
   "metadata": {},
   "outputs": [],
   "source": [
    "levels = [i for i in range(len(set(employee_contrast.CategoryId)))]\n",
    "\n",
    "sum_con = Sum().code_without_intercept(levels)\n",
    "\n",
    "print(sum_contrast.matrix)"
   ]
  },
  {
   "cell_type": "code",
   "execution_count": null,
   "metadata": {},
   "outputs": [],
   "source": [
    "lm = smf.ols('SalePrice ~ C(DiscountBinary) * C(CategoryId, sum_con)', data = employee_contrast).fit(cov_type='HC3')\n",
    "print(lm.summary())"
   ]
  },
  {
   "cell_type": "code",
   "execution_count": null,
   "metadata": {},
   "outputs": [],
   "source": [
    "product.groupby(['EmployeeId', 'DiscountBinary'])['Quantity', 'SalePrice'].mean()"
   ]
  },
  {
   "cell_type": "code",
   "execution_count": null,
   "metadata": {},
   "outputs": [],
   "source": [
    "product['Sale_z'] = (product['SalePrice'] - product['SalePrice'].mean())/ product.SalePrice.std()"
   ]
  },
  {
   "cell_type": "code",
   "execution_count": null,
   "metadata": {
    "scrolled": false
   },
   "outputs": [],
   "source": [
    "z_hbar(product, 'EmployeeId', 'Sale_z', 'Employee Sales', 'Employee Sales Standardized')"
   ]
  },
  {
   "cell_type": "code",
   "execution_count": null,
   "metadata": {},
   "outputs": [],
   "source": [
    "z_hbar(product, 'EmployeeId', 'SalePrice', 'Employee Sales', 'Employee Sales')"
   ]
  },
  {
   "cell_type": "code",
   "execution_count": null,
   "metadata": {},
   "outputs": [],
   "source": [
    "levels = [i for i in range(len(set(product.ShipRegion)))]\n",
    "\n",
    "sum_con_ship = Sum().code_without_intercept(levels)\n",
    "\n",
    "print(sum_contrast.matrix)"
   ]
  },
  {
   "cell_type": "code",
   "execution_count": null,
   "metadata": {
    "scrolled": false
   },
   "outputs": [],
   "source": [
    "lm = smf.ols('Quantity ~ C(ShipRegion, sum_con_ship)', data = product).fit(cov_type='HC3')\n",
    "print(lm.summary())"
   ]
  },
  {
   "cell_type": "code",
   "execution_count": null,
   "metadata": {
    "scrolled": false
   },
   "outputs": [],
   "source": [
    "lm2 = smf.ols('LogQuantity ~ C(ShipRegion, sum_con_ship) * C(DiscountBinary)', data = product).fit(cov_type='HC3')\n",
    "print(lm.summary())"
   ]
  },
  {
   "cell_type": "code",
   "execution_count": null,
   "metadata": {},
   "outputs": [],
   "source": [
    "test_class = OLSInfluence(lm2)\n",
    "influence = test_class.summary_frame()\n",
    "influence.standard_resid.hist()"
   ]
  },
  {
   "cell_type": "code",
   "execution_count": null,
   "metadata": {
    "scrolled": false
   },
   "outputs": [],
   "source": [
    "lm = smf.ols('LogSales ~ C(ShipRegion, sum_con_ship) * C(DiscountBinary)', data = product).fit(cov_type='HC3')\n",
    "print(lm.summary())"
   ]
  },
  {
   "cell_type": "code",
   "execution_count": null,
   "metadata": {},
   "outputs": [],
   "source": [
    "product.groupby('ShipRegion')['SalePrice', 'Quantity', 'Freight'].mean().round(2)"
   ]
  },
  {
   "cell_type": "code",
   "execution_count": null,
   "metadata": {},
   "outputs": [],
   "source": [
    "lm = smf.ols('Freight ~ C(ShipRegion) * ', data = product).fit(cov_type='HC3')\n",
    "print(lm.summary())"
   ]
  },
  {
   "cell_type": "code",
   "execution_count": null,
   "metadata": {},
   "outputs": [],
   "source": []
  },
  {
   "cell_type": "code",
   "execution_count": null,
   "metadata": {
    "scrolled": false
   },
   "outputs": [],
   "source": [
    "sns.distplot(OLSResults.resid(new));\n",
    "OLSResults.resid(new).mean()"
   ]
  },
  {
   "cell_type": "code",
   "execution_count": null,
   "metadata": {},
   "outputs": [],
   "source": [
    "from statsmodels.stats.outliers_influence import OLSInfluence\n",
    "test_class = OLSInfluence(lm)\n",
    "test_class.dfbetas[:5,:]"
   ]
  },
  {
   "cell_type": "code",
   "execution_count": null,
   "metadata": {},
   "outputs": [],
   "source": [
    "from statsmodels.graphics.regressionplots import plot_leverage_resid2\n",
    "fig, ax = plt.subplots(figsize=(8,6))\n",
    "fig = plot_leverage_resid2(lm, ax = ax)"
   ]
  },
  {
   "cell_type": "code",
   "execution_count": null,
   "metadata": {},
   "outputs": [],
   "source": [
    "dir(test_class);"
   ]
  },
  {
   "cell_type": "code",
   "execution_count": null,
   "metadata": {},
   "outputs": [],
   "source": [
    "name = ['F statistic', 'p-value']\n",
    "test = sms.het_goldfeldquandt(lm.resid, lm.model.exog)\n",
    "list(zip(name, test))"
   ]
  },
  {
   "cell_type": "code",
   "execution_count": null,
   "metadata": {},
   "outputs": [],
   "source": [
    "product.Quantity[1363]\n",
    "product.Quantity[1621]"
   ]
  },
  {
   "cell_type": "code",
   "execution_count": null,
   "metadata": {},
   "outputs": [],
   "source": [
    "# GLM \n",
    "\n",
    "formula = \"\"\"SalePrice ~ C(DiscountBinary)\"\"\"\n",
    "response, predictors = dmatrices(formula, product, return_type='dataframe')\n",
    "po_results = sm.GLM(response, predictors, family=sm.families.Poisson()).fit(cov_type='HC3')\n",
    "print(po_results.summary())"
   ]
  },
  {
   "cell_type": "code",
   "execution_count": null,
   "metadata": {},
   "outputs": [],
   "source": []
  },
  {
   "cell_type": "code",
   "execution_count": null,
   "metadata": {},
   "outputs": [],
   "source": []
  },
  {
   "cell_type": "code",
   "execution_count": null,
   "metadata": {},
   "outputs": [],
   "source": []
  },
  {
   "cell_type": "code",
   "execution_count": null,
   "metadata": {},
   "outputs": [],
   "source": []
  },
  {
   "cell_type": "code",
   "execution_count": null,
   "metadata": {},
   "outputs": [],
   "source": []
  },
  {
   "cell_type": "code",
   "execution_count": null,
   "metadata": {},
   "outputs": [],
   "source": []
  },
  {
   "cell_type": "code",
   "execution_count": null,
   "metadata": {},
   "outputs": [],
   "source": []
  },
  {
   "cell_type": "code",
   "execution_count": null,
   "metadata": {},
   "outputs": [],
   "source": [
    "lm = smf.ols('ExtendedPrice ~ Quantity', data = product).fit()\n",
    "print(lm.summary())"
   ]
  },
  {
   "cell_type": "code",
   "execution_count": null,
   "metadata": {},
   "outputs": [],
   "source": [
    "lm = smf.ols('Quantity ~ OrderPrice', data = product).fit()\n",
    "print(lm.summary())"
   ]
  },
  {
   "cell_type": "code",
   "execution_count": null,
   "metadata": {},
   "outputs": [],
   "source": [
    "product.head()"
   ]
  },
  {
   "cell_type": "code",
   "execution_count": null,
   "metadata": {},
   "outputs": [],
   "source": [
    "from patsy.contrasts import Treatment\n",
    "\n",
    "levels = [1,2,3,4,5,6]\n",
    "\n",
    "contrast = Treatment(reference=0).code_without_intercept(levels)\n",
    "\n",
    "print(contrast.matrix)"
   ]
  },
  {
   "cell_type": "code",
   "execution_count": null,
   "metadata": {
    "scrolled": false
   },
   "outputs": [],
   "source": [
    "lm = smf.ols('Quantity ~ C(DiscountGrouped, contrast)', data = product).fit()\n",
    "print(lm.summary())"
   ]
  },
  {
   "cell_type": "code",
   "execution_count": null,
   "metadata": {},
   "outputs": [],
   "source": [
    "len(product.CategoryId.unique())"
   ]
  },
  {
   "cell_type": "code",
   "execution_count": null,
   "metadata": {},
   "outputs": [],
   "source": []
  },
  {
   "cell_type": "code",
   "execution_count": null,
   "metadata": {},
   "outputs": [],
   "source": []
  },
  {
   "cell_type": "code",
   "execution_count": null,
   "metadata": {},
   "outputs": [],
   "source": [
    "from patsy.contrasts import Helmert\n",
    "\n",
    "helmert = Helmert().code_without_intercept(levels)\n",
    "\n",
    "print(helmert.matrix)"
   ]
  },
  {
   "cell_type": "code",
   "execution_count": null,
   "metadata": {},
   "outputs": [],
   "source": [
    "lm = smf.ols('Quantity ~ C(DiscountGrouped, contrast)', data = product).fit()\n",
    "print(lm.summary())"
   ]
  },
  {
   "cell_type": "code",
   "execution_count": 168,
   "metadata": {},
   "outputs": [
    {
     "name": "stdout",
     "output_type": "stream",
     "text": [
      "Required sample size: 51.05\n"
     ]
    }
   ],
   "source": [
    "effect_size = 0.4\n",
    "alpha = 0.05 # significance level\n",
    "power = 0.8\n",
    "\n",
    "power_analysis = FTestAnovaPower()\n",
    "sample_size = power_analysis.solve_power(effect_size = effect_size, \n",
    "                                         power = power, \n",
    "                                         alpha = alpha)\n",
    "\n",
    "print('Required sample size: {0:.2f}'.format(sample_size))"
   ]
  },
  {
   "cell_type": "code",
   "execution_count": 169,
   "metadata": {},
   "outputs": [
    {
     "ename": "NameError",
     "evalue": "name 'smp' is not defined",
     "output_type": "error",
     "traceback": [
      "\u001b[1;31m---------------------------------------------------------------------------\u001b[0m",
      "\u001b[1;31mNameError\u001b[0m                                 Traceback (most recent call last)",
      "\u001b[1;32m<ipython-input-169-5c4b94c38379>\u001b[0m in \u001b[0;36m<module>\u001b[1;34m()\u001b[0m\n\u001b[1;32m----> 1\u001b[1;33m \u001b[0msmp\u001b[0m\u001b[1;33m.\u001b[0m\u001b[0mFTestPower\u001b[0m\u001b[1;33m(\u001b[0m\u001b[1;33m)\u001b[0m\u001b[1;33m.\u001b[0m\u001b[0msolve_power\u001b[0m\u001b[1;33m(\u001b[0m\u001b[0meffect_size\u001b[0m\u001b[1;33m=\u001b[0m\u001b[1;36m0.1\u001b[0m\u001b[1;33m,\u001b[0m \u001b[0mdf_num\u001b[0m\u001b[1;33m=\u001b[0m\u001b[1;36m2147\u001b[0m\u001b[1;33m,\u001b[0m \u001b[0mdf_denom\u001b[0m\u001b[1;33m=\u001b[0m\u001b[1;36m7\u001b[0m\u001b[1;33m,\u001b[0m \u001b[0malpha\u001b[0m\u001b[1;33m=\u001b[0m\u001b[1;36m0.05\u001b[0m\u001b[1;33m)\u001b[0m\u001b[1;33m\u001b[0m\u001b[0m\n\u001b[0m",
      "\u001b[1;31mNameError\u001b[0m: name 'smp' is not defined"
     ]
    }
   ],
   "source": [
    "smp.FTestPower().solve_power(effect_size=0.1, df_num=2147, df_denom=7, alpha=0.05)"
   ]
  },
  {
   "cell_type": "code",
   "execution_count": null,
   "metadata": {},
   "outputs": [],
   "source": [
    "def ols_categorical_analysis_list(list_df, DV, CV, contrast=None, omit=0, \n",
    "                             CV2=None, contrast2=None, omit2=0, \n",
    "                             NV=None, alpha=0.05, \n",
    "                             power=0.8, effect=0.25, cov_type=None,\n",
    "                             start=0, col1=0, col2=None):\n",
    "    \n",
    "    for ind, df in enumerate(list_df, start=start):\n",
    "        \n",
    "        # contrast matrix\n",
    "        levels = [i for i in range(0, len(set(df[CV])))]\n",
    "        #contrast = Dummy\n",
    "        con_CV = Sum(omit=omit).code_without_intercept(levels)\n",
    "        print(con_CV)\n",
    "        \n",
    "        # formula\n",
    "        if CV2 != None:\n",
    "            levels1 = [i for i in range(len(set(df[CV2])))]\n",
    "            contrast2 = contrast2.upper()\n",
    "            con_CV2 = contrast2(omit=omit).code_without_intercept(levels1)\n",
    "        \n",
    "        if CV2 == None and NV == None:\n",
    "            formula = '{} ~ C({}, {})'.format(DV, CV, con_CV)\n",
    "        elif CV2 != None and NV == None:\n",
    "            formula = '{} ~ C({}, {}) * C({}, {})'.format(DV, CV, con_CV, CV2, con_CV2)\n",
    "        elif CV2 == None and NV != None:\n",
    "            formula = '{} ~ C({}, {}) * {}'.format(DV, CV, con_CV, NV)\n",
    "        else:\n",
    "            formula = '{} ~ C({}, {}) * C({}, {}) * {}'.format(DV, CV, con_CV, CV2, con_CV2, NV)\n",
    "        \n",
    "        \n",
    "        lm = smf.ols(formula, data = df).fit(cov_type=cov_type)\n",
    "        df1 = pd.DataFrame(data = [x for x in lm.summary().tables[1].data[1:] if float(x[4]) < alpha], \n",
    "                          columns = lm.summary().tables[1].data[0])\n",
    "        df1.rename(columns={'': 'OLS'}, inplace=True)\n",
    "        pd.options.display.max_colwidth = 120\n",
    "        \n",
    "        # this tests that each coefficient is jointly statistically significantly different from zero\n",
    "        A = np.identity(len(lm.params))\n",
    "        A = A[1:,:]\n",
    "        \n",
    "        # calculate power already in analysis\n",
    "        import statsmodels.stats.power as smp\n",
    "        from statsmodels.stats.power import TTestIndPower, FTestPower\n",
    "        df_denom = len(i) - 1\n",
    "        pred_power = smp.FTestPower().solve_power(effect_size=effect, \n",
    "                                                  df_num=df_denom, df_denom=1, alpha=alpha)\n",
    "        \n",
    "        # Output\n",
    "        print(i[CV].unique())\n",
    "        print('------------------------------------------------------------------------------')\n",
    "        print(lm.f_test(A))\n",
    "        print('R2 Adjusted: ', lm.rsquared_adj)\n",
    "        print(df1.iloc[:,col1:col2])\n",
    "        print('Power for given sample size for an effect of {}: {}\\n\\n'.format(effect, pred_power))\n",
    "\n",
    "    # calculate required sample size for specified power and alpha values \n",
    "    power_analysis = FTestAnovaPower()\n",
    "    sample_size = power_analysis.solve_power(effect_size = effect, \n",
    "                                         power = power, \n",
    "                                         alpha = alpha)\n",
    "    print('Required sample size for power {} and effect size {}: {}'.format(power, effect, round(sample_size)))"
   ]
  },
  {
   "cell_type": "markdown",
   "metadata": {},
   "source": [
    "Further investigation before final decision:\n",
    "1) Is the effect of discount on Quantity or Sales Price modulated by time? In other words, does offering larger discounts earlier on result in more sales over time for any customers? "
   ]
  }
 ],
 "metadata": {
  "kernelspec": {
   "display_name": "Python 3",
   "language": "python",
   "name": "python3"
  },
  "language_info": {
   "codemirror_mode": {
    "name": "ipython",
    "version": 3
   },
   "file_extension": ".py",
   "mimetype": "text/x-python",
   "name": "python",
   "nbconvert_exporter": "python",
   "pygments_lexer": "ipython3",
   "version": "3.6.6"
  }
 },
 "nbformat": 4,
 "nbformat_minor": 2
}
